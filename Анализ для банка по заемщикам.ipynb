{
 "cells": [
  {
   "cell_type": "markdown",
   "id": "1e6e25fd",
   "metadata": {},
   "source": [
    "\n",
    "# Исследование надежности заемщиков."
   ]
  },
  {
   "cell_type": "markdown",
   "id": "6ae76b72",
   "metadata": {},
   "source": [
    "**Цель исследования:** проверить влияет ли семейное положение и количество детей клиента на факт погашения кредита в срок. \n",
    "\n",
    "**Ход исследования**\n",
    "Входные данные от банка — статистика о платёжеспособности клиентов.\n",
    "Результаты исследования будут учтены при построении модели кредитного скоринга — специальной системы, которая оценивает способность потенциального заёмщика вернуть кредит банку.\n",
    "1. Обзор данных \n",
    "2. Предобработка данных \n",
    "3. Проверка гипотез\n"
   ]
  },
  {
   "cell_type": "markdown",
   "id": "f1d3f707",
   "metadata": {},
   "source": [
    "### Шаг 1. Обзор данных"
   ]
  },
  {
   "cell_type": "code",
   "execution_count": 315,
   "id": "d8335f2c",
   "metadata": {},
   "outputs": [],
   "source": [
    "import pandas as pd"
   ]
  },
  {
   "cell_type": "code",
   "execution_count": 316,
   "id": "2e755be9",
   "metadata": {},
   "outputs": [
    {
     "name": "stdout",
     "output_type": "stream",
     "text": [
      "<class 'pandas.core.frame.DataFrame'>\n",
      "RangeIndex: 21525 entries, 0 to 21524\n",
      "Data columns (total 12 columns):\n",
      "children            21525 non-null int64\n",
      "days_employed       19351 non-null float64\n",
      "dob_years           21525 non-null int64\n",
      "education           21525 non-null object\n",
      "education_id        21525 non-null int64\n",
      "family_status       21525 non-null object\n",
      "family_status_id    21525 non-null int64\n",
      "gender              21525 non-null object\n",
      "income_type         21525 non-null object\n",
      "debt                21525 non-null int64\n",
      "total_income        19351 non-null float64\n",
      "purpose             21525 non-null object\n",
      "dtypes: float64(2), int64(5), object(5)\n",
      "memory usage: 2.0+ MB\n"
     ]
    }
   ],
   "source": [
    "data = pd.read_csv('/datasets/data.csv')\n",
    "data.info()"
   ]
  },
  {
   "cell_type": "code",
   "execution_count": 317,
   "id": "d5ae08f4",
   "metadata": {
    "scrolled": true
   },
   "outputs": [
    {
     "data": {
      "text/html": [
       "<div>\n",
       "<style scoped>\n",
       "    .dataframe tbody tr th:only-of-type {\n",
       "        vertical-align: middle;\n",
       "    }\n",
       "\n",
       "    .dataframe tbody tr th {\n",
       "        vertical-align: top;\n",
       "    }\n",
       "\n",
       "    .dataframe thead th {\n",
       "        text-align: right;\n",
       "    }\n",
       "</style>\n",
       "<table border=\"1\" class=\"dataframe\">\n",
       "  <thead>\n",
       "    <tr style=\"text-align: right;\">\n",
       "      <th></th>\n",
       "      <th>children</th>\n",
       "      <th>days_employed</th>\n",
       "      <th>dob_years</th>\n",
       "      <th>education</th>\n",
       "      <th>education_id</th>\n",
       "      <th>family_status</th>\n",
       "      <th>family_status_id</th>\n",
       "      <th>gender</th>\n",
       "      <th>income_type</th>\n",
       "      <th>debt</th>\n",
       "      <th>total_income</th>\n",
       "      <th>purpose</th>\n",
       "    </tr>\n",
       "  </thead>\n",
       "  <tbody>\n",
       "    <tr>\n",
       "      <td>0</td>\n",
       "      <td>1</td>\n",
       "      <td>-8437.673028</td>\n",
       "      <td>42</td>\n",
       "      <td>высшее</td>\n",
       "      <td>0</td>\n",
       "      <td>женат / замужем</td>\n",
       "      <td>0</td>\n",
       "      <td>F</td>\n",
       "      <td>сотрудник</td>\n",
       "      <td>0</td>\n",
       "      <td>253875.639453</td>\n",
       "      <td>покупка жилья</td>\n",
       "    </tr>\n",
       "    <tr>\n",
       "      <td>1</td>\n",
       "      <td>1</td>\n",
       "      <td>-4024.803754</td>\n",
       "      <td>36</td>\n",
       "      <td>среднее</td>\n",
       "      <td>1</td>\n",
       "      <td>женат / замужем</td>\n",
       "      <td>0</td>\n",
       "      <td>F</td>\n",
       "      <td>сотрудник</td>\n",
       "      <td>0</td>\n",
       "      <td>112080.014102</td>\n",
       "      <td>приобретение автомобиля</td>\n",
       "    </tr>\n",
       "    <tr>\n",
       "      <td>2</td>\n",
       "      <td>0</td>\n",
       "      <td>-5623.422610</td>\n",
       "      <td>33</td>\n",
       "      <td>Среднее</td>\n",
       "      <td>1</td>\n",
       "      <td>женат / замужем</td>\n",
       "      <td>0</td>\n",
       "      <td>M</td>\n",
       "      <td>сотрудник</td>\n",
       "      <td>0</td>\n",
       "      <td>145885.952297</td>\n",
       "      <td>покупка жилья</td>\n",
       "    </tr>\n",
       "    <tr>\n",
       "      <td>3</td>\n",
       "      <td>3</td>\n",
       "      <td>-4124.747207</td>\n",
       "      <td>32</td>\n",
       "      <td>среднее</td>\n",
       "      <td>1</td>\n",
       "      <td>женат / замужем</td>\n",
       "      <td>0</td>\n",
       "      <td>M</td>\n",
       "      <td>сотрудник</td>\n",
       "      <td>0</td>\n",
       "      <td>267628.550329</td>\n",
       "      <td>дополнительное образование</td>\n",
       "    </tr>\n",
       "    <tr>\n",
       "      <td>4</td>\n",
       "      <td>0</td>\n",
       "      <td>340266.072047</td>\n",
       "      <td>53</td>\n",
       "      <td>среднее</td>\n",
       "      <td>1</td>\n",
       "      <td>гражданский брак</td>\n",
       "      <td>1</td>\n",
       "      <td>F</td>\n",
       "      <td>пенсионер</td>\n",
       "      <td>0</td>\n",
       "      <td>158616.077870</td>\n",
       "      <td>сыграть свадьбу</td>\n",
       "    </tr>\n",
       "    <tr>\n",
       "      <td>5</td>\n",
       "      <td>0</td>\n",
       "      <td>-926.185831</td>\n",
       "      <td>27</td>\n",
       "      <td>высшее</td>\n",
       "      <td>0</td>\n",
       "      <td>гражданский брак</td>\n",
       "      <td>1</td>\n",
       "      <td>M</td>\n",
       "      <td>компаньон</td>\n",
       "      <td>0</td>\n",
       "      <td>255763.565419</td>\n",
       "      <td>покупка жилья</td>\n",
       "    </tr>\n",
       "    <tr>\n",
       "      <td>6</td>\n",
       "      <td>0</td>\n",
       "      <td>-2879.202052</td>\n",
       "      <td>43</td>\n",
       "      <td>высшее</td>\n",
       "      <td>0</td>\n",
       "      <td>женат / замужем</td>\n",
       "      <td>0</td>\n",
       "      <td>F</td>\n",
       "      <td>компаньон</td>\n",
       "      <td>0</td>\n",
       "      <td>240525.971920</td>\n",
       "      <td>операции с жильем</td>\n",
       "    </tr>\n",
       "    <tr>\n",
       "      <td>7</td>\n",
       "      <td>0</td>\n",
       "      <td>-152.779569</td>\n",
       "      <td>50</td>\n",
       "      <td>СРЕДНЕЕ</td>\n",
       "      <td>1</td>\n",
       "      <td>женат / замужем</td>\n",
       "      <td>0</td>\n",
       "      <td>M</td>\n",
       "      <td>сотрудник</td>\n",
       "      <td>0</td>\n",
       "      <td>135823.934197</td>\n",
       "      <td>образование</td>\n",
       "    </tr>\n",
       "    <tr>\n",
       "      <td>8</td>\n",
       "      <td>2</td>\n",
       "      <td>-6929.865299</td>\n",
       "      <td>35</td>\n",
       "      <td>ВЫСШЕЕ</td>\n",
       "      <td>0</td>\n",
       "      <td>гражданский брак</td>\n",
       "      <td>1</td>\n",
       "      <td>F</td>\n",
       "      <td>сотрудник</td>\n",
       "      <td>0</td>\n",
       "      <td>95856.832424</td>\n",
       "      <td>на проведение свадьбы</td>\n",
       "    </tr>\n",
       "    <tr>\n",
       "      <td>9</td>\n",
       "      <td>0</td>\n",
       "      <td>-2188.756445</td>\n",
       "      <td>41</td>\n",
       "      <td>среднее</td>\n",
       "      <td>1</td>\n",
       "      <td>женат / замужем</td>\n",
       "      <td>0</td>\n",
       "      <td>M</td>\n",
       "      <td>сотрудник</td>\n",
       "      <td>0</td>\n",
       "      <td>144425.938277</td>\n",
       "      <td>покупка жилья для семьи</td>\n",
       "    </tr>\n",
       "  </tbody>\n",
       "</table>\n",
       "</div>"
      ],
      "text/plain": [
       "   children  days_employed  dob_years education  education_id  \\\n",
       "0         1   -8437.673028         42    высшее             0   \n",
       "1         1   -4024.803754         36   среднее             1   \n",
       "2         0   -5623.422610         33   Среднее             1   \n",
       "3         3   -4124.747207         32   среднее             1   \n",
       "4         0  340266.072047         53   среднее             1   \n",
       "5         0    -926.185831         27    высшее             0   \n",
       "6         0   -2879.202052         43    высшее             0   \n",
       "7         0    -152.779569         50   СРЕДНЕЕ             1   \n",
       "8         2   -6929.865299         35    ВЫСШЕЕ             0   \n",
       "9         0   -2188.756445         41   среднее             1   \n",
       "\n",
       "      family_status  family_status_id gender income_type  debt   total_income  \\\n",
       "0   женат / замужем                 0      F   сотрудник     0  253875.639453   \n",
       "1   женат / замужем                 0      F   сотрудник     0  112080.014102   \n",
       "2   женат / замужем                 0      M   сотрудник     0  145885.952297   \n",
       "3   женат / замужем                 0      M   сотрудник     0  267628.550329   \n",
       "4  гражданский брак                 1      F   пенсионер     0  158616.077870   \n",
       "5  гражданский брак                 1      M   компаньон     0  255763.565419   \n",
       "6   женат / замужем                 0      F   компаньон     0  240525.971920   \n",
       "7   женат / замужем                 0      M   сотрудник     0  135823.934197   \n",
       "8  гражданский брак                 1      F   сотрудник     0   95856.832424   \n",
       "9   женат / замужем                 0      M   сотрудник     0  144425.938277   \n",
       "\n",
       "                      purpose  \n",
       "0               покупка жилья  \n",
       "1     приобретение автомобиля  \n",
       "2               покупка жилья  \n",
       "3  дополнительное образование  \n",
       "4             сыграть свадьбу  \n",
       "5               покупка жилья  \n",
       "6           операции с жильем  \n",
       "7                 образование  \n",
       "8       на проведение свадьбы  \n",
       "9     покупка жилья для семьи  "
      ]
     },
     "execution_count": 317,
     "metadata": {},
     "output_type": "execute_result"
    }
   ],
   "source": [
    "data.head(10)"
   ]
  },
  {
   "cell_type": "markdown",
   "id": "5fb58fb4",
   "metadata": {},
   "source": [
    "Итак, в таблице 12 столбцов. \n",
    "\n",
    "Согласно документации к данным:\n",
    "* `userID` — идентификатор пользователя;\n",
    "* `children` — количество детей в семье\n",
    "* `days_employed` — общий трудовой стаж в днях\n",
    "* `dob_years` — возраст клиента в годах\n",
    "* `education` — уровень образования клиента\n",
    "* `education_id` — идентификатор уровня образования\n",
    "* `family_status` — семейное положение\n",
    "* `family_status_id` — идентификатор семейного положения\n",
    "* `gender` — пол клиента\n",
    "* `income_type` — тип занятости\n",
    "* `debt` — имел ли задолженность по возврату кредитов\n",
    "* `total_income` — ежемесячный доход\n",
    "* `purpose` — цель получения кредита\n",
    "\n",
    "\n",
    "\n",
    "\n",
    "Количество значений в столбцах различается. Значит, в данных есть пропущенные значения."
   ]
  },
  {
   "cell_type": "markdown",
   "id": "dbc734b8",
   "metadata": {},
   "source": [
    "### Шаг 2.1 Заполнение пропусков"
   ]
  },
  {
   "cell_type": "markdown",
   "id": "11c93b8f",
   "metadata": {},
   "source": [
    "Сначала посчитаем сколько в таблице пропущенных значений"
   ]
  },
  {
   "cell_type": "code",
   "execution_count": 318,
   "id": "89f0e7b8",
   "metadata": {},
   "outputs": [
    {
     "data": {
      "text/plain": [
       "children               0\n",
       "days_employed       2174\n",
       "dob_years              0\n",
       "education              0\n",
       "education_id           0\n",
       "family_status          0\n",
       "family_status_id       0\n",
       "gender                 0\n",
       "income_type            0\n",
       "debt                   0\n",
       "total_income        2174\n",
       "purpose                0\n",
       "dtype: int64"
      ]
     },
     "execution_count": 318,
     "metadata": {},
     "output_type": "execute_result"
    }
   ],
   "source": [
    "data.isna().sum()"
   ]
  },
  {
   "cell_type": "markdown",
   "id": "0c064a6e",
   "metadata": {},
   "source": [
    "Пропуски обнаружены в двух столбцах days_employed и total_income. Оба столбца имеют тип float и являются количественными.\n",
    "Что бы понять причину пропусков и насколько они могут повлиять, необходимо изучить строки с пропущенными данными и вычислить долю пропусков в датасете."
   ]
  },
  {
   "cell_type": "code",
   "execution_count": 319,
   "id": "60d35c74",
   "metadata": {},
   "outputs": [
    {
     "data": {
      "text/html": [
       "<div>\n",
       "<style scoped>\n",
       "    .dataframe tbody tr th:only-of-type {\n",
       "        vertical-align: middle;\n",
       "    }\n",
       "\n",
       "    .dataframe tbody tr th {\n",
       "        vertical-align: top;\n",
       "    }\n",
       "\n",
       "    .dataframe thead th {\n",
       "        text-align: right;\n",
       "    }\n",
       "</style>\n",
       "<table border=\"1\" class=\"dataframe\">\n",
       "  <thead>\n",
       "    <tr style=\"text-align: right;\">\n",
       "      <th></th>\n",
       "      <th>children</th>\n",
       "      <th>days_employed</th>\n",
       "      <th>dob_years</th>\n",
       "      <th>education</th>\n",
       "      <th>education_id</th>\n",
       "      <th>family_status</th>\n",
       "      <th>family_status_id</th>\n",
       "      <th>gender</th>\n",
       "      <th>income_type</th>\n",
       "      <th>debt</th>\n",
       "      <th>total_income</th>\n",
       "      <th>purpose</th>\n",
       "    </tr>\n",
       "  </thead>\n",
       "  <tbody>\n",
       "    <tr>\n",
       "      <td>12</td>\n",
       "      <td>0</td>\n",
       "      <td>NaN</td>\n",
       "      <td>65</td>\n",
       "      <td>среднее</td>\n",
       "      <td>1</td>\n",
       "      <td>гражданский брак</td>\n",
       "      <td>1</td>\n",
       "      <td>M</td>\n",
       "      <td>пенсионер</td>\n",
       "      <td>0</td>\n",
       "      <td>NaN</td>\n",
       "      <td>сыграть свадьбу</td>\n",
       "    </tr>\n",
       "    <tr>\n",
       "      <td>26</td>\n",
       "      <td>0</td>\n",
       "      <td>NaN</td>\n",
       "      <td>41</td>\n",
       "      <td>среднее</td>\n",
       "      <td>1</td>\n",
       "      <td>женат / замужем</td>\n",
       "      <td>0</td>\n",
       "      <td>M</td>\n",
       "      <td>госслужащий</td>\n",
       "      <td>0</td>\n",
       "      <td>NaN</td>\n",
       "      <td>образование</td>\n",
       "    </tr>\n",
       "    <tr>\n",
       "      <td>29</td>\n",
       "      <td>0</td>\n",
       "      <td>NaN</td>\n",
       "      <td>63</td>\n",
       "      <td>среднее</td>\n",
       "      <td>1</td>\n",
       "      <td>Не женат / не замужем</td>\n",
       "      <td>4</td>\n",
       "      <td>F</td>\n",
       "      <td>пенсионер</td>\n",
       "      <td>0</td>\n",
       "      <td>NaN</td>\n",
       "      <td>строительство жилой недвижимости</td>\n",
       "    </tr>\n",
       "    <tr>\n",
       "      <td>41</td>\n",
       "      <td>0</td>\n",
       "      <td>NaN</td>\n",
       "      <td>50</td>\n",
       "      <td>среднее</td>\n",
       "      <td>1</td>\n",
       "      <td>женат / замужем</td>\n",
       "      <td>0</td>\n",
       "      <td>F</td>\n",
       "      <td>госслужащий</td>\n",
       "      <td>0</td>\n",
       "      <td>NaN</td>\n",
       "      <td>сделка с подержанным автомобилем</td>\n",
       "    </tr>\n",
       "    <tr>\n",
       "      <td>55</td>\n",
       "      <td>0</td>\n",
       "      <td>NaN</td>\n",
       "      <td>54</td>\n",
       "      <td>среднее</td>\n",
       "      <td>1</td>\n",
       "      <td>гражданский брак</td>\n",
       "      <td>1</td>\n",
       "      <td>F</td>\n",
       "      <td>пенсионер</td>\n",
       "      <td>1</td>\n",
       "      <td>NaN</td>\n",
       "      <td>сыграть свадьбу</td>\n",
       "    </tr>\n",
       "    <tr>\n",
       "      <td>65</td>\n",
       "      <td>0</td>\n",
       "      <td>NaN</td>\n",
       "      <td>21</td>\n",
       "      <td>среднее</td>\n",
       "      <td>1</td>\n",
       "      <td>Не женат / не замужем</td>\n",
       "      <td>4</td>\n",
       "      <td>M</td>\n",
       "      <td>компаньон</td>\n",
       "      <td>0</td>\n",
       "      <td>NaN</td>\n",
       "      <td>операции с коммерческой недвижимостью</td>\n",
       "    </tr>\n",
       "    <tr>\n",
       "      <td>67</td>\n",
       "      <td>0</td>\n",
       "      <td>NaN</td>\n",
       "      <td>52</td>\n",
       "      <td>высшее</td>\n",
       "      <td>0</td>\n",
       "      <td>женат / замужем</td>\n",
       "      <td>0</td>\n",
       "      <td>F</td>\n",
       "      <td>пенсионер</td>\n",
       "      <td>0</td>\n",
       "      <td>NaN</td>\n",
       "      <td>покупка жилья для семьи</td>\n",
       "    </tr>\n",
       "    <tr>\n",
       "      <td>72</td>\n",
       "      <td>1</td>\n",
       "      <td>NaN</td>\n",
       "      <td>32</td>\n",
       "      <td>высшее</td>\n",
       "      <td>0</td>\n",
       "      <td>женат / замужем</td>\n",
       "      <td>0</td>\n",
       "      <td>M</td>\n",
       "      <td>госслужащий</td>\n",
       "      <td>0</td>\n",
       "      <td>NaN</td>\n",
       "      <td>операции с коммерческой недвижимостью</td>\n",
       "    </tr>\n",
       "    <tr>\n",
       "      <td>82</td>\n",
       "      <td>2</td>\n",
       "      <td>NaN</td>\n",
       "      <td>50</td>\n",
       "      <td>высшее</td>\n",
       "      <td>0</td>\n",
       "      <td>женат / замужем</td>\n",
       "      <td>0</td>\n",
       "      <td>F</td>\n",
       "      <td>сотрудник</td>\n",
       "      <td>0</td>\n",
       "      <td>NaN</td>\n",
       "      <td>жилье</td>\n",
       "    </tr>\n",
       "    <tr>\n",
       "      <td>83</td>\n",
       "      <td>0</td>\n",
       "      <td>NaN</td>\n",
       "      <td>52</td>\n",
       "      <td>среднее</td>\n",
       "      <td>1</td>\n",
       "      <td>женат / замужем</td>\n",
       "      <td>0</td>\n",
       "      <td>M</td>\n",
       "      <td>сотрудник</td>\n",
       "      <td>0</td>\n",
       "      <td>NaN</td>\n",
       "      <td>жилье</td>\n",
       "    </tr>\n",
       "  </tbody>\n",
       "</table>\n",
       "</div>"
      ],
      "text/plain": [
       "    children  days_employed  dob_years education  education_id  \\\n",
       "12         0            NaN         65   среднее             1   \n",
       "26         0            NaN         41   среднее             1   \n",
       "29         0            NaN         63   среднее             1   \n",
       "41         0            NaN         50   среднее             1   \n",
       "55         0            NaN         54   среднее             1   \n",
       "65         0            NaN         21   среднее             1   \n",
       "67         0            NaN         52    высшее             0   \n",
       "72         1            NaN         32    высшее             0   \n",
       "82         2            NaN         50    высшее             0   \n",
       "83         0            NaN         52   среднее             1   \n",
       "\n",
       "            family_status  family_status_id gender  income_type  debt  \\\n",
       "12       гражданский брак                 1      M    пенсионер     0   \n",
       "26        женат / замужем                 0      M  госслужащий     0   \n",
       "29  Не женат / не замужем                 4      F    пенсионер     0   \n",
       "41        женат / замужем                 0      F  госслужащий     0   \n",
       "55       гражданский брак                 1      F    пенсионер     1   \n",
       "65  Не женат / не замужем                 4      M    компаньон     0   \n",
       "67        женат / замужем                 0      F    пенсионер     0   \n",
       "72        женат / замужем                 0      M  госслужащий     0   \n",
       "82        женат / замужем                 0      F    сотрудник     0   \n",
       "83        женат / замужем                 0      M    сотрудник     0   \n",
       "\n",
       "    total_income                                purpose  \n",
       "12           NaN                        сыграть свадьбу  \n",
       "26           NaN                            образование  \n",
       "29           NaN       строительство жилой недвижимости  \n",
       "41           NaN       сделка с подержанным автомобилем  \n",
       "55           NaN                        сыграть свадьбу  \n",
       "65           NaN  операции с коммерческой недвижимостью  \n",
       "67           NaN                покупка жилья для семьи  \n",
       "72           NaN  операции с коммерческой недвижимостью  \n",
       "82           NaN                                  жилье  \n",
       "83           NaN                                  жилье  "
      ]
     },
     "execution_count": 319,
     "metadata": {},
     "output_type": "execute_result"
    }
   ],
   "source": [
    "data[data['days_employed'].isna()].head(10)\n"
   ]
  },
  {
   "cell_type": "code",
   "execution_count": 320,
   "id": "72cb91f0",
   "metadata": {},
   "outputs": [
    {
     "data": {
      "text/html": [
       "<div>\n",
       "<style scoped>\n",
       "    .dataframe tbody tr th:only-of-type {\n",
       "        vertical-align: middle;\n",
       "    }\n",
       "\n",
       "    .dataframe tbody tr th {\n",
       "        vertical-align: top;\n",
       "    }\n",
       "\n",
       "    .dataframe thead th {\n",
       "        text-align: right;\n",
       "    }\n",
       "</style>\n",
       "<table border=\"1\" class=\"dataframe\">\n",
       "  <thead>\n",
       "    <tr style=\"text-align: right;\">\n",
       "      <th></th>\n",
       "      <th>children</th>\n",
       "      <th>days_employed</th>\n",
       "      <th>dob_years</th>\n",
       "      <th>education</th>\n",
       "      <th>education_id</th>\n",
       "      <th>family_status</th>\n",
       "      <th>family_status_id</th>\n",
       "      <th>gender</th>\n",
       "      <th>income_type</th>\n",
       "      <th>debt</th>\n",
       "      <th>total_income</th>\n",
       "      <th>purpose</th>\n",
       "    </tr>\n",
       "  </thead>\n",
       "  <tbody>\n",
       "    <tr>\n",
       "      <td>12</td>\n",
       "      <td>0</td>\n",
       "      <td>NaN</td>\n",
       "      <td>65</td>\n",
       "      <td>среднее</td>\n",
       "      <td>1</td>\n",
       "      <td>гражданский брак</td>\n",
       "      <td>1</td>\n",
       "      <td>M</td>\n",
       "      <td>пенсионер</td>\n",
       "      <td>0</td>\n",
       "      <td>NaN</td>\n",
       "      <td>сыграть свадьбу</td>\n",
       "    </tr>\n",
       "    <tr>\n",
       "      <td>26</td>\n",
       "      <td>0</td>\n",
       "      <td>NaN</td>\n",
       "      <td>41</td>\n",
       "      <td>среднее</td>\n",
       "      <td>1</td>\n",
       "      <td>женат / замужем</td>\n",
       "      <td>0</td>\n",
       "      <td>M</td>\n",
       "      <td>госслужащий</td>\n",
       "      <td>0</td>\n",
       "      <td>NaN</td>\n",
       "      <td>образование</td>\n",
       "    </tr>\n",
       "    <tr>\n",
       "      <td>29</td>\n",
       "      <td>0</td>\n",
       "      <td>NaN</td>\n",
       "      <td>63</td>\n",
       "      <td>среднее</td>\n",
       "      <td>1</td>\n",
       "      <td>Не женат / не замужем</td>\n",
       "      <td>4</td>\n",
       "      <td>F</td>\n",
       "      <td>пенсионер</td>\n",
       "      <td>0</td>\n",
       "      <td>NaN</td>\n",
       "      <td>строительство жилой недвижимости</td>\n",
       "    </tr>\n",
       "    <tr>\n",
       "      <td>41</td>\n",
       "      <td>0</td>\n",
       "      <td>NaN</td>\n",
       "      <td>50</td>\n",
       "      <td>среднее</td>\n",
       "      <td>1</td>\n",
       "      <td>женат / замужем</td>\n",
       "      <td>0</td>\n",
       "      <td>F</td>\n",
       "      <td>госслужащий</td>\n",
       "      <td>0</td>\n",
       "      <td>NaN</td>\n",
       "      <td>сделка с подержанным автомобилем</td>\n",
       "    </tr>\n",
       "    <tr>\n",
       "      <td>55</td>\n",
       "      <td>0</td>\n",
       "      <td>NaN</td>\n",
       "      <td>54</td>\n",
       "      <td>среднее</td>\n",
       "      <td>1</td>\n",
       "      <td>гражданский брак</td>\n",
       "      <td>1</td>\n",
       "      <td>F</td>\n",
       "      <td>пенсионер</td>\n",
       "      <td>1</td>\n",
       "      <td>NaN</td>\n",
       "      <td>сыграть свадьбу</td>\n",
       "    </tr>\n",
       "    <tr>\n",
       "      <td>65</td>\n",
       "      <td>0</td>\n",
       "      <td>NaN</td>\n",
       "      <td>21</td>\n",
       "      <td>среднее</td>\n",
       "      <td>1</td>\n",
       "      <td>Не женат / не замужем</td>\n",
       "      <td>4</td>\n",
       "      <td>M</td>\n",
       "      <td>компаньон</td>\n",
       "      <td>0</td>\n",
       "      <td>NaN</td>\n",
       "      <td>операции с коммерческой недвижимостью</td>\n",
       "    </tr>\n",
       "    <tr>\n",
       "      <td>67</td>\n",
       "      <td>0</td>\n",
       "      <td>NaN</td>\n",
       "      <td>52</td>\n",
       "      <td>высшее</td>\n",
       "      <td>0</td>\n",
       "      <td>женат / замужем</td>\n",
       "      <td>0</td>\n",
       "      <td>F</td>\n",
       "      <td>пенсионер</td>\n",
       "      <td>0</td>\n",
       "      <td>NaN</td>\n",
       "      <td>покупка жилья для семьи</td>\n",
       "    </tr>\n",
       "    <tr>\n",
       "      <td>72</td>\n",
       "      <td>1</td>\n",
       "      <td>NaN</td>\n",
       "      <td>32</td>\n",
       "      <td>высшее</td>\n",
       "      <td>0</td>\n",
       "      <td>женат / замужем</td>\n",
       "      <td>0</td>\n",
       "      <td>M</td>\n",
       "      <td>госслужащий</td>\n",
       "      <td>0</td>\n",
       "      <td>NaN</td>\n",
       "      <td>операции с коммерческой недвижимостью</td>\n",
       "    </tr>\n",
       "    <tr>\n",
       "      <td>82</td>\n",
       "      <td>2</td>\n",
       "      <td>NaN</td>\n",
       "      <td>50</td>\n",
       "      <td>высшее</td>\n",
       "      <td>0</td>\n",
       "      <td>женат / замужем</td>\n",
       "      <td>0</td>\n",
       "      <td>F</td>\n",
       "      <td>сотрудник</td>\n",
       "      <td>0</td>\n",
       "      <td>NaN</td>\n",
       "      <td>жилье</td>\n",
       "    </tr>\n",
       "    <tr>\n",
       "      <td>83</td>\n",
       "      <td>0</td>\n",
       "      <td>NaN</td>\n",
       "      <td>52</td>\n",
       "      <td>среднее</td>\n",
       "      <td>1</td>\n",
       "      <td>женат / замужем</td>\n",
       "      <td>0</td>\n",
       "      <td>M</td>\n",
       "      <td>сотрудник</td>\n",
       "      <td>0</td>\n",
       "      <td>NaN</td>\n",
       "      <td>жилье</td>\n",
       "    </tr>\n",
       "  </tbody>\n",
       "</table>\n",
       "</div>"
      ],
      "text/plain": [
       "    children  days_employed  dob_years education  education_id  \\\n",
       "12         0            NaN         65   среднее             1   \n",
       "26         0            NaN         41   среднее             1   \n",
       "29         0            NaN         63   среднее             1   \n",
       "41         0            NaN         50   среднее             1   \n",
       "55         0            NaN         54   среднее             1   \n",
       "65         0            NaN         21   среднее             1   \n",
       "67         0            NaN         52    высшее             0   \n",
       "72         1            NaN         32    высшее             0   \n",
       "82         2            NaN         50    высшее             0   \n",
       "83         0            NaN         52   среднее             1   \n",
       "\n",
       "            family_status  family_status_id gender  income_type  debt  \\\n",
       "12       гражданский брак                 1      M    пенсионер     0   \n",
       "26        женат / замужем                 0      M  госслужащий     0   \n",
       "29  Не женат / не замужем                 4      F    пенсионер     0   \n",
       "41        женат / замужем                 0      F  госслужащий     0   \n",
       "55       гражданский брак                 1      F    пенсионер     1   \n",
       "65  Не женат / не замужем                 4      M    компаньон     0   \n",
       "67        женат / замужем                 0      F    пенсионер     0   \n",
       "72        женат / замужем                 0      M  госслужащий     0   \n",
       "82        женат / замужем                 0      F    сотрудник     0   \n",
       "83        женат / замужем                 0      M    сотрудник     0   \n",
       "\n",
       "    total_income                                purpose  \n",
       "12           NaN                        сыграть свадьбу  \n",
       "26           NaN                            образование  \n",
       "29           NaN       строительство жилой недвижимости  \n",
       "41           NaN       сделка с подержанным автомобилем  \n",
       "55           NaN                        сыграть свадьбу  \n",
       "65           NaN  операции с коммерческой недвижимостью  \n",
       "67           NaN                покупка жилья для семьи  \n",
       "72           NaN  операции с коммерческой недвижимостью  \n",
       "82           NaN                                  жилье  \n",
       "83           NaN                                  жилье  "
      ]
     },
     "execution_count": 320,
     "metadata": {},
     "output_type": "execute_result"
    }
   ],
   "source": [
    "data[data['total_income'].isna()].head(10)"
   ]
  },
  {
   "cell_type": "code",
   "execution_count": 321,
   "id": "f061f192",
   "metadata": {},
   "outputs": [
    {
     "data": {
      "text/html": [
       "<div>\n",
       "<style scoped>\n",
       "    .dataframe tbody tr th:only-of-type {\n",
       "        vertical-align: middle;\n",
       "    }\n",
       "\n",
       "    .dataframe tbody tr th {\n",
       "        vertical-align: top;\n",
       "    }\n",
       "\n",
       "    .dataframe thead th {\n",
       "        text-align: right;\n",
       "    }\n",
       "</style>\n",
       "<table border=\"1\" class=\"dataframe\">\n",
       "  <thead>\n",
       "    <tr style=\"text-align: right;\">\n",
       "      <th></th>\n",
       "      <th>children</th>\n",
       "      <th>days_employed</th>\n",
       "      <th>dob_years</th>\n",
       "      <th>education</th>\n",
       "      <th>education_id</th>\n",
       "      <th>family_status</th>\n",
       "      <th>family_status_id</th>\n",
       "      <th>gender</th>\n",
       "      <th>income_type</th>\n",
       "      <th>debt</th>\n",
       "      <th>total_income</th>\n",
       "      <th>purpose</th>\n",
       "    </tr>\n",
       "  </thead>\n",
       "  <tbody>\n",
       "    <tr>\n",
       "      <td>21415</td>\n",
       "      <td>0</td>\n",
       "      <td>NaN</td>\n",
       "      <td>54</td>\n",
       "      <td>среднее</td>\n",
       "      <td>1</td>\n",
       "      <td>женат / замужем</td>\n",
       "      <td>0</td>\n",
       "      <td>F</td>\n",
       "      <td>пенсионер</td>\n",
       "      <td>0</td>\n",
       "      <td>NaN</td>\n",
       "      <td>операции с жильем</td>\n",
       "    </tr>\n",
       "    <tr>\n",
       "      <td>21423</td>\n",
       "      <td>0</td>\n",
       "      <td>NaN</td>\n",
       "      <td>63</td>\n",
       "      <td>среднее</td>\n",
       "      <td>1</td>\n",
       "      <td>женат / замужем</td>\n",
       "      <td>0</td>\n",
       "      <td>M</td>\n",
       "      <td>пенсионер</td>\n",
       "      <td>0</td>\n",
       "      <td>NaN</td>\n",
       "      <td>сделка с автомобилем</td>\n",
       "    </tr>\n",
       "    <tr>\n",
       "      <td>21426</td>\n",
       "      <td>0</td>\n",
       "      <td>NaN</td>\n",
       "      <td>49</td>\n",
       "      <td>среднее</td>\n",
       "      <td>1</td>\n",
       "      <td>женат / замужем</td>\n",
       "      <td>0</td>\n",
       "      <td>F</td>\n",
       "      <td>сотрудник</td>\n",
       "      <td>1</td>\n",
       "      <td>NaN</td>\n",
       "      <td>недвижимость</td>\n",
       "    </tr>\n",
       "    <tr>\n",
       "      <td>21432</td>\n",
       "      <td>1</td>\n",
       "      <td>NaN</td>\n",
       "      <td>38</td>\n",
       "      <td>неоконченное высшее</td>\n",
       "      <td>2</td>\n",
       "      <td>Не женат / не замужем</td>\n",
       "      <td>4</td>\n",
       "      <td>F</td>\n",
       "      <td>сотрудник</td>\n",
       "      <td>0</td>\n",
       "      <td>NaN</td>\n",
       "      <td>операции с жильем</td>\n",
       "    </tr>\n",
       "    <tr>\n",
       "      <td>21463</td>\n",
       "      <td>1</td>\n",
       "      <td>NaN</td>\n",
       "      <td>35</td>\n",
       "      <td>высшее</td>\n",
       "      <td>0</td>\n",
       "      <td>гражданский брак</td>\n",
       "      <td>1</td>\n",
       "      <td>M</td>\n",
       "      <td>сотрудник</td>\n",
       "      <td>0</td>\n",
       "      <td>NaN</td>\n",
       "      <td>на проведение свадьбы</td>\n",
       "    </tr>\n",
       "    <tr>\n",
       "      <td>21489</td>\n",
       "      <td>2</td>\n",
       "      <td>NaN</td>\n",
       "      <td>47</td>\n",
       "      <td>Среднее</td>\n",
       "      <td>1</td>\n",
       "      <td>женат / замужем</td>\n",
       "      <td>0</td>\n",
       "      <td>M</td>\n",
       "      <td>компаньон</td>\n",
       "      <td>0</td>\n",
       "      <td>NaN</td>\n",
       "      <td>сделка с автомобилем</td>\n",
       "    </tr>\n",
       "    <tr>\n",
       "      <td>21495</td>\n",
       "      <td>1</td>\n",
       "      <td>NaN</td>\n",
       "      <td>50</td>\n",
       "      <td>среднее</td>\n",
       "      <td>1</td>\n",
       "      <td>гражданский брак</td>\n",
       "      <td>1</td>\n",
       "      <td>F</td>\n",
       "      <td>сотрудник</td>\n",
       "      <td>0</td>\n",
       "      <td>NaN</td>\n",
       "      <td>свадьба</td>\n",
       "    </tr>\n",
       "    <tr>\n",
       "      <td>21497</td>\n",
       "      <td>0</td>\n",
       "      <td>NaN</td>\n",
       "      <td>48</td>\n",
       "      <td>ВЫСШЕЕ</td>\n",
       "      <td>0</td>\n",
       "      <td>женат / замужем</td>\n",
       "      <td>0</td>\n",
       "      <td>F</td>\n",
       "      <td>компаньон</td>\n",
       "      <td>0</td>\n",
       "      <td>NaN</td>\n",
       "      <td>строительство недвижимости</td>\n",
       "    </tr>\n",
       "    <tr>\n",
       "      <td>21502</td>\n",
       "      <td>1</td>\n",
       "      <td>NaN</td>\n",
       "      <td>42</td>\n",
       "      <td>среднее</td>\n",
       "      <td>1</td>\n",
       "      <td>женат / замужем</td>\n",
       "      <td>0</td>\n",
       "      <td>F</td>\n",
       "      <td>сотрудник</td>\n",
       "      <td>0</td>\n",
       "      <td>NaN</td>\n",
       "      <td>строительство жилой недвижимости</td>\n",
       "    </tr>\n",
       "    <tr>\n",
       "      <td>21510</td>\n",
       "      <td>2</td>\n",
       "      <td>NaN</td>\n",
       "      <td>28</td>\n",
       "      <td>среднее</td>\n",
       "      <td>1</td>\n",
       "      <td>женат / замужем</td>\n",
       "      <td>0</td>\n",
       "      <td>F</td>\n",
       "      <td>сотрудник</td>\n",
       "      <td>0</td>\n",
       "      <td>NaN</td>\n",
       "      <td>приобретение автомобиля</td>\n",
       "    </tr>\n",
       "  </tbody>\n",
       "</table>\n",
       "</div>"
      ],
      "text/plain": [
       "       children  days_employed  dob_years            education  education_id  \\\n",
       "21415         0            NaN         54              среднее             1   \n",
       "21423         0            NaN         63              среднее             1   \n",
       "21426         0            NaN         49              среднее             1   \n",
       "21432         1            NaN         38  неоконченное высшее             2   \n",
       "21463         1            NaN         35               высшее             0   \n",
       "21489         2            NaN         47              Среднее             1   \n",
       "21495         1            NaN         50              среднее             1   \n",
       "21497         0            NaN         48               ВЫСШЕЕ             0   \n",
       "21502         1            NaN         42              среднее             1   \n",
       "21510         2            NaN         28              среднее             1   \n",
       "\n",
       "               family_status  family_status_id gender income_type  debt  \\\n",
       "21415        женат / замужем                 0      F   пенсионер     0   \n",
       "21423        женат / замужем                 0      M   пенсионер     0   \n",
       "21426        женат / замужем                 0      F   сотрудник     1   \n",
       "21432  Не женат / не замужем                 4      F   сотрудник     0   \n",
       "21463       гражданский брак                 1      M   сотрудник     0   \n",
       "21489        женат / замужем                 0      M   компаньон     0   \n",
       "21495       гражданский брак                 1      F   сотрудник     0   \n",
       "21497        женат / замужем                 0      F   компаньон     0   \n",
       "21502        женат / замужем                 0      F   сотрудник     0   \n",
       "21510        женат / замужем                 0      F   сотрудник     0   \n",
       "\n",
       "       total_income                           purpose  \n",
       "21415           NaN                 операции с жильем  \n",
       "21423           NaN              сделка с автомобилем  \n",
       "21426           NaN                      недвижимость  \n",
       "21432           NaN                 операции с жильем  \n",
       "21463           NaN             на проведение свадьбы  \n",
       "21489           NaN              сделка с автомобилем  \n",
       "21495           NaN                           свадьба  \n",
       "21497           NaN        строительство недвижимости  \n",
       "21502           NaN  строительство жилой недвижимости  \n",
       "21510           NaN           приобретение автомобиля  "
      ]
     },
     "execution_count": 321,
     "metadata": {},
     "output_type": "execute_result"
    }
   ],
   "source": [
    "data[data['total_income'].isna()].tail(10)"
   ]
  },
  {
   "cell_type": "code",
   "execution_count": 322,
   "id": "eb0df33b",
   "metadata": {},
   "outputs": [
    {
     "name": "stdout",
     "output_type": "stream",
     "text": [
      "0.10099883855981417\n"
     ]
    }
   ],
   "source": [
    "#вычислим долю пропусков во всем датсете\n",
    "part_na = data['total_income'].isna().sum()/len(data['total_income'])\n",
    "print(part_na)"
   ]
  },
  {
   "cell_type": "markdown",
   "id": "079ffa54",
   "metadata": {},
   "source": [
    "Доля пропусков составляет 10%. Замечена взаимосвязь пропусков, если есть пропуск в столбце со стажом, то в этой же строке и пропущен ежемесячный доход. Большинство количество пропусков логично, мы можем увидеть пропуски у людей с типом занятости: пенсионер, которые на данный момент не работают, у госслужающих - их доход обычно коммерческая тайна и у сотрудников, на них есть данные во внутренней системе. Что бы не потерять данные и продолжить работу, необходимо заменить пропущенные данные характерными значениями. Так как доход и стаж могут иметь большой разброс, лучшего всего заполнить пропущенные значения медианной."
   ]
  },
  {
   "cell_type": "code",
   "execution_count": 323,
   "id": "0602c29c",
   "metadata": {},
   "outputs": [
    {
     "data": {
      "text/plain": [
       "0"
      ]
     },
     "execution_count": 323,
     "metadata": {},
     "output_type": "execute_result"
    }
   ],
   "source": [
    "# отсортируем таблицу по days_employed по возрастанию \n",
    "data.sort_values(by = 'days_employed')\n",
    "# заменим пропущенные значения days_employed медианой\n",
    "data['days_employed'] = data['days_employed'].fillna(value=data['days_employed'].median())\n",
    "# проверим количество пропусков в строке\n",
    "data['days_employed'].isna().sum()"
   ]
  },
  {
   "cell_type": "code",
   "execution_count": 324,
   "id": "a386d309",
   "metadata": {},
   "outputs": [
    {
     "data": {
      "text/plain": [
       "0"
      ]
     },
     "execution_count": 324,
     "metadata": {},
     "output_type": "execute_result"
    }
   ],
   "source": [
    "# отсортируем таблицу по total_income по возрастанию \n",
    "data.sort_values(by = 'total_income')\n",
    "# заменим пропущенные значения total_income медианой\n",
    "data['total_income'] = data['total_income'].fillna(value=data['total_income'].median())\n",
    "# проверим количество пропусков в строке\n",
    "data['total_income'].isna().sum()"
   ]
  },
  {
   "cell_type": "markdown",
   "id": "4632a4cb",
   "metadata": {},
   "source": [
    "### Шаг 2.2 Проверка данных на аномалии и исправления."
   ]
  },
  {
   "cell_type": "markdown",
   "id": "1b93d449",
   "metadata": {},
   "source": [
    "Для поиска аномалий необходимо пройтись по столбцам, самые оптимальные методы для поиска аномальных значений: это просмотр значений, выявление минимум или максимума. "
   ]
  },
  {
   "cell_type": "code",
   "execution_count": 325,
   "id": "e82c1bf9",
   "metadata": {},
   "outputs": [
    {
     "data": {
      "text/plain": [
       " 0     14149\n",
       " 1      4818\n",
       " 2      2055\n",
       " 3       330\n",
       " 20       76\n",
       "-1        47\n",
       " 4        41\n",
       " 5         9\n",
       "Name: children, dtype: int64"
      ]
     },
     "execution_count": 325,
     "metadata": {},
     "output_type": "execute_result"
    }
   ],
   "source": [
    "# посмотрим уникальные значения по столбцу children \n",
    "data['children'].value_counts()"
   ]
  },
  {
   "cell_type": "markdown",
   "id": "ee038d99",
   "metadata": {},
   "source": [
    "В столбце найдены 2 аномалии: -1 и 20 детей, предлагаю в этих строках заменить медианной значений."
   ]
  },
  {
   "cell_type": "code",
   "execution_count": 326,
   "id": "d33e0056",
   "metadata": {},
   "outputs": [],
   "source": [
    "# отсортируем таблицу по children по возрастанию \n",
    "data = data.sort_values(by = 'children')\n",
    "# заменим аномальные значения children медианой\n",
    "old_value = [-1, 20]\n",
    "new_value = data['children'].median()\n",
    "for element in old_value:\n",
    "    data['children'] = data['children'].replace(element, new_value)"
   ]
  },
  {
   "cell_type": "markdown",
   "id": "50aadf8b",
   "metadata": {},
   "source": [
    "### Комментарий для ревьюера v_1\n",
    "Это лучше сделать как каждый отдельный элемент заменить или через функцию или другим способом?"
   ]
  },
  {
   "cell_type": "code",
   "execution_count": 327,
   "id": "399af196",
   "metadata": {},
   "outputs": [
    {
     "data": {
      "text/plain": [
       "0    14272\n",
       "1     4818\n",
       "2     2055\n",
       "3      330\n",
       "4       41\n",
       "5        9\n",
       "Name: children, dtype: int64"
      ]
     },
     "execution_count": 327,
     "metadata": {},
     "output_type": "execute_result"
    }
   ],
   "source": [
    "# проверим теперь уникальные значения\n",
    "data['children'].value_counts()"
   ]
  },
  {
   "cell_type": "code",
   "execution_count": 328,
   "id": "f8bae769",
   "metadata": {},
   "outputs": [
    {
     "data": {
      "text/plain": [
       "array([-3.61422023e+03, -2.71041990e+03,  3.70215476e+05, ...,\n",
       "       -1.33690801e+02, -2.53054052e+03, -3.43804411e+03])"
      ]
     },
     "execution_count": 328,
     "metadata": {},
     "output_type": "execute_result"
    }
   ],
   "source": [
    "#теперь проверим аномалии столбца days_employed\n",
    "\n",
    "data['days_employed'].unique()\n"
   ]
  },
  {
   "cell_type": "code",
   "execution_count": 329,
   "id": "f75fff5d",
   "metadata": {},
   "outputs": [
    {
     "data": {
      "text/plain": [
       "-18388.949900568383"
      ]
     },
     "execution_count": 329,
     "metadata": {},
     "output_type": "execute_result"
    }
   ],
   "source": [
    "data['days_employed'].min()"
   ]
  },
  {
   "cell_type": "code",
   "execution_count": 330,
   "id": "db78909c",
   "metadata": {},
   "outputs": [
    {
     "data": {
      "text/plain": [
       "401755.40047533"
      ]
     },
     "execution_count": 330,
     "metadata": {},
     "output_type": "execute_result"
    }
   ],
   "source": [
    "data['days_employed'].max()"
   ]
  },
  {
   "cell_type": "markdown",
   "id": "73a735e6",
   "metadata": {},
   "source": [
    "Много значений со знаком минус и также в максимальном значении очень болшой стаж. Предпологаю, что произошла ошибка и необходимо взять модуль от значений, так как числа в действительности похожи на реальный стаж просто со знаком минус. а далее проверить сколько значений с невозможно высоким стажем."
   ]
  },
  {
   "cell_type": "code",
   "execution_count": 331,
   "id": "4a991a12",
   "metadata": {},
   "outputs": [],
   "source": [
    "# заменим отрицательные значения на положительные\n",
    "for index in data:\n",
    "    try:\n",
    "        data['days_employed'] = data['days_employed'].abs()\n",
    "    except:\n",
    "        print(data[index])\n",
    "        "
   ]
  },
  {
   "cell_type": "code",
   "execution_count": 332,
   "id": "34940776",
   "metadata": {},
   "outputs": [
    {
     "data": {
      "text/html": [
       "<div>\n",
       "<style scoped>\n",
       "    .dataframe tbody tr th:only-of-type {\n",
       "        vertical-align: middle;\n",
       "    }\n",
       "\n",
       "    .dataframe tbody tr th {\n",
       "        vertical-align: top;\n",
       "    }\n",
       "\n",
       "    .dataframe thead th {\n",
       "        text-align: right;\n",
       "    }\n",
       "</style>\n",
       "<table border=\"1\" class=\"dataframe\">\n",
       "  <thead>\n",
       "    <tr style=\"text-align: right;\">\n",
       "      <th></th>\n",
       "      <th>children</th>\n",
       "      <th>days_employed</th>\n",
       "      <th>dob_years</th>\n",
       "      <th>education</th>\n",
       "      <th>education_id</th>\n",
       "      <th>family_status</th>\n",
       "      <th>family_status_id</th>\n",
       "      <th>gender</th>\n",
       "      <th>income_type</th>\n",
       "      <th>debt</th>\n",
       "      <th>total_income</th>\n",
       "      <th>purpose</th>\n",
       "    </tr>\n",
       "  </thead>\n",
       "  <tbody>\n",
       "    <tr>\n",
       "      <td>17437</td>\n",
       "      <td>1</td>\n",
       "      <td>24.141633</td>\n",
       "      <td>31</td>\n",
       "      <td>среднее</td>\n",
       "      <td>1</td>\n",
       "      <td>женат / замужем</td>\n",
       "      <td>0</td>\n",
       "      <td>F</td>\n",
       "      <td>сотрудник</td>\n",
       "      <td>1</td>\n",
       "      <td>166952.415427</td>\n",
       "      <td>высшее образование</td>\n",
       "    </tr>\n",
       "    <tr>\n",
       "      <td>8336</td>\n",
       "      <td>0</td>\n",
       "      <td>24.240695</td>\n",
       "      <td>32</td>\n",
       "      <td>высшее</td>\n",
       "      <td>0</td>\n",
       "      <td>Не женат / не замужем</td>\n",
       "      <td>4</td>\n",
       "      <td>M</td>\n",
       "      <td>сотрудник</td>\n",
       "      <td>0</td>\n",
       "      <td>124115.373655</td>\n",
       "      <td>получение дополнительного образования</td>\n",
       "    </tr>\n",
       "    <tr>\n",
       "      <td>6157</td>\n",
       "      <td>2</td>\n",
       "      <td>30.195337</td>\n",
       "      <td>47</td>\n",
       "      <td>среднее</td>\n",
       "      <td>1</td>\n",
       "      <td>гражданский брак</td>\n",
       "      <td>1</td>\n",
       "      <td>M</td>\n",
       "      <td>компаньон</td>\n",
       "      <td>0</td>\n",
       "      <td>231461.185606</td>\n",
       "      <td>свадьба</td>\n",
       "    </tr>\n",
       "    <tr>\n",
       "      <td>9683</td>\n",
       "      <td>0</td>\n",
       "      <td>33.520665</td>\n",
       "      <td>43</td>\n",
       "      <td>среднее</td>\n",
       "      <td>1</td>\n",
       "      <td>Не женат / не замужем</td>\n",
       "      <td>4</td>\n",
       "      <td>M</td>\n",
       "      <td>сотрудник</td>\n",
       "      <td>1</td>\n",
       "      <td>128555.897209</td>\n",
       "      <td>приобретение автомобиля</td>\n",
       "    </tr>\n",
       "    <tr>\n",
       "      <td>2127</td>\n",
       "      <td>1</td>\n",
       "      <td>34.701045</td>\n",
       "      <td>31</td>\n",
       "      <td>высшее</td>\n",
       "      <td>0</td>\n",
       "      <td>женат / замужем</td>\n",
       "      <td>0</td>\n",
       "      <td>F</td>\n",
       "      <td>компаньон</td>\n",
       "      <td>0</td>\n",
       "      <td>90557.994311</td>\n",
       "      <td>получение образования</td>\n",
       "    </tr>\n",
       "    <tr>\n",
       "      <td>5287</td>\n",
       "      <td>1</td>\n",
       "      <td>37.726602</td>\n",
       "      <td>36</td>\n",
       "      <td>среднее</td>\n",
       "      <td>1</td>\n",
       "      <td>женат / замужем</td>\n",
       "      <td>0</td>\n",
       "      <td>F</td>\n",
       "      <td>сотрудник</td>\n",
       "      <td>0</td>\n",
       "      <td>64954.565099</td>\n",
       "      <td>операции со своей недвижимостью</td>\n",
       "    </tr>\n",
       "    <tr>\n",
       "      <td>17270</td>\n",
       "      <td>0</td>\n",
       "      <td>39.954170</td>\n",
       "      <td>34</td>\n",
       "      <td>высшее</td>\n",
       "      <td>0</td>\n",
       "      <td>женат / замужем</td>\n",
       "      <td>0</td>\n",
       "      <td>F</td>\n",
       "      <td>госслужащий</td>\n",
       "      <td>0</td>\n",
       "      <td>97264.767002</td>\n",
       "      <td>жилье</td>\n",
       "    </tr>\n",
       "    <tr>\n",
       "      <td>13846</td>\n",
       "      <td>2</td>\n",
       "      <td>46.952793</td>\n",
       "      <td>33</td>\n",
       "      <td>среднее</td>\n",
       "      <td>1</td>\n",
       "      <td>женат / замужем</td>\n",
       "      <td>0</td>\n",
       "      <td>F</td>\n",
       "      <td>сотрудник</td>\n",
       "      <td>1</td>\n",
       "      <td>177554.195351</td>\n",
       "      <td>покупка жилья для сдачи</td>\n",
       "    </tr>\n",
       "    <tr>\n",
       "      <td>7964</td>\n",
       "      <td>0</td>\n",
       "      <td>47.109840</td>\n",
       "      <td>49</td>\n",
       "      <td>высшее</td>\n",
       "      <td>0</td>\n",
       "      <td>женат / замужем</td>\n",
       "      <td>0</td>\n",
       "      <td>F</td>\n",
       "      <td>сотрудник</td>\n",
       "      <td>0</td>\n",
       "      <td>197545.271278</td>\n",
       "      <td>на покупку подержанного автомобиля</td>\n",
       "    </tr>\n",
       "    <tr>\n",
       "      <td>3235</td>\n",
       "      <td>0</td>\n",
       "      <td>50.128298</td>\n",
       "      <td>43</td>\n",
       "      <td>среднее</td>\n",
       "      <td>1</td>\n",
       "      <td>гражданский брак</td>\n",
       "      <td>1</td>\n",
       "      <td>F</td>\n",
       "      <td>компаньон</td>\n",
       "      <td>0</td>\n",
       "      <td>99381.947946</td>\n",
       "      <td>на проведение свадьбы</td>\n",
       "    </tr>\n",
       "  </tbody>\n",
       "</table>\n",
       "</div>"
      ],
      "text/plain": [
       "       children  days_employed  dob_years education  education_id  \\\n",
       "17437         1      24.141633         31   среднее             1   \n",
       "8336          0      24.240695         32    высшее             0   \n",
       "6157          2      30.195337         47   среднее             1   \n",
       "9683          0      33.520665         43   среднее             1   \n",
       "2127          1      34.701045         31    высшее             0   \n",
       "5287          1      37.726602         36   среднее             1   \n",
       "17270         0      39.954170         34    высшее             0   \n",
       "13846         2      46.952793         33   среднее             1   \n",
       "7964          0      47.109840         49    высшее             0   \n",
       "3235          0      50.128298         43   среднее             1   \n",
       "\n",
       "               family_status  family_status_id gender  income_type  debt  \\\n",
       "17437        женат / замужем                 0      F    сотрудник     1   \n",
       "8336   Не женат / не замужем                 4      M    сотрудник     0   \n",
       "6157        гражданский брак                 1      M    компаньон     0   \n",
       "9683   Не женат / не замужем                 4      M    сотрудник     1   \n",
       "2127         женат / замужем                 0      F    компаньон     0   \n",
       "5287         женат / замужем                 0      F    сотрудник     0   \n",
       "17270        женат / замужем                 0      F  госслужащий     0   \n",
       "13846        женат / замужем                 0      F    сотрудник     1   \n",
       "7964         женат / замужем                 0      F    сотрудник     0   \n",
       "3235        гражданский брак                 1      F    компаньон     0   \n",
       "\n",
       "        total_income                                purpose  \n",
       "17437  166952.415427                     высшее образование  \n",
       "8336   124115.373655  получение дополнительного образования  \n",
       "6157   231461.185606                                свадьба  \n",
       "9683   128555.897209                приобретение автомобиля  \n",
       "2127    90557.994311                  получение образования  \n",
       "5287    64954.565099        операции со своей недвижимостью  \n",
       "17270   97264.767002                                  жилье  \n",
       "13846  177554.195351                покупка жилья для сдачи  \n",
       "7964   197545.271278     на покупку подержанного автомобиля  \n",
       "3235    99381.947946                  на проведение свадьбы  "
      ]
     },
     "execution_count": 332,
     "metadata": {},
     "output_type": "execute_result"
    }
   ],
   "source": [
    "# проверим замену\n",
    "data = data.sort_values(by = 'days_employed')\n",
    "data.head(10)"
   ]
  },
  {
   "cell_type": "code",
   "execution_count": 333,
   "id": "0086c672",
   "metadata": {},
   "outputs": [
    {
     "name": "stdout",
     "output_type": "stream",
     "text": [
      "3446\n"
     ]
    }
   ],
   "source": [
    "# теперь посмотрим количество аномально больших значений\n",
    "count = 0 \n",
    "for element in data['days_employed']:\n",
    "    if element > 18000:\n",
    "        count +=1\n",
    "print(count)"
   ]
  },
  {
   "cell_type": "code",
   "execution_count": 334,
   "id": "17663fb4",
   "metadata": {},
   "outputs": [
    {
     "data": {
      "text/html": [
       "<div>\n",
       "<style scoped>\n",
       "    .dataframe tbody tr th:only-of-type {\n",
       "        vertical-align: middle;\n",
       "    }\n",
       "\n",
       "    .dataframe tbody tr th {\n",
       "        vertical-align: top;\n",
       "    }\n",
       "\n",
       "    .dataframe thead th {\n",
       "        text-align: right;\n",
       "    }\n",
       "</style>\n",
       "<table border=\"1\" class=\"dataframe\">\n",
       "  <thead>\n",
       "    <tr style=\"text-align: right;\">\n",
       "      <th></th>\n",
       "      <th>children</th>\n",
       "      <th>days_employed</th>\n",
       "      <th>dob_years</th>\n",
       "      <th>education</th>\n",
       "      <th>education_id</th>\n",
       "      <th>family_status</th>\n",
       "      <th>family_status_id</th>\n",
       "      <th>gender</th>\n",
       "      <th>income_type</th>\n",
       "      <th>debt</th>\n",
       "      <th>total_income</th>\n",
       "      <th>purpose</th>\n",
       "    </tr>\n",
       "  </thead>\n",
       "  <tbody>\n",
       "    <tr>\n",
       "      <td>8369</td>\n",
       "      <td>0</td>\n",
       "      <td>401590.452231</td>\n",
       "      <td>58</td>\n",
       "      <td>среднее</td>\n",
       "      <td>1</td>\n",
       "      <td>женат / замужем</td>\n",
       "      <td>0</td>\n",
       "      <td>F</td>\n",
       "      <td>пенсионер</td>\n",
       "      <td>0</td>\n",
       "      <td>175306.312902</td>\n",
       "      <td>образование</td>\n",
       "    </tr>\n",
       "    <tr>\n",
       "      <td>10991</td>\n",
       "      <td>0</td>\n",
       "      <td>401591.828457</td>\n",
       "      <td>56</td>\n",
       "      <td>среднее</td>\n",
       "      <td>1</td>\n",
       "      <td>в разводе</td>\n",
       "      <td>3</td>\n",
       "      <td>F</td>\n",
       "      <td>пенсионер</td>\n",
       "      <td>0</td>\n",
       "      <td>39513.517543</td>\n",
       "      <td>получение дополнительного образования</td>\n",
       "    </tr>\n",
       "    <tr>\n",
       "      <td>17823</td>\n",
       "      <td>0</td>\n",
       "      <td>401614.475622</td>\n",
       "      <td>59</td>\n",
       "      <td>среднее</td>\n",
       "      <td>1</td>\n",
       "      <td>женат / замужем</td>\n",
       "      <td>0</td>\n",
       "      <td>F</td>\n",
       "      <td>пенсионер</td>\n",
       "      <td>0</td>\n",
       "      <td>152769.694536</td>\n",
       "      <td>покупка жилья для сдачи</td>\n",
       "    </tr>\n",
       "    <tr>\n",
       "      <td>13420</td>\n",
       "      <td>0</td>\n",
       "      <td>401619.633298</td>\n",
       "      <td>63</td>\n",
       "      <td>Среднее</td>\n",
       "      <td>1</td>\n",
       "      <td>гражданский брак</td>\n",
       "      <td>1</td>\n",
       "      <td>F</td>\n",
       "      <td>пенсионер</td>\n",
       "      <td>0</td>\n",
       "      <td>51449.788325</td>\n",
       "      <td>сыграть свадьбу</td>\n",
       "    </tr>\n",
       "    <tr>\n",
       "      <td>4697</td>\n",
       "      <td>0</td>\n",
       "      <td>401635.032697</td>\n",
       "      <td>56</td>\n",
       "      <td>среднее</td>\n",
       "      <td>1</td>\n",
       "      <td>женат / замужем</td>\n",
       "      <td>0</td>\n",
       "      <td>F</td>\n",
       "      <td>пенсионер</td>\n",
       "      <td>0</td>\n",
       "      <td>48242.322502</td>\n",
       "      <td>покупка недвижимости</td>\n",
       "    </tr>\n",
       "    <tr>\n",
       "      <td>7794</td>\n",
       "      <td>0</td>\n",
       "      <td>401663.850046</td>\n",
       "      <td>61</td>\n",
       "      <td>среднее</td>\n",
       "      <td>1</td>\n",
       "      <td>гражданский брак</td>\n",
       "      <td>1</td>\n",
       "      <td>F</td>\n",
       "      <td>пенсионер</td>\n",
       "      <td>0</td>\n",
       "      <td>48286.441362</td>\n",
       "      <td>свадьба</td>\n",
       "    </tr>\n",
       "    <tr>\n",
       "      <td>2156</td>\n",
       "      <td>0</td>\n",
       "      <td>401674.466633</td>\n",
       "      <td>60</td>\n",
       "      <td>среднее</td>\n",
       "      <td>1</td>\n",
       "      <td>женат / замужем</td>\n",
       "      <td>0</td>\n",
       "      <td>M</td>\n",
       "      <td>пенсионер</td>\n",
       "      <td>0</td>\n",
       "      <td>325395.724541</td>\n",
       "      <td>автомобили</td>\n",
       "    </tr>\n",
       "    <tr>\n",
       "      <td>7664</td>\n",
       "      <td>1</td>\n",
       "      <td>401675.093434</td>\n",
       "      <td>61</td>\n",
       "      <td>среднее</td>\n",
       "      <td>1</td>\n",
       "      <td>женат / замужем</td>\n",
       "      <td>0</td>\n",
       "      <td>F</td>\n",
       "      <td>пенсионер</td>\n",
       "      <td>0</td>\n",
       "      <td>126214.519212</td>\n",
       "      <td>операции с жильем</td>\n",
       "    </tr>\n",
       "    <tr>\n",
       "      <td>10006</td>\n",
       "      <td>0</td>\n",
       "      <td>401715.811749</td>\n",
       "      <td>69</td>\n",
       "      <td>высшее</td>\n",
       "      <td>0</td>\n",
       "      <td>Не женат / не замужем</td>\n",
       "      <td>4</td>\n",
       "      <td>F</td>\n",
       "      <td>пенсионер</td>\n",
       "      <td>0</td>\n",
       "      <td>57390.256908</td>\n",
       "      <td>получение образования</td>\n",
       "    </tr>\n",
       "    <tr>\n",
       "      <td>6954</td>\n",
       "      <td>0</td>\n",
       "      <td>401755.400475</td>\n",
       "      <td>56</td>\n",
       "      <td>среднее</td>\n",
       "      <td>1</td>\n",
       "      <td>вдовец / вдова</td>\n",
       "      <td>2</td>\n",
       "      <td>F</td>\n",
       "      <td>пенсионер</td>\n",
       "      <td>0</td>\n",
       "      <td>176278.441171</td>\n",
       "      <td>ремонт жилью</td>\n",
       "    </tr>\n",
       "  </tbody>\n",
       "</table>\n",
       "</div>"
      ],
      "text/plain": [
       "       children  days_employed  dob_years education  education_id  \\\n",
       "8369          0  401590.452231         58   среднее             1   \n",
       "10991         0  401591.828457         56   среднее             1   \n",
       "17823         0  401614.475622         59   среднее             1   \n",
       "13420         0  401619.633298         63   Среднее             1   \n",
       "4697          0  401635.032697         56   среднее             1   \n",
       "7794          0  401663.850046         61   среднее             1   \n",
       "2156          0  401674.466633         60   среднее             1   \n",
       "7664          1  401675.093434         61   среднее             1   \n",
       "10006         0  401715.811749         69    высшее             0   \n",
       "6954          0  401755.400475         56   среднее             1   \n",
       "\n",
       "               family_status  family_status_id gender income_type  debt  \\\n",
       "8369         женат / замужем                 0      F   пенсионер     0   \n",
       "10991              в разводе                 3      F   пенсионер     0   \n",
       "17823        женат / замужем                 0      F   пенсионер     0   \n",
       "13420       гражданский брак                 1      F   пенсионер     0   \n",
       "4697         женат / замужем                 0      F   пенсионер     0   \n",
       "7794        гражданский брак                 1      F   пенсионер     0   \n",
       "2156         женат / замужем                 0      M   пенсионер     0   \n",
       "7664         женат / замужем                 0      F   пенсионер     0   \n",
       "10006  Не женат / не замужем                 4      F   пенсионер     0   \n",
       "6954          вдовец / вдова                 2      F   пенсионер     0   \n",
       "\n",
       "        total_income                                purpose  \n",
       "8369   175306.312902                            образование  \n",
       "10991   39513.517543  получение дополнительного образования  \n",
       "17823  152769.694536                покупка жилья для сдачи  \n",
       "13420   51449.788325                        сыграть свадьбу  \n",
       "4697    48242.322502                   покупка недвижимости  \n",
       "7794    48286.441362                                свадьба  \n",
       "2156   325395.724541                             автомобили  \n",
       "7664   126214.519212                      операции с жильем  \n",
       "10006   57390.256908                  получение образования  \n",
       "6954   176278.441171                           ремонт жилью  "
      ]
     },
     "execution_count": 334,
     "metadata": {},
     "output_type": "execute_result"
    }
   ],
   "source": [
    "data.tail(10)"
   ]
  },
  {
   "cell_type": "markdown",
   "id": "c52234c2",
   "metadata": {},
   "source": [
    "Аномалии очень большого стажа занимают значительную часть данных и встречаются в основном у пенсионеров. Предлагаю заменить данные значения медианной. "
   ]
  },
  {
   "cell_type": "code",
   "execution_count": 335,
   "id": "016e7bad",
   "metadata": {},
   "outputs": [],
   "source": [
    "data = data.sort_values(by = 'days_employed')\n",
    "med_days = data['days_employed'].median()\n",
    "old_value = []\n",
    "for element in data['days_employed']:\n",
    "    if element > 18000:\n",
    "        old_value.append(element)\n",
    "new_value = data['days_employed'].median()\n",
    "for element in old_value:\n",
    "    data['days_employed'] = data['days_employed'].replace(element, new_value)"
   ]
  },
  {
   "cell_type": "code",
   "execution_count": 336,
   "id": "218feb87",
   "metadata": {},
   "outputs": [
    {
     "data": {
      "text/plain": [
       "1808.053434    3447\n",
       "1203.369529    2175\n",
       "3231.722690       1\n",
       "1645.169363       1\n",
       "1038.987541       1\n",
       "               ... \n",
       "372.393123        1\n",
       "1124.619628       1\n",
       "1443.333741       1\n",
       "4746.367281       1\n",
       "582.538413        1\n",
       "Name: days_employed, Length: 15905, dtype: int64"
      ]
     },
     "execution_count": 336,
     "metadata": {},
     "output_type": "execute_result"
    }
   ],
   "source": [
    "data['days_employed'].value_counts()"
   ]
  },
  {
   "cell_type": "code",
   "execution_count": 337,
   "id": "6d81ae31",
   "metadata": {},
   "outputs": [
    {
     "data": {
      "text/plain": [
       "35    617\n",
       "40    609\n",
       "41    607\n",
       "34    603\n",
       "38    598\n",
       "42    597\n",
       "33    581\n",
       "39    573\n",
       "31    560\n",
       "36    555\n",
       "44    547\n",
       "29    545\n",
       "30    540\n",
       "48    538\n",
       "37    537\n",
       "50    514\n",
       "43    513\n",
       "32    510\n",
       "49    508\n",
       "28    503\n",
       "45    497\n",
       "27    493\n",
       "56    487\n",
       "52    484\n",
       "47    480\n",
       "54    479\n",
       "46    475\n",
       "58    461\n",
       "57    460\n",
       "53    459\n",
       "51    448\n",
       "59    444\n",
       "55    443\n",
       "26    408\n",
       "60    377\n",
       "25    357\n",
       "61    355\n",
       "62    352\n",
       "63    269\n",
       "64    265\n",
       "24    264\n",
       "23    254\n",
       "65    194\n",
       "66    183\n",
       "22    183\n",
       "67    167\n",
       "21    111\n",
       "0     101\n",
       "68     99\n",
       "69     85\n",
       "70     65\n",
       "71     58\n",
       "20     51\n",
       "72     33\n",
       "19     14\n",
       "73      8\n",
       "74      6\n",
       "75      1\n",
       "Name: dob_years, dtype: int64"
      ]
     },
     "execution_count": 337,
     "metadata": {},
     "output_type": "execute_result"
    }
   ],
   "source": [
    "# посмотрим уникальные значения по столбцу dob_years\n",
    "data['dob_years'].value_counts()"
   ]
  },
  {
   "cell_type": "markdown",
   "id": "847c2144",
   "metadata": {},
   "source": [
    "0 лет явно неверное значение, как и многие количественные значения, их лучше всего заменить медианной."
   ]
  },
  {
   "cell_type": "code",
   "execution_count": 338,
   "id": "ff3a226d",
   "metadata": {},
   "outputs": [],
   "source": [
    "data = data.sort_values(by = 'dob_years')\n",
    "med_years = data['dob_years'].median()\n",
    "old_value = [0]\n",
    "new_value = data['dob_years'].median()\n",
    "for element in old_value:\n",
    "    data['dob_years'] = data['dob_years'].replace(element, new_value)"
   ]
  },
  {
   "cell_type": "code",
   "execution_count": 339,
   "id": "47d46365",
   "metadata": {},
   "outputs": [
    {
     "data": {
      "text/plain": [
       "42    698\n",
       "35    617\n",
       "40    609\n",
       "41    607\n",
       "34    603\n",
       "38    598\n",
       "33    581\n",
       "39    573\n",
       "31    560\n",
       "36    555\n",
       "44    547\n",
       "29    545\n",
       "30    540\n",
       "48    538\n",
       "37    537\n",
       "50    514\n",
       "43    513\n",
       "32    510\n",
       "49    508\n",
       "28    503\n",
       "45    497\n",
       "27    493\n",
       "56    487\n",
       "52    484\n",
       "47    480\n",
       "54    479\n",
       "46    475\n",
       "58    461\n",
       "57    460\n",
       "53    459\n",
       "51    448\n",
       "59    444\n",
       "55    443\n",
       "26    408\n",
       "60    377\n",
       "25    357\n",
       "61    355\n",
       "62    352\n",
       "63    269\n",
       "64    265\n",
       "24    264\n",
       "23    254\n",
       "65    194\n",
       "66    183\n",
       "22    183\n",
       "67    167\n",
       "21    111\n",
       "68     99\n",
       "69     85\n",
       "70     65\n",
       "71     58\n",
       "20     51\n",
       "72     33\n",
       "19     14\n",
       "73      8\n",
       "74      6\n",
       "75      1\n",
       "Name: dob_years, dtype: int64"
      ]
     },
     "execution_count": 339,
     "metadata": {},
     "output_type": "execute_result"
    }
   ],
   "source": [
    "# проверим получилось ли заменить значение\n",
    "data['dob_years'].value_counts()"
   ]
  },
  {
   "cell_type": "code",
   "execution_count": 340,
   "id": "5889922b",
   "metadata": {},
   "outputs": [
    {
     "data": {
      "text/plain": [
       "20667.26379327158"
      ]
     },
     "execution_count": 340,
     "metadata": {},
     "output_type": "execute_result"
    }
   ],
   "source": [
    "# узнаем мин и мкс столбца total_income\n",
    "data['total_income'].min()"
   ]
  },
  {
   "cell_type": "code",
   "execution_count": 341,
   "id": "082bc06c",
   "metadata": {},
   "outputs": [
    {
     "data": {
      "text/plain": [
       "2265604.028722744"
      ]
     },
     "execution_count": 341,
     "metadata": {},
     "output_type": "execute_result"
    }
   ],
   "source": [
    "data['total_income'].max()"
   ]
  },
  {
   "cell_type": "markdown",
   "id": "d2d4c59a",
   "metadata": {},
   "source": [
    "Такой разброс в доходах вполне может быть. Предлагаю прейти к следующему шагу."
   ]
  },
  {
   "cell_type": "markdown",
   "id": "ea639f79",
   "metadata": {},
   "source": [
    "### Шаг 2.3. Изменение типов данных."
   ]
  },
  {
   "cell_type": "markdown",
   "id": "35fae5bd",
   "metadata": {},
   "source": [
    "У нас есть два столбца с вещественным типом данных, для удобства расчетов и наглядности предлагаю заменить их на цельночисленный."
   ]
  },
  {
   "cell_type": "code",
   "execution_count": 342,
   "id": "97cfdd50",
   "metadata": {},
   "outputs": [],
   "source": [
    "try: \n",
    "    data['days_employed'] = data['days_employed'].astype('int')\n",
    "except: \n",
    "    print(data)"
   ]
  },
  {
   "cell_type": "code",
   "execution_count": 343,
   "id": "7e82c8f4",
   "metadata": {},
   "outputs": [],
   "source": [
    "try:\n",
    "    data['total_income'] = data['total_income'].astype('int')\n",
    "except:\n",
    "    print(data)    "
   ]
  },
  {
   "cell_type": "code",
   "execution_count": 344,
   "id": "dc8c7598",
   "metadata": {},
   "outputs": [
    {
     "name": "stdout",
     "output_type": "stream",
     "text": [
      "<class 'pandas.core.frame.DataFrame'>\n",
      "Int64Index: 21525 entries, 7344 to 8880\n",
      "Data columns (total 12 columns):\n",
      "children            21525 non-null int64\n",
      "days_employed       21525 non-null int64\n",
      "dob_years           21525 non-null int64\n",
      "education           21525 non-null object\n",
      "education_id        21525 non-null int64\n",
      "family_status       21525 non-null object\n",
      "family_status_id    21525 non-null int64\n",
      "gender              21525 non-null object\n",
      "income_type         21525 non-null object\n",
      "debt                21525 non-null int64\n",
      "total_income        21525 non-null int64\n",
      "purpose             21525 non-null object\n",
      "dtypes: int64(7), object(5)\n",
      "memory usage: 2.1+ MB\n"
     ]
    }
   ],
   "source": [
    "# проверим, вызвав метод info\n",
    "data.info()"
   ]
  },
  {
   "cell_type": "markdown",
   "id": "e9ebe23b",
   "metadata": {},
   "source": [
    "### Шаг 2.4. Удаление дубликатов."
   ]
  },
  {
   "cell_type": "markdown",
   "id": "14448e6d",
   "metadata": {},
   "source": [
    "Приступим к поиску и устранению явных дубликатов"
   ]
  },
  {
   "cell_type": "code",
   "execution_count": 345,
   "id": "1809377d",
   "metadata": {},
   "outputs": [
    {
     "data": {
      "text/plain": [
       "55"
      ]
     },
     "execution_count": 345,
     "metadata": {},
     "output_type": "execute_result"
    }
   ],
   "source": [
    "# посмотрим количество дубликатов в датафрейме \n",
    "data.duplicated().sum()"
   ]
  },
  {
   "cell_type": "code",
   "execution_count": 346,
   "id": "6365559b",
   "metadata": {},
   "outputs": [],
   "source": [
    "# удалим дубликаты, сохранив индексацию\n",
    "data = data.drop_duplicates().reset_index(drop=True)"
   ]
  },
  {
   "cell_type": "code",
   "execution_count": 347,
   "id": "cf3f4bb9",
   "metadata": {},
   "outputs": [
    {
     "data": {
      "text/plain": [
       "array(['среднее', 'высшее', 'Среднее', 'СРЕДНЕЕ', 'ВЫСШЕЕ', 'Высшее',\n",
       "       'неоконченное высшее', 'Неоконченное высшее',\n",
       "       'НЕОКОНЧЕННОЕ ВЫСШЕЕ', 'начальное', 'Начальное', 'НАЧАЛЬНОЕ',\n",
       "       'ученая степень', 'УЧЕНАЯ СТЕПЕНЬ', 'Ученая степень'], dtype=object)"
      ]
     },
     "execution_count": 347,
     "metadata": {},
     "output_type": "execute_result"
    }
   ],
   "source": [
    "# просмотрим уникальные значения столбца education\n",
    "data['education'].unique()"
   ]
  },
  {
   "cell_type": "markdown",
   "id": "9f52a432",
   "metadata": {},
   "source": [
    "В столбце необходимо привести все к одному регистру "
   ]
  },
  {
   "cell_type": "code",
   "execution_count": 348,
   "id": "3be8c7c0",
   "metadata": {},
   "outputs": [],
   "source": [
    "data['education'] = data['education'].str.lower()\n"
   ]
  },
  {
   "cell_type": "code",
   "execution_count": 349,
   "id": "01b7d880",
   "metadata": {},
   "outputs": [
    {
     "data": {
      "text/plain": [
       "array(['среднее', 'высшее', 'неоконченное высшее', 'начальное',\n",
       "       'ученая степень'], dtype=object)"
      ]
     },
     "execution_count": 349,
     "metadata": {},
     "output_type": "execute_result"
    }
   ],
   "source": [
    "#проверим столбец education \n",
    "data['education'].unique()"
   ]
  },
  {
   "cell_type": "code",
   "execution_count": 350,
   "id": "8d2c5d17",
   "metadata": {},
   "outputs": [
    {
     "data": {
      "text/plain": [
       "array(['сотрудник', 'госслужащий', 'компаньон', 'пенсионер', 'студент',\n",
       "       'предприниматель', 'безработный', 'в декрете'], dtype=object)"
      ]
     },
     "execution_count": 350,
     "metadata": {},
     "output_type": "execute_result"
    }
   ],
   "source": [
    "# просмотрим уникальные значения столбца income_type\n",
    "data['income_type'].unique()"
   ]
  },
  {
   "cell_type": "markdown",
   "id": "5f4035f1",
   "metadata": {},
   "source": [
    "Во время работы с дубликатами мы обнаружили и убрали явные дубликаты. А так же неявные: в столбце с образованием привели все к нижнему регистру."
   ]
  },
  {
   "cell_type": "markdown",
   "id": "1ecc122f",
   "metadata": {},
   "source": [
    "### Шаг 2.5. Формирование дополнительных датафреймов словарей, декомпозиция исходного датафрейма."
   ]
  },
  {
   "cell_type": "markdown",
   "id": "be8d4971",
   "metadata": {},
   "source": [
    "Создадим два датафрейма, как словари для обращения к ним по id"
   ]
  },
  {
   "cell_type": "code",
   "execution_count": 351,
   "id": "dfb1ca5f",
   "metadata": {},
   "outputs": [],
   "source": [
    "education_log = data[['education_id', 'education']]"
   ]
  },
  {
   "cell_type": "code",
   "execution_count": 352,
   "id": "56fe72b8",
   "metadata": {},
   "outputs": [],
   "source": [
    "family_log = data[['family_status_id', 'family_status']]"
   ]
  },
  {
   "cell_type": "code",
   "execution_count": 353,
   "id": "5421cac0",
   "metadata": {},
   "outputs": [
    {
     "data": {
      "text/html": [
       "<div>\n",
       "<style scoped>\n",
       "    .dataframe tbody tr th:only-of-type {\n",
       "        vertical-align: middle;\n",
       "    }\n",
       "\n",
       "    .dataframe tbody tr th {\n",
       "        vertical-align: top;\n",
       "    }\n",
       "\n",
       "    .dataframe thead th {\n",
       "        text-align: right;\n",
       "    }\n",
       "</style>\n",
       "<table border=\"1\" class=\"dataframe\">\n",
       "  <thead>\n",
       "    <tr style=\"text-align: right;\">\n",
       "      <th></th>\n",
       "      <th>education_id</th>\n",
       "      <th>education</th>\n",
       "    </tr>\n",
       "  </thead>\n",
       "  <tbody>\n",
       "    <tr>\n",
       "      <td>0</td>\n",
       "      <td>1</td>\n",
       "      <td>среднее</td>\n",
       "    </tr>\n",
       "    <tr>\n",
       "      <td>1</td>\n",
       "      <td>0</td>\n",
       "      <td>высшее</td>\n",
       "    </tr>\n",
       "    <tr>\n",
       "      <td>2</td>\n",
       "      <td>2</td>\n",
       "      <td>неоконченное высшее</td>\n",
       "    </tr>\n",
       "    <tr>\n",
       "      <td>3</td>\n",
       "      <td>3</td>\n",
       "      <td>начальное</td>\n",
       "    </tr>\n",
       "    <tr>\n",
       "      <td>4</td>\n",
       "      <td>4</td>\n",
       "      <td>ученая степень</td>\n",
       "    </tr>\n",
       "  </tbody>\n",
       "</table>\n",
       "</div>"
      ],
      "text/plain": [
       "   education_id            education\n",
       "0             1              среднее\n",
       "1             0               высшее\n",
       "2             2  неоконченное высшее\n",
       "3             3            начальное\n",
       "4             4       ученая степень"
      ]
     },
     "execution_count": 353,
     "metadata": {},
     "output_type": "execute_result"
    }
   ],
   "source": [
    "# очистим таблицу education_log сразу же от дубликатов, сохранив индексацию и выведем первые 10 строк\n",
    "education_log = education_log.drop_duplicates().reset_index(drop=True)\n",
    "education_log.head(10)"
   ]
  },
  {
   "cell_type": "code",
   "execution_count": 354,
   "id": "b0b6ca0b",
   "metadata": {},
   "outputs": [
    {
     "data": {
      "text/html": [
       "<div>\n",
       "<style scoped>\n",
       "    .dataframe tbody tr th:only-of-type {\n",
       "        vertical-align: middle;\n",
       "    }\n",
       "\n",
       "    .dataframe tbody tr th {\n",
       "        vertical-align: top;\n",
       "    }\n",
       "\n",
       "    .dataframe thead th {\n",
       "        text-align: right;\n",
       "    }\n",
       "</style>\n",
       "<table border=\"1\" class=\"dataframe\">\n",
       "  <thead>\n",
       "    <tr style=\"text-align: right;\">\n",
       "      <th></th>\n",
       "      <th>family_status_id</th>\n",
       "      <th>family_status</th>\n",
       "    </tr>\n",
       "  </thead>\n",
       "  <tbody>\n",
       "    <tr>\n",
       "      <td>0</td>\n",
       "      <td>0</td>\n",
       "      <td>женат / замужем</td>\n",
       "    </tr>\n",
       "    <tr>\n",
       "      <td>1</td>\n",
       "      <td>3</td>\n",
       "      <td>в разводе</td>\n",
       "    </tr>\n",
       "    <tr>\n",
       "      <td>2</td>\n",
       "      <td>1</td>\n",
       "      <td>гражданский брак</td>\n",
       "    </tr>\n",
       "    <tr>\n",
       "      <td>3</td>\n",
       "      <td>4</td>\n",
       "      <td>Не женат / не замужем</td>\n",
       "    </tr>\n",
       "    <tr>\n",
       "      <td>4</td>\n",
       "      <td>2</td>\n",
       "      <td>вдовец / вдова</td>\n",
       "    </tr>\n",
       "  </tbody>\n",
       "</table>\n",
       "</div>"
      ],
      "text/plain": [
       "   family_status_id          family_status\n",
       "0                 0        женат / замужем\n",
       "1                 3              в разводе\n",
       "2                 1       гражданский брак\n",
       "3                 4  Не женат / не замужем\n",
       "4                 2         вдовец / вдова"
      ]
     },
     "execution_count": 354,
     "metadata": {},
     "output_type": "execute_result"
    }
   ],
   "source": [
    "# очистим таблицу family_log сразу же от дубликатов, сохранив индексацию и выведем первые 10 строк\n",
    "family_log = family_log.drop_duplicates().reset_index(drop=True)\n",
    "family_log.head(10)"
   ]
  },
  {
   "cell_type": "markdown",
   "id": "55279294",
   "metadata": {},
   "source": [
    "Теперь удалим из исходного датафрейма столбцы education и family_status, оставив только их идентификаторы: education_id и family_status_id и будем обращаться к словворям family_log и education_log по id."
   ]
  },
  {
   "cell_type": "code",
   "execution_count": 355,
   "id": "d2067178",
   "metadata": {},
   "outputs": [
    {
     "data": {
      "text/html": [
       "<div>\n",
       "<style scoped>\n",
       "    .dataframe tbody tr th:only-of-type {\n",
       "        vertical-align: middle;\n",
       "    }\n",
       "\n",
       "    .dataframe tbody tr th {\n",
       "        vertical-align: top;\n",
       "    }\n",
       "\n",
       "    .dataframe thead th {\n",
       "        text-align: right;\n",
       "    }\n",
       "</style>\n",
       "<table border=\"1\" class=\"dataframe\">\n",
       "  <thead>\n",
       "    <tr style=\"text-align: right;\">\n",
       "      <th></th>\n",
       "      <th>children</th>\n",
       "      <th>days_employed</th>\n",
       "      <th>dob_years</th>\n",
       "      <th>education_id</th>\n",
       "      <th>family_status_id</th>\n",
       "      <th>gender</th>\n",
       "      <th>income_type</th>\n",
       "      <th>debt</th>\n",
       "      <th>total_income</th>\n",
       "      <th>purpose</th>\n",
       "    </tr>\n",
       "  </thead>\n",
       "  <tbody>\n",
       "    <tr>\n",
       "      <td>0</td>\n",
       "      <td>0</td>\n",
       "      <td>401</td>\n",
       "      <td>42</td>\n",
       "      <td>1</td>\n",
       "      <td>0</td>\n",
       "      <td>M</td>\n",
       "      <td>сотрудник</td>\n",
       "      <td>0</td>\n",
       "      <td>158913</td>\n",
       "      <td>операции с жильем</td>\n",
       "    </tr>\n",
       "    <tr>\n",
       "      <td>1</td>\n",
       "      <td>2</td>\n",
       "      <td>8035</td>\n",
       "      <td>42</td>\n",
       "      <td>0</td>\n",
       "      <td>3</td>\n",
       "      <td>F</td>\n",
       "      <td>госслужащий</td>\n",
       "      <td>0</td>\n",
       "      <td>112661</td>\n",
       "      <td>покупка жилой недвижимости</td>\n",
       "    </tr>\n",
       "    <tr>\n",
       "      <td>2</td>\n",
       "      <td>0</td>\n",
       "      <td>934</td>\n",
       "      <td>42</td>\n",
       "      <td>1</td>\n",
       "      <td>0</td>\n",
       "      <td>F</td>\n",
       "      <td>компаньон</td>\n",
       "      <td>0</td>\n",
       "      <td>201852</td>\n",
       "      <td>покупка недвижимости</td>\n",
       "    </tr>\n",
       "    <tr>\n",
       "      <td>3</td>\n",
       "      <td>0</td>\n",
       "      <td>1808</td>\n",
       "      <td>42</td>\n",
       "      <td>1</td>\n",
       "      <td>0</td>\n",
       "      <td>F</td>\n",
       "      <td>пенсионер</td>\n",
       "      <td>0</td>\n",
       "      <td>71291</td>\n",
       "      <td>автомобиль</td>\n",
       "    </tr>\n",
       "    <tr>\n",
       "      <td>4</td>\n",
       "      <td>0</td>\n",
       "      <td>6683</td>\n",
       "      <td>42</td>\n",
       "      <td>1</td>\n",
       "      <td>0</td>\n",
       "      <td>F</td>\n",
       "      <td>сотрудник</td>\n",
       "      <td>0</td>\n",
       "      <td>80315</td>\n",
       "      <td>автомобиль</td>\n",
       "    </tr>\n",
       "    <tr>\n",
       "      <td>5</td>\n",
       "      <td>0</td>\n",
       "      <td>2497</td>\n",
       "      <td>42</td>\n",
       "      <td>1</td>\n",
       "      <td>0</td>\n",
       "      <td>F</td>\n",
       "      <td>сотрудник</td>\n",
       "      <td>1</td>\n",
       "      <td>91367</td>\n",
       "      <td>недвижимость</td>\n",
       "    </tr>\n",
       "    <tr>\n",
       "      <td>6</td>\n",
       "      <td>0</td>\n",
       "      <td>1203</td>\n",
       "      <td>42</td>\n",
       "      <td>1</td>\n",
       "      <td>0</td>\n",
       "      <td>F</td>\n",
       "      <td>сотрудник</td>\n",
       "      <td>0</td>\n",
       "      <td>145017</td>\n",
       "      <td>жилье</td>\n",
       "    </tr>\n",
       "    <tr>\n",
       "      <td>7</td>\n",
       "      <td>0</td>\n",
       "      <td>334</td>\n",
       "      <td>42</td>\n",
       "      <td>1</td>\n",
       "      <td>1</td>\n",
       "      <td>M</td>\n",
       "      <td>сотрудник</td>\n",
       "      <td>0</td>\n",
       "      <td>174105</td>\n",
       "      <td>сыграть свадьбу</td>\n",
       "    </tr>\n",
       "    <tr>\n",
       "      <td>8</td>\n",
       "      <td>2</td>\n",
       "      <td>1371</td>\n",
       "      <td>42</td>\n",
       "      <td>1</td>\n",
       "      <td>0</td>\n",
       "      <td>M</td>\n",
       "      <td>сотрудник</td>\n",
       "      <td>0</td>\n",
       "      <td>179138</td>\n",
       "      <td>покупка жилья для семьи</td>\n",
       "    </tr>\n",
       "    <tr>\n",
       "      <td>9</td>\n",
       "      <td>0</td>\n",
       "      <td>1095</td>\n",
       "      <td>42</td>\n",
       "      <td>0</td>\n",
       "      <td>0</td>\n",
       "      <td>M</td>\n",
       "      <td>сотрудник</td>\n",
       "      <td>0</td>\n",
       "      <td>250757</td>\n",
       "      <td>покупка жилья</td>\n",
       "    </tr>\n",
       "  </tbody>\n",
       "</table>\n",
       "</div>"
      ],
      "text/plain": [
       "   children  days_employed  dob_years  education_id  family_status_id gender  \\\n",
       "0         0            401         42             1                 0      M   \n",
       "1         2           8035         42             0                 3      F   \n",
       "2         0            934         42             1                 0      F   \n",
       "3         0           1808         42             1                 0      F   \n",
       "4         0           6683         42             1                 0      F   \n",
       "5         0           2497         42             1                 0      F   \n",
       "6         0           1203         42             1                 0      F   \n",
       "7         0            334         42             1                 1      M   \n",
       "8         2           1371         42             1                 0      M   \n",
       "9         0           1095         42             0                 0      M   \n",
       "\n",
       "   income_type  debt  total_income                     purpose  \n",
       "0    сотрудник     0        158913           операции с жильем  \n",
       "1  госслужащий     0        112661  покупка жилой недвижимости  \n",
       "2    компаньон     0        201852        покупка недвижимости  \n",
       "3    пенсионер     0         71291                  автомобиль  \n",
       "4    сотрудник     0         80315                  автомобиль  \n",
       "5    сотрудник     1         91367                недвижимость  \n",
       "6    сотрудник     0        145017                       жилье  \n",
       "7    сотрудник     0        174105             сыграть свадьбу  \n",
       "8    сотрудник     0        179138     покупка жилья для семьи  \n",
       "9    сотрудник     0        250757               покупка жилья  "
      ]
     },
     "execution_count": 355,
     "metadata": {},
     "output_type": "execute_result"
    }
   ],
   "source": [
    "data = data.drop(columns = ['education','family_status'], axis=1)\n",
    "data.head(10)"
   ]
  },
  {
   "cell_type": "markdown",
   "id": "d3cf4ccd",
   "metadata": {},
   "source": [
    "### Шаг 2.6. Категоризация дохода."
   ]
  },
  {
   "cell_type": "markdown",
   "id": "aedf4bd0",
   "metadata": {},
   "source": [
    "На основании диапазонов, указанных ниже, создадим столбец total_income_category с категориями:\n",
    "o\t0–30000 — 'E';\n",
    "o\t30001–50000 — 'D';\n",
    "o\t50001–200000 — 'C';\n",
    "o\t200001–1000000 — 'B';\n",
    "o\t1000001 и выше — 'A'.\n",
    "\n"
   ]
  },
  {
   "cell_type": "code",
   "execution_count": 356,
   "id": "b185d368",
   "metadata": {},
   "outputs": [],
   "source": [
    "# создадим функцию, которая будет возвращать категорию, в зависимости от дохода. \n",
    "def income_group(income):\n",
    "    if income <= 30000:\n",
    "        return 'E'\n",
    "    if 30001 <= income <= 50000:\n",
    "        return 'D'\n",
    "    if 50001 <= income <= 200000:\n",
    "        return 'C'\n",
    "    if 200001 <= income <= 1000000:\n",
    "        return 'B'\n",
    "    return 'A'\n",
    "  "
   ]
  },
  {
   "cell_type": "code",
   "execution_count": 357,
   "id": "d039e1b0",
   "metadata": {},
   "outputs": [
    {
     "data": {
      "text/html": [
       "<div>\n",
       "<style scoped>\n",
       "    .dataframe tbody tr th:only-of-type {\n",
       "        vertical-align: middle;\n",
       "    }\n",
       "\n",
       "    .dataframe tbody tr th {\n",
       "        vertical-align: top;\n",
       "    }\n",
       "\n",
       "    .dataframe thead th {\n",
       "        text-align: right;\n",
       "    }\n",
       "</style>\n",
       "<table border=\"1\" class=\"dataframe\">\n",
       "  <thead>\n",
       "    <tr style=\"text-align: right;\">\n",
       "      <th></th>\n",
       "      <th>children</th>\n",
       "      <th>days_employed</th>\n",
       "      <th>dob_years</th>\n",
       "      <th>education_id</th>\n",
       "      <th>family_status_id</th>\n",
       "      <th>gender</th>\n",
       "      <th>income_type</th>\n",
       "      <th>debt</th>\n",
       "      <th>total_income</th>\n",
       "      <th>purpose</th>\n",
       "      <th>income_group</th>\n",
       "    </tr>\n",
       "  </thead>\n",
       "  <tbody>\n",
       "    <tr>\n",
       "      <td>0</td>\n",
       "      <td>0</td>\n",
       "      <td>401</td>\n",
       "      <td>42</td>\n",
       "      <td>1</td>\n",
       "      <td>0</td>\n",
       "      <td>M</td>\n",
       "      <td>сотрудник</td>\n",
       "      <td>0</td>\n",
       "      <td>158913</td>\n",
       "      <td>операции с жильем</td>\n",
       "      <td>C</td>\n",
       "    </tr>\n",
       "    <tr>\n",
       "      <td>1</td>\n",
       "      <td>2</td>\n",
       "      <td>8035</td>\n",
       "      <td>42</td>\n",
       "      <td>0</td>\n",
       "      <td>3</td>\n",
       "      <td>F</td>\n",
       "      <td>госслужащий</td>\n",
       "      <td>0</td>\n",
       "      <td>112661</td>\n",
       "      <td>покупка жилой недвижимости</td>\n",
       "      <td>C</td>\n",
       "    </tr>\n",
       "    <tr>\n",
       "      <td>2</td>\n",
       "      <td>0</td>\n",
       "      <td>934</td>\n",
       "      <td>42</td>\n",
       "      <td>1</td>\n",
       "      <td>0</td>\n",
       "      <td>F</td>\n",
       "      <td>компаньон</td>\n",
       "      <td>0</td>\n",
       "      <td>201852</td>\n",
       "      <td>покупка недвижимости</td>\n",
       "      <td>B</td>\n",
       "    </tr>\n",
       "    <tr>\n",
       "      <td>3</td>\n",
       "      <td>0</td>\n",
       "      <td>1808</td>\n",
       "      <td>42</td>\n",
       "      <td>1</td>\n",
       "      <td>0</td>\n",
       "      <td>F</td>\n",
       "      <td>пенсионер</td>\n",
       "      <td>0</td>\n",
       "      <td>71291</td>\n",
       "      <td>автомобиль</td>\n",
       "      <td>C</td>\n",
       "    </tr>\n",
       "    <tr>\n",
       "      <td>4</td>\n",
       "      <td>0</td>\n",
       "      <td>6683</td>\n",
       "      <td>42</td>\n",
       "      <td>1</td>\n",
       "      <td>0</td>\n",
       "      <td>F</td>\n",
       "      <td>сотрудник</td>\n",
       "      <td>0</td>\n",
       "      <td>80315</td>\n",
       "      <td>автомобиль</td>\n",
       "      <td>C</td>\n",
       "    </tr>\n",
       "    <tr>\n",
       "      <td>5</td>\n",
       "      <td>0</td>\n",
       "      <td>2497</td>\n",
       "      <td>42</td>\n",
       "      <td>1</td>\n",
       "      <td>0</td>\n",
       "      <td>F</td>\n",
       "      <td>сотрудник</td>\n",
       "      <td>1</td>\n",
       "      <td>91367</td>\n",
       "      <td>недвижимость</td>\n",
       "      <td>C</td>\n",
       "    </tr>\n",
       "    <tr>\n",
       "      <td>6</td>\n",
       "      <td>0</td>\n",
       "      <td>1203</td>\n",
       "      <td>42</td>\n",
       "      <td>1</td>\n",
       "      <td>0</td>\n",
       "      <td>F</td>\n",
       "      <td>сотрудник</td>\n",
       "      <td>0</td>\n",
       "      <td>145017</td>\n",
       "      <td>жилье</td>\n",
       "      <td>C</td>\n",
       "    </tr>\n",
       "    <tr>\n",
       "      <td>7</td>\n",
       "      <td>0</td>\n",
       "      <td>334</td>\n",
       "      <td>42</td>\n",
       "      <td>1</td>\n",
       "      <td>1</td>\n",
       "      <td>M</td>\n",
       "      <td>сотрудник</td>\n",
       "      <td>0</td>\n",
       "      <td>174105</td>\n",
       "      <td>сыграть свадьбу</td>\n",
       "      <td>C</td>\n",
       "    </tr>\n",
       "    <tr>\n",
       "      <td>8</td>\n",
       "      <td>2</td>\n",
       "      <td>1371</td>\n",
       "      <td>42</td>\n",
       "      <td>1</td>\n",
       "      <td>0</td>\n",
       "      <td>M</td>\n",
       "      <td>сотрудник</td>\n",
       "      <td>0</td>\n",
       "      <td>179138</td>\n",
       "      <td>покупка жилья для семьи</td>\n",
       "      <td>C</td>\n",
       "    </tr>\n",
       "    <tr>\n",
       "      <td>9</td>\n",
       "      <td>0</td>\n",
       "      <td>1095</td>\n",
       "      <td>42</td>\n",
       "      <td>0</td>\n",
       "      <td>0</td>\n",
       "      <td>M</td>\n",
       "      <td>сотрудник</td>\n",
       "      <td>0</td>\n",
       "      <td>250757</td>\n",
       "      <td>покупка жилья</td>\n",
       "      <td>B</td>\n",
       "    </tr>\n",
       "  </tbody>\n",
       "</table>\n",
       "</div>"
      ],
      "text/plain": [
       "   children  days_employed  dob_years  education_id  family_status_id gender  \\\n",
       "0         0            401         42             1                 0      M   \n",
       "1         2           8035         42             0                 3      F   \n",
       "2         0            934         42             1                 0      F   \n",
       "3         0           1808         42             1                 0      F   \n",
       "4         0           6683         42             1                 0      F   \n",
       "5         0           2497         42             1                 0      F   \n",
       "6         0           1203         42             1                 0      F   \n",
       "7         0            334         42             1                 1      M   \n",
       "8         2           1371         42             1                 0      M   \n",
       "9         0           1095         42             0                 0      M   \n",
       "\n",
       "   income_type  debt  total_income                     purpose income_group  \n",
       "0    сотрудник     0        158913           операции с жильем            C  \n",
       "1  госслужащий     0        112661  покупка жилой недвижимости            C  \n",
       "2    компаньон     0        201852        покупка недвижимости            B  \n",
       "3    пенсионер     0         71291                  автомобиль            C  \n",
       "4    сотрудник     0         80315                  автомобиль            C  \n",
       "5    сотрудник     1         91367                недвижимость            C  \n",
       "6    сотрудник     0        145017                       жилье            C  \n",
       "7    сотрудник     0        174105             сыграть свадьбу            C  \n",
       "8    сотрудник     0        179138     покупка жилья для семьи            C  \n",
       "9    сотрудник     0        250757               покупка жилья            B  "
      ]
     },
     "execution_count": 357,
     "metadata": {},
     "output_type": "execute_result"
    }
   ],
   "source": [
    "# создадим отдельный столбец с категориями доходов, и в его ячейках запишем значения, возвращаемые функцией.\n",
    "\n",
    "data['income_group'] = data['total_income'].apply(income_group)\n",
    "data.head(10)"
   ]
  },
  {
   "cell_type": "markdown",
   "id": "c87ad918",
   "metadata": {},
   "source": [
    "### Шаг 2.7. Категоризация целей кредита."
   ]
  },
  {
   "cell_type": "markdown",
   "id": "4d71ec39",
   "metadata": {},
   "source": [
    "Комментарий для ревьюера: в связи с тем, что в предобработке данных:удаление дубликатов, было не так много уникальных значений и я заменила похожими категориями, считаю нет необходимости в категоризации, так как сейчас в уникальных значениях : array([на недвижимость', 'на образование', 'на свадьбу','покупка автомобиля']. Если данных было больше, то можно как и в категоризации доходов использовать функцию и в условиях использовать 'in'."
   ]
  },
  {
   "cell_type": "code",
   "execution_count": 358,
   "id": "e143ac05",
   "metadata": {},
   "outputs": [],
   "source": [
    "# создадим функцию, которая будет возвращать категорию, в зависимости от цели кредита. \n",
    "def purpose_group(purpose):\n",
    "    if 'авто' in purpose:\n",
    "        return 'покупка автомобиля'\n",
    "    if 'образован' in purpose:\n",
    "        return 'на образование'\n",
    "    if 'свадьб' in purpose:\n",
    "        return 'на свадьбу'\n",
    "    return 'на недвижимость'"
   ]
  },
  {
   "cell_type": "code",
   "execution_count": 359,
   "id": "060cd7ec",
   "metadata": {},
   "outputs": [
    {
     "data": {
      "text/html": [
       "<div>\n",
       "<style scoped>\n",
       "    .dataframe tbody tr th:only-of-type {\n",
       "        vertical-align: middle;\n",
       "    }\n",
       "\n",
       "    .dataframe tbody tr th {\n",
       "        vertical-align: top;\n",
       "    }\n",
       "\n",
       "    .dataframe thead th {\n",
       "        text-align: right;\n",
       "    }\n",
       "</style>\n",
       "<table border=\"1\" class=\"dataframe\">\n",
       "  <thead>\n",
       "    <tr style=\"text-align: right;\">\n",
       "      <th></th>\n",
       "      <th>children</th>\n",
       "      <th>days_employed</th>\n",
       "      <th>dob_years</th>\n",
       "      <th>education_id</th>\n",
       "      <th>family_status_id</th>\n",
       "      <th>gender</th>\n",
       "      <th>income_type</th>\n",
       "      <th>debt</th>\n",
       "      <th>total_income</th>\n",
       "      <th>purpose</th>\n",
       "      <th>income_group</th>\n",
       "      <th>purpose_group</th>\n",
       "    </tr>\n",
       "  </thead>\n",
       "  <tbody>\n",
       "    <tr>\n",
       "      <td>0</td>\n",
       "      <td>0</td>\n",
       "      <td>401</td>\n",
       "      <td>42</td>\n",
       "      <td>1</td>\n",
       "      <td>0</td>\n",
       "      <td>M</td>\n",
       "      <td>сотрудник</td>\n",
       "      <td>0</td>\n",
       "      <td>158913</td>\n",
       "      <td>операции с жильем</td>\n",
       "      <td>C</td>\n",
       "      <td>на недвижимость</td>\n",
       "    </tr>\n",
       "    <tr>\n",
       "      <td>1</td>\n",
       "      <td>2</td>\n",
       "      <td>8035</td>\n",
       "      <td>42</td>\n",
       "      <td>0</td>\n",
       "      <td>3</td>\n",
       "      <td>F</td>\n",
       "      <td>госслужащий</td>\n",
       "      <td>0</td>\n",
       "      <td>112661</td>\n",
       "      <td>покупка жилой недвижимости</td>\n",
       "      <td>C</td>\n",
       "      <td>на недвижимость</td>\n",
       "    </tr>\n",
       "    <tr>\n",
       "      <td>2</td>\n",
       "      <td>0</td>\n",
       "      <td>934</td>\n",
       "      <td>42</td>\n",
       "      <td>1</td>\n",
       "      <td>0</td>\n",
       "      <td>F</td>\n",
       "      <td>компаньон</td>\n",
       "      <td>0</td>\n",
       "      <td>201852</td>\n",
       "      <td>покупка недвижимости</td>\n",
       "      <td>B</td>\n",
       "      <td>на недвижимость</td>\n",
       "    </tr>\n",
       "    <tr>\n",
       "      <td>3</td>\n",
       "      <td>0</td>\n",
       "      <td>1808</td>\n",
       "      <td>42</td>\n",
       "      <td>1</td>\n",
       "      <td>0</td>\n",
       "      <td>F</td>\n",
       "      <td>пенсионер</td>\n",
       "      <td>0</td>\n",
       "      <td>71291</td>\n",
       "      <td>автомобиль</td>\n",
       "      <td>C</td>\n",
       "      <td>покупка автомобиля</td>\n",
       "    </tr>\n",
       "    <tr>\n",
       "      <td>4</td>\n",
       "      <td>0</td>\n",
       "      <td>6683</td>\n",
       "      <td>42</td>\n",
       "      <td>1</td>\n",
       "      <td>0</td>\n",
       "      <td>F</td>\n",
       "      <td>сотрудник</td>\n",
       "      <td>0</td>\n",
       "      <td>80315</td>\n",
       "      <td>автомобиль</td>\n",
       "      <td>C</td>\n",
       "      <td>покупка автомобиля</td>\n",
       "    </tr>\n",
       "    <tr>\n",
       "      <td>5</td>\n",
       "      <td>0</td>\n",
       "      <td>2497</td>\n",
       "      <td>42</td>\n",
       "      <td>1</td>\n",
       "      <td>0</td>\n",
       "      <td>F</td>\n",
       "      <td>сотрудник</td>\n",
       "      <td>1</td>\n",
       "      <td>91367</td>\n",
       "      <td>недвижимость</td>\n",
       "      <td>C</td>\n",
       "      <td>на недвижимость</td>\n",
       "    </tr>\n",
       "    <tr>\n",
       "      <td>6</td>\n",
       "      <td>0</td>\n",
       "      <td>1203</td>\n",
       "      <td>42</td>\n",
       "      <td>1</td>\n",
       "      <td>0</td>\n",
       "      <td>F</td>\n",
       "      <td>сотрудник</td>\n",
       "      <td>0</td>\n",
       "      <td>145017</td>\n",
       "      <td>жилье</td>\n",
       "      <td>C</td>\n",
       "      <td>на недвижимость</td>\n",
       "    </tr>\n",
       "    <tr>\n",
       "      <td>7</td>\n",
       "      <td>0</td>\n",
       "      <td>334</td>\n",
       "      <td>42</td>\n",
       "      <td>1</td>\n",
       "      <td>1</td>\n",
       "      <td>M</td>\n",
       "      <td>сотрудник</td>\n",
       "      <td>0</td>\n",
       "      <td>174105</td>\n",
       "      <td>сыграть свадьбу</td>\n",
       "      <td>C</td>\n",
       "      <td>на свадьбу</td>\n",
       "    </tr>\n",
       "    <tr>\n",
       "      <td>8</td>\n",
       "      <td>2</td>\n",
       "      <td>1371</td>\n",
       "      <td>42</td>\n",
       "      <td>1</td>\n",
       "      <td>0</td>\n",
       "      <td>M</td>\n",
       "      <td>сотрудник</td>\n",
       "      <td>0</td>\n",
       "      <td>179138</td>\n",
       "      <td>покупка жилья для семьи</td>\n",
       "      <td>C</td>\n",
       "      <td>на недвижимость</td>\n",
       "    </tr>\n",
       "    <tr>\n",
       "      <td>9</td>\n",
       "      <td>0</td>\n",
       "      <td>1095</td>\n",
       "      <td>42</td>\n",
       "      <td>0</td>\n",
       "      <td>0</td>\n",
       "      <td>M</td>\n",
       "      <td>сотрудник</td>\n",
       "      <td>0</td>\n",
       "      <td>250757</td>\n",
       "      <td>покупка жилья</td>\n",
       "      <td>B</td>\n",
       "      <td>на недвижимость</td>\n",
       "    </tr>\n",
       "  </tbody>\n",
       "</table>\n",
       "</div>"
      ],
      "text/plain": [
       "   children  days_employed  dob_years  education_id  family_status_id gender  \\\n",
       "0         0            401         42             1                 0      M   \n",
       "1         2           8035         42             0                 3      F   \n",
       "2         0            934         42             1                 0      F   \n",
       "3         0           1808         42             1                 0      F   \n",
       "4         0           6683         42             1                 0      F   \n",
       "5         0           2497         42             1                 0      F   \n",
       "6         0           1203         42             1                 0      F   \n",
       "7         0            334         42             1                 1      M   \n",
       "8         2           1371         42             1                 0      M   \n",
       "9         0           1095         42             0                 0      M   \n",
       "\n",
       "   income_type  debt  total_income                     purpose income_group  \\\n",
       "0    сотрудник     0        158913           операции с жильем            C   \n",
       "1  госслужащий     0        112661  покупка жилой недвижимости            C   \n",
       "2    компаньон     0        201852        покупка недвижимости            B   \n",
       "3    пенсионер     0         71291                  автомобиль            C   \n",
       "4    сотрудник     0         80315                  автомобиль            C   \n",
       "5    сотрудник     1         91367                недвижимость            C   \n",
       "6    сотрудник     0        145017                       жилье            C   \n",
       "7    сотрудник     0        174105             сыграть свадьбу            C   \n",
       "8    сотрудник     0        179138     покупка жилья для семьи            C   \n",
       "9    сотрудник     0        250757               покупка жилья            B   \n",
       "\n",
       "        purpose_group  \n",
       "0     на недвижимость  \n",
       "1     на недвижимость  \n",
       "2     на недвижимость  \n",
       "3  покупка автомобиля  \n",
       "4  покупка автомобиля  \n",
       "5     на недвижимость  \n",
       "6     на недвижимость  \n",
       "7          на свадьбу  \n",
       "8     на недвижимость  \n",
       "9     на недвижимость  "
      ]
     },
     "execution_count": 359,
     "metadata": {},
     "output_type": "execute_result"
    }
   ],
   "source": [
    "# создадим отдельный столбец с категориями доходов, и в его ячейках запишем значения, возвращаемые функцией.\n",
    "\n",
    "data['purpose_group'] = data['purpose'].apply(purpose_group)\n",
    "data.head(10)"
   ]
  },
  {
   "cell_type": "markdown",
   "id": "7c61f2c8",
   "metadata": {},
   "source": [
    "В предобработке данных, мы удалили явные и неявные дубликаты, нашли и устранили пропуски, с помощью замен. поработали с аномальным значениями в каждом столбце, изменили тип данных для возможности совершения операций с ними. И во избежании ошибок, создали словари для удобства обращения к ним и добавили дополнительные столбцы с категориями, для удобства обращения к данным и их анализу. Теперь данные не содержат пропусков, повторений и удобны для анализа."
   ]
  },
  {
   "cell_type": "markdown",
   "id": "a3e135c8",
   "metadata": {},
   "source": [
    "### Ответы на вопросы."
   ]
  },
  {
   "cell_type": "markdown",
   "id": "7324c599",
   "metadata": {},
   "source": [
    "##### Вопрос 1:"
   ]
  },
  {
   "cell_type": "markdown",
   "id": "1be64212",
   "metadata": {},
   "source": [
    "Есть ли зависимость между количеством детей и возвратом кредита в срок?"
   ]
  },
  {
   "cell_type": "code",
   "execution_count": 360,
   "id": "fd4bc4f2",
   "metadata": {},
   "outputs": [
    {
     "name": "stdout",
     "output_type": "stream",
     "text": [
      "          count   sum      mean\n",
      "           debt  debt      debt\n",
      "children                       \n",
      "0         14229  1072  0.075339\n",
      "1          4809   444  0.092327\n",
      "2          2052   194  0.094542\n",
      "3           330    27  0.081818\n",
      "4            41     4  0.097561\n",
      "5             9     0  0.000000\n"
     ]
    }
   ],
   "source": [
    "#построим сводную таблицу с количеством должников и их отношению к общему количеству заемщиков по количеству детей\n",
    "print(data.pivot_table(index='children', values='debt', aggfunc = (['count', 'sum', 'mean'])))"
   ]
  },
  {
   "cell_type": "markdown",
   "id": "63d703ed",
   "metadata": {},
   "source": [
    "##### Вывод 1:"
   ]
  },
  {
   "cell_type": "markdown",
   "id": "6a16fcbd",
   "metadata": {},
   "source": [
    "На основании вышеупомянутых данных, можно увидеть, что совсем нет должников у кого 5-ть детей, но скорей всего это из-за того что выборка не репрезентативна, так как таких людей очень мало в данных. Так же, самый маленький процент у кого детей нет. Все остальные примерно на одном уровне. Поэтому здесь скорей всего играет роль есть ли дети или нет. "
   ]
  },
  {
   "cell_type": "markdown",
   "id": "6a050d32",
   "metadata": {},
   "source": [
    "##### Вопрос 2:"
   ]
  },
  {
   "cell_type": "markdown",
   "id": "c3014600",
   "metadata": {},
   "source": [
    "Есть ли зависимость между семейным положением и возвратом кредита в срок?"
   ]
  },
  {
   "cell_type": "code",
   "execution_count": 361,
   "id": "3e1bbf4c",
   "metadata": {},
   "outputs": [],
   "source": [
    "#построим сводную таблицу с количеством должников и их отношению к общему количеству заемщиков по семейному статусу\n",
    "data_group = data.pivot_table(index='family_status_id', values='debt', aggfunc = (['count', 'sum', 'mean']))"
   ]
  },
  {
   "cell_type": "code",
   "execution_count": 362,
   "id": "f2da7e78",
   "metadata": {},
   "outputs": [
    {
     "name": "stderr",
     "output_type": "stream",
     "text": [
      "/opt/conda/lib/python3.7/site-packages/pandas/core/reshape/merge.py:617: UserWarning: merging between different levels can give an unintended result (1 levels on the left, 2 on the right)\n",
      "  warnings.warn(msg, UserWarning)\n"
     ]
    },
    {
     "data": {
      "text/html": [
       "<div>\n",
       "<style scoped>\n",
       "    .dataframe tbody tr th:only-of-type {\n",
       "        vertical-align: middle;\n",
       "    }\n",
       "\n",
       "    .dataframe tbody tr th {\n",
       "        vertical-align: top;\n",
       "    }\n",
       "\n",
       "    .dataframe thead th {\n",
       "        text-align: right;\n",
       "    }\n",
       "</style>\n",
       "<table border=\"1\" class=\"dataframe\">\n",
       "  <thead>\n",
       "    <tr style=\"text-align: right;\">\n",
       "      <th></th>\n",
       "      <th>family_status_id</th>\n",
       "      <th>family_status</th>\n",
       "      <th>(count, debt)</th>\n",
       "      <th>(sum, debt)</th>\n",
       "      <th>(mean, debt)</th>\n",
       "    </tr>\n",
       "  </thead>\n",
       "  <tbody>\n",
       "    <tr>\n",
       "      <td>0</td>\n",
       "      <td>0</td>\n",
       "      <td>женат / замужем</td>\n",
       "      <td>12344</td>\n",
       "      <td>931</td>\n",
       "      <td>0.075421</td>\n",
       "    </tr>\n",
       "    <tr>\n",
       "      <td>1</td>\n",
       "      <td>3</td>\n",
       "      <td>в разводе</td>\n",
       "      <td>1195</td>\n",
       "      <td>85</td>\n",
       "      <td>0.071130</td>\n",
       "    </tr>\n",
       "    <tr>\n",
       "      <td>2</td>\n",
       "      <td>1</td>\n",
       "      <td>гражданский брак</td>\n",
       "      <td>4162</td>\n",
       "      <td>388</td>\n",
       "      <td>0.093224</td>\n",
       "    </tr>\n",
       "    <tr>\n",
       "      <td>3</td>\n",
       "      <td>4</td>\n",
       "      <td>Не женат / не замужем</td>\n",
       "      <td>2810</td>\n",
       "      <td>274</td>\n",
       "      <td>0.097509</td>\n",
       "    </tr>\n",
       "    <tr>\n",
       "      <td>4</td>\n",
       "      <td>2</td>\n",
       "      <td>вдовец / вдова</td>\n",
       "      <td>959</td>\n",
       "      <td>63</td>\n",
       "      <td>0.065693</td>\n",
       "    </tr>\n",
       "  </tbody>\n",
       "</table>\n",
       "</div>"
      ],
      "text/plain": [
       "   family_status_id          family_status  (count, debt)  (sum, debt)  \\\n",
       "0                 0        женат / замужем          12344          931   \n",
       "1                 3              в разводе           1195           85   \n",
       "2                 1       гражданский брак           4162          388   \n",
       "3                 4  Не женат / не замужем           2810          274   \n",
       "4                 2         вдовец / вдова            959           63   \n",
       "\n",
       "   (mean, debt)  \n",
       "0      0.075421  \n",
       "1      0.071130  \n",
       "2      0.093224  \n",
       "3      0.097509  \n",
       "4      0.065693  "
      ]
     },
     "execution_count": 362,
     "metadata": {},
     "output_type": "execute_result"
    }
   ],
   "source": [
    "# для наглядности объединим две таблицы\n",
    "data_family = family_log.merge(data_group, on='family_status_id', how='left')\n",
    "data_family\n"
   ]
  },
  {
   "cell_type": "markdown",
   "id": "e23d42f9",
   "metadata": {},
   "source": [
    "##### Вывод 2:"
   ]
  },
  {
   "cell_type": "markdown",
   "id": "b9fadd50",
   "metadata": {},
   "source": [
    "Больше всего имеют долги те, кто находится в гражданском браке или не женат/не замужем. Меньше всего имеют задолжность вдовцы - но сам процент вдовцов небольшой, поэтому выборка по ним не совсем репрезентативна."
   ]
  },
  {
   "cell_type": "markdown",
   "id": "9cee8a13",
   "metadata": {},
   "source": [
    "##### Вопрос 3:"
   ]
  },
  {
   "cell_type": "markdown",
   "id": "d4b2ebf8",
   "metadata": {},
   "source": [
    "Есть ли зависимость между уровнем дохода и возвратом кредита в срок?"
   ]
  },
  {
   "cell_type": "code",
   "execution_count": 363,
   "id": "45ccc36e",
   "metadata": {},
   "outputs": [
    {
     "name": "stdout",
     "output_type": "stream",
     "text": [
      "              count   sum      mean\n",
      "               debt  debt      debt\n",
      "income_group                       \n",
      "A                25     2  0.080000\n",
      "B              5041   356  0.070621\n",
      "C             16032  1360  0.084830\n",
      "D               350    21  0.060000\n",
      "E                22     2  0.090909\n"
     ]
    }
   ],
   "source": [
    "#построим сводную таблицу с количеством должников и их отношению к общему количеству заемщиков по доходу\n",
    "print(data.pivot_table(index='income_group', values='debt', aggfunc = (['count', 'sum', 'mean'])))"
   ]
  },
  {
   "cell_type": "markdown",
   "id": "43fa3042",
   "metadata": {},
   "source": [
    "Наименьшее количесто должников, на удивление, среди людей с доходами от 30 000 - 50 000 рублей, возможно потому что они берут не такие масштабные кредиты. Построим сводную таблицу, что б проверить это."
   ]
  },
  {
   "cell_type": "code",
   "execution_count": 364,
   "id": "e1b9637f",
   "metadata": {},
   "outputs": [
    {
     "data": {
      "text/html": [
       "<div>\n",
       "<style scoped>\n",
       "    .dataframe tbody tr th:only-of-type {\n",
       "        vertical-align: middle;\n",
       "    }\n",
       "\n",
       "    .dataframe tbody tr th {\n",
       "        vertical-align: top;\n",
       "    }\n",
       "\n",
       "    .dataframe thead th {\n",
       "        text-align: right;\n",
       "    }\n",
       "</style>\n",
       "<table border=\"1\" class=\"dataframe\">\n",
       "  <thead>\n",
       "    <tr style=\"text-align: right;\">\n",
       "      <th>purpose_group</th>\n",
       "      <th>income_group</th>\n",
       "      <th>на недвижимость</th>\n",
       "      <th>на образование</th>\n",
       "      <th>на свадьбу</th>\n",
       "      <th>покупка автомобиля</th>\n",
       "    </tr>\n",
       "  </thead>\n",
       "  <tbody>\n",
       "    <tr>\n",
       "      <td>0</td>\n",
       "      <td>A</td>\n",
       "      <td>17</td>\n",
       "      <td>4</td>\n",
       "      <td>2</td>\n",
       "      <td>2</td>\n",
       "    </tr>\n",
       "    <tr>\n",
       "      <td>1</td>\n",
       "      <td>B</td>\n",
       "      <td>2568</td>\n",
       "      <td>897</td>\n",
       "      <td>545</td>\n",
       "      <td>1031</td>\n",
       "    </tr>\n",
       "    <tr>\n",
       "      <td>2</td>\n",
       "      <td>C</td>\n",
       "      <td>8050</td>\n",
       "      <td>3032</td>\n",
       "      <td>1749</td>\n",
       "      <td>3201</td>\n",
       "    </tr>\n",
       "    <tr>\n",
       "      <td>3</td>\n",
       "      <td>D</td>\n",
       "      <td>168</td>\n",
       "      <td>76</td>\n",
       "      <td>34</td>\n",
       "      <td>72</td>\n",
       "    </tr>\n",
       "    <tr>\n",
       "      <td>4</td>\n",
       "      <td>E</td>\n",
       "      <td>11</td>\n",
       "      <td>5</td>\n",
       "      <td>4</td>\n",
       "      <td>2</td>\n",
       "    </tr>\n",
       "  </tbody>\n",
       "</table>\n",
       "</div>"
      ],
      "text/plain": [
       "purpose_group income_group  на недвижимость  на образование  на свадьбу  \\\n",
       "0                        A               17               4           2   \n",
       "1                        B             2568             897         545   \n",
       "2                        C             8050            3032        1749   \n",
       "3                        D              168              76          34   \n",
       "4                        E               11               5           4   \n",
       "\n",
       "purpose_group  покупка автомобиля  \n",
       "0                               2  \n",
       "1                            1031  \n",
       "2                            3201  \n",
       "3                              72  \n",
       "4                               2  "
      ]
     },
     "execution_count": 364,
     "metadata": {},
     "output_type": "execute_result"
    }
   ],
   "source": [
    "# сводная таблица по количеству кредитов на каждую категорию\n",
    "data_pivot = data.pivot_table(index='income_group', columns='purpose_group', values='debt', aggfunc ='count')\n",
    "data_pivot = data_pivot.reset_index()                                     \n",
    "data_pivot.head(10)"
   ]
  },
  {
   "cell_type": "code",
   "execution_count": 365,
   "id": "9ffb7cfb",
   "metadata": {},
   "outputs": [
    {
     "data": {
      "text/html": [
       "<div>\n",
       "<style scoped>\n",
       "    .dataframe tbody tr th:only-of-type {\n",
       "        vertical-align: middle;\n",
       "    }\n",
       "\n",
       "    .dataframe tbody tr th {\n",
       "        vertical-align: top;\n",
       "    }\n",
       "\n",
       "    .dataframe thead th {\n",
       "        text-align: right;\n",
       "    }\n",
       "</style>\n",
       "<table border=\"1\" class=\"dataframe\">\n",
       "  <thead>\n",
       "    <tr style=\"text-align: right;\">\n",
       "      <th>purpose_group</th>\n",
       "      <th>income_group</th>\n",
       "      <th>на недвижимость</th>\n",
       "      <th>на образование</th>\n",
       "      <th>на свадьбу</th>\n",
       "      <th>покупка автомобиля</th>\n",
       "    </tr>\n",
       "  </thead>\n",
       "  <tbody>\n",
       "    <tr>\n",
       "      <td>0</td>\n",
       "      <td>A</td>\n",
       "      <td>1</td>\n",
       "      <td>1</td>\n",
       "      <td>0</td>\n",
       "      <td>0</td>\n",
       "    </tr>\n",
       "    <tr>\n",
       "      <td>1</td>\n",
       "      <td>B</td>\n",
       "      <td>172</td>\n",
       "      <td>70</td>\n",
       "      <td>28</td>\n",
       "      <td>86</td>\n",
       "    </tr>\n",
       "    <tr>\n",
       "      <td>2</td>\n",
       "      <td>C</td>\n",
       "      <td>601</td>\n",
       "      <td>297</td>\n",
       "      <td>155</td>\n",
       "      <td>307</td>\n",
       "    </tr>\n",
       "    <tr>\n",
       "      <td>3</td>\n",
       "      <td>D</td>\n",
       "      <td>6</td>\n",
       "      <td>2</td>\n",
       "      <td>3</td>\n",
       "      <td>10</td>\n",
       "    </tr>\n",
       "    <tr>\n",
       "      <td>4</td>\n",
       "      <td>E</td>\n",
       "      <td>2</td>\n",
       "      <td>0</td>\n",
       "      <td>0</td>\n",
       "      <td>0</td>\n",
       "    </tr>\n",
       "  </tbody>\n",
       "</table>\n",
       "</div>"
      ],
      "text/plain": [
       "purpose_group income_group  на недвижимость  на образование  на свадьбу  \\\n",
       "0                        A                1               1           0   \n",
       "1                        B              172              70          28   \n",
       "2                        C              601             297         155   \n",
       "3                        D                6               2           3   \n",
       "4                        E                2               0           0   \n",
       "\n",
       "purpose_group  покупка автомобиля  \n",
       "0                               0  \n",
       "1                              86  \n",
       "2                             307  \n",
       "3                              10  \n",
       "4                               0  "
      ]
     },
     "execution_count": 365,
     "metadata": {},
     "output_type": "execute_result"
    }
   ],
   "source": [
    "#сводная таблица по количеству долгов на каждую категорию\n",
    "data_pivot = data.pivot_table(index='income_group', columns='purpose_group', values='debt', aggfunc ='sum')\n",
    "data_pivot = data_pivot.reset_index()                                     \n",
    "data_pivot.head(10)"
   ]
  },
  {
   "cell_type": "markdown",
   "id": "966cef4c",
   "metadata": {},
   "source": [
    "##### Вывод 3:"
   ]
  },
  {
   "cell_type": "markdown",
   "id": "5e156c64",
   "metadata": {},
   "source": [
    "Наименьшее количесто должников, cреди людей с доходами от 30 000 - 50 000 рублей и берут они больше всего кредитов на недвижимость, поэтому здесь скорей всего, зависимость от цели кредита, а не от дохода."
   ]
  },
  {
   "cell_type": "markdown",
   "id": "9b824a08",
   "metadata": {},
   "source": [
    "##### Вопрос 4:"
   ]
  },
  {
   "cell_type": "markdown",
   "id": "fab82644",
   "metadata": {},
   "source": [
    "Как разные цели кредита влияют на его возврат в срок?"
   ]
  },
  {
   "cell_type": "code",
   "execution_count": 366,
   "id": "215676df",
   "metadata": {},
   "outputs": [
    {
     "name": "stdout",
     "output_type": "stream",
     "text": [
      "                    count  sum      mean\n",
      "                     debt debt      debt\n",
      "purpose_group                           \n",
      "на недвижимость     10814  782  0.072314\n",
      "на образование       4014  370  0.092177\n",
      "на свадьбу           2334  186  0.079692\n",
      "покупка автомобиля   4308  403  0.093547\n"
     ]
    }
   ],
   "source": [
    "#построим сводную таблицу с количеством должников и их отношению к общему количеству заемщиков по доходу\n",
    "print(data.pivot_table(index='purpose_group', values='debt', aggfunc = (['count', 'sum', 'mean'])))"
   ]
  },
  {
   "cell_type": "markdown",
   "id": "e2cacdeb",
   "metadata": {},
   "source": [
    "##### Вывод 4:"
   ]
  },
  {
   "cell_type": "markdown",
   "id": "3aead8e9",
   "metadata": {},
   "source": [
    "Меньше должников среди тех кто берет кредиты на свадьбу или на недвижимость. Возможно это связано с тем, что свадьба это чаще всего не очень большой по сумме кредит, а недвижимость чаще всего остается в залоге у банка и что бы не потерять жилье, люди платят более исправно."
   ]
  },
  {
   "cell_type": "markdown",
   "id": "8944206f",
   "metadata": {},
   "source": [
    "## Общий вывод:"
   ]
  },
  {
   "cell_type": "markdown",
   "id": "07d6ff4d",
   "metadata": {},
   "source": [
    "На входе мы получили датасет с 21000 строк с информацией о заемщиках, в ходе предобработки данных, мы исправились от пропусков, дубликатов, создали более наглядную таблицу с категориями, словарями и без пропусков. \n",
    "В ходе анализа с помощью сводных таблиц мы ответили на 4 вопроса и установили какие факторы влияеют на возврат кредита в срок: \n",
    "1. Количество детей не влияет на возврат кредита во время, больше влияет факт наличия или отсутствия детей\n",
    "2. Больше всего задолжностей среди тех людей, кто состоит в гражданском браке или не женат/не замужем\n",
    "3. Доход, на удивление, не влияет на возвра кредита в срок.\n",
    "4. Чаще всего во время возращают кредит те, кто берет его на недвижимость или свадьбу.\n",
    "\n"
   ]
  }
 ],
 "metadata": {
  "ExecuteTimeLog": [
   {
    "duration": 593,
    "start_time": "2022-02-26T12:20:43.429Z"
   },
   {
    "duration": 53,
    "start_time": "2022-02-26T12:24:06.270Z"
   },
   {
    "duration": 310,
    "start_time": "2022-02-27T08:55:33.989Z"
   },
   {
    "duration": 656,
    "start_time": "2022-02-27T08:55:36.836Z"
   },
   {
    "duration": 71,
    "start_time": "2022-02-27T08:55:39.815Z"
   },
   {
    "duration": 29,
    "start_time": "2022-02-27T08:55:41.055Z"
   },
   {
    "duration": 13,
    "start_time": "2022-02-27T09:38:33.521Z"
   },
   {
    "duration": 13,
    "start_time": "2022-02-27T09:55:28.144Z"
   },
   {
    "duration": 19,
    "start_time": "2022-02-27T09:55:46.976Z"
   },
   {
    "duration": 20,
    "start_time": "2022-02-27T09:56:17.555Z"
   },
   {
    "duration": 24,
    "start_time": "2022-02-27T09:56:41.885Z"
   },
   {
    "duration": 22,
    "start_time": "2022-02-27T09:56:49.311Z"
   },
   {
    "duration": 8,
    "start_time": "2022-02-27T09:59:16.128Z"
   },
   {
    "duration": 23,
    "start_time": "2022-02-27T10:01:13.118Z"
   },
   {
    "duration": 6,
    "start_time": "2022-02-27T10:09:42.990Z"
   },
   {
    "duration": 5,
    "start_time": "2022-02-27T10:10:02.082Z"
   },
   {
    "duration": 6,
    "start_time": "2022-02-27T10:10:37.709Z"
   },
   {
    "duration": 20,
    "start_time": "2022-02-27T10:50:10.878Z"
   },
   {
    "duration": 16,
    "start_time": "2022-02-27T10:51:14.551Z"
   },
   {
    "duration": 303,
    "start_time": "2022-02-27T17:48:21.276Z"
   },
   {
    "duration": 643,
    "start_time": "2022-02-27T17:48:40.371Z"
   },
   {
    "duration": 64,
    "start_time": "2022-02-27T17:48:41.016Z"
   },
   {
    "duration": 21,
    "start_time": "2022-02-27T17:48:41.082Z"
   },
   {
    "duration": 13,
    "start_time": "2022-02-27T17:48:41.105Z"
   },
   {
    "duration": 22,
    "start_time": "2022-02-27T17:48:41.120Z"
   },
   {
    "duration": 42,
    "start_time": "2022-02-27T17:48:41.144Z"
   },
   {
    "duration": 20,
    "start_time": "2022-02-27T17:48:41.188Z"
   },
   {
    "duration": 9,
    "start_time": "2022-02-27T17:48:41.210Z"
   },
   {
    "duration": 24,
    "start_time": "2022-02-27T17:48:41.222Z"
   },
   {
    "duration": 35,
    "start_time": "2022-02-27T17:48:41.247Z"
   },
   {
    "duration": 29,
    "start_time": "2022-02-27T17:48:41.284Z"
   },
   {
    "duration": 14,
    "start_time": "2022-02-27T17:49:36.200Z"
   },
   {
    "duration": 12,
    "start_time": "2022-02-27T17:50:36.236Z"
   },
   {
    "duration": 12,
    "start_time": "2022-02-27T17:50:49.606Z"
   },
   {
    "duration": 291,
    "start_time": "2022-02-27T17:59:49.358Z"
   },
   {
    "duration": 9,
    "start_time": "2022-02-27T18:00:09.390Z"
   },
   {
    "duration": 5,
    "start_time": "2022-02-27T18:00:44.334Z"
   },
   {
    "duration": 251,
    "start_time": "2022-02-27T18:01:06.616Z"
   },
   {
    "duration": 264,
    "start_time": "2022-02-27T18:01:09.450Z"
   },
   {
    "duration": 6,
    "start_time": "2022-02-27T18:01:13.632Z"
   },
   {
    "duration": 5,
    "start_time": "2022-02-27T18:01:19.568Z"
   },
   {
    "duration": 7,
    "start_time": "2022-02-27T18:02:11.150Z"
   },
   {
    "duration": 5,
    "start_time": "2022-02-27T18:02:31.882Z"
   },
   {
    "duration": 7,
    "start_time": "2022-02-27T18:03:10.317Z"
   },
   {
    "duration": 8,
    "start_time": "2022-02-27T18:04:30.035Z"
   },
   {
    "duration": 8,
    "start_time": "2022-02-27T18:05:00.957Z"
   },
   {
    "duration": 8,
    "start_time": "2022-02-27T18:05:23.557Z"
   },
   {
    "duration": 7,
    "start_time": "2022-02-27T18:06:04.474Z"
   },
   {
    "duration": 4,
    "start_time": "2022-02-27T18:06:29.395Z"
   },
   {
    "duration": 5,
    "start_time": "2022-02-27T18:06:43.435Z"
   },
   {
    "duration": 8,
    "start_time": "2022-02-27T18:06:50.334Z"
   },
   {
    "duration": 6,
    "start_time": "2022-02-27T18:09:03.501Z"
   },
   {
    "duration": 6734,
    "start_time": "2022-02-27T18:19:16.210Z"
   },
   {
    "duration": 83,
    "start_time": "2022-02-27T18:19:22.864Z"
   },
   {
    "duration": 6,
    "start_time": "2022-02-27T18:19:35.705Z"
   },
   {
    "duration": 45,
    "start_time": "2022-02-27T18:20:25.422Z"
   },
   {
    "duration": 42,
    "start_time": "2022-02-27T18:20:25.426Z"
   },
   {
    "duration": 17,
    "start_time": "2022-02-27T18:20:43.130Z"
   },
   {
    "duration": 6,
    "start_time": "2022-02-27T18:20:44.052Z"
   },
   {
    "duration": 17,
    "start_time": "2022-02-27T18:21:22.228Z"
   },
   {
    "duration": 6,
    "start_time": "2022-02-27T18:21:23.947Z"
   },
   {
    "duration": 10,
    "start_time": "2022-02-27T18:21:41.015Z"
   },
   {
    "duration": 6,
    "start_time": "2022-02-27T18:21:41.935Z"
   },
   {
    "duration": 14,
    "start_time": "2022-02-27T18:24:03.445Z"
   },
   {
    "duration": 11,
    "start_time": "2022-02-27T18:24:21.184Z"
   },
   {
    "duration": 10,
    "start_time": "2022-02-27T18:24:51.716Z"
   },
   {
    "duration": 10,
    "start_time": "2022-02-27T18:24:57.053Z"
   },
   {
    "duration": 11,
    "start_time": "2022-02-27T18:43:48.735Z"
   },
   {
    "duration": 13,
    "start_time": "2022-02-27T18:43:49.315Z"
   },
   {
    "duration": 424,
    "start_time": "2022-02-27T18:44:11.824Z"
   },
   {
    "duration": 512,
    "start_time": "2022-02-27T18:44:26.615Z"
   },
   {
    "duration": 489,
    "start_time": "2022-02-27T18:44:31.365Z"
   },
   {
    "duration": 7,
    "start_time": "2022-02-27T18:44:47.983Z"
   },
   {
    "duration": 12,
    "start_time": "2022-02-27T18:44:48.774Z"
   },
   {
    "duration": 261,
    "start_time": "2022-02-27T18:56:37.823Z"
   },
   {
    "duration": 9,
    "start_time": "2022-02-27T18:57:47.723Z"
   },
   {
    "duration": 6,
    "start_time": "2022-02-27T18:57:50.648Z"
   },
   {
    "duration": 14,
    "start_time": "2022-02-27T19:01:49.324Z"
   },
   {
    "duration": 14,
    "start_time": "2022-02-27T19:02:24.621Z"
   },
   {
    "duration": 3,
    "start_time": "2022-02-27T19:03:08.419Z"
   },
   {
    "duration": 71,
    "start_time": "2022-02-27T19:03:08.424Z"
   },
   {
    "duration": 14,
    "start_time": "2022-02-27T19:03:08.497Z"
   },
   {
    "duration": 12,
    "start_time": "2022-02-27T19:03:08.513Z"
   },
   {
    "duration": 14,
    "start_time": "2022-02-27T19:03:08.527Z"
   },
   {
    "duration": 43,
    "start_time": "2022-02-27T19:03:08.543Z"
   },
   {
    "duration": 15,
    "start_time": "2022-02-27T19:03:08.588Z"
   },
   {
    "duration": 4,
    "start_time": "2022-02-27T19:03:08.604Z"
   },
   {
    "duration": 17,
    "start_time": "2022-02-27T19:03:08.610Z"
   },
   {
    "duration": 16,
    "start_time": "2022-02-27T19:03:08.629Z"
   },
   {
    "duration": 31,
    "start_time": "2022-02-27T19:03:08.647Z"
   },
   {
    "duration": 8,
    "start_time": "2022-02-27T19:03:08.680Z"
   },
   {
    "duration": 5,
    "start_time": "2022-02-27T19:03:08.690Z"
   },
   {
    "duration": 8,
    "start_time": "2022-02-27T19:03:08.697Z"
   },
   {
    "duration": 7,
    "start_time": "2022-02-27T19:03:08.707Z"
   },
   {
    "duration": 6,
    "start_time": "2022-02-27T19:03:08.716Z"
   },
   {
    "duration": 8,
    "start_time": "2022-02-27T19:03:08.724Z"
   },
   {
    "duration": 45,
    "start_time": "2022-02-27T19:03:08.733Z"
   },
   {
    "duration": 6,
    "start_time": "2022-02-27T19:03:08.780Z"
   },
   {
    "duration": 8,
    "start_time": "2022-02-27T19:03:08.788Z"
   },
   {
    "duration": 18,
    "start_time": "2022-02-27T19:05:06.340Z"
   },
   {
    "duration": 14,
    "start_time": "2022-02-27T19:05:22.275Z"
   },
   {
    "duration": 23,
    "start_time": "2022-02-27T19:05:34.751Z"
   },
   {
    "duration": 7,
    "start_time": "2022-02-27T19:11:10.545Z"
   },
   {
    "duration": 8,
    "start_time": "2022-02-27T19:11:49.227Z"
   },
   {
    "duration": 7,
    "start_time": "2022-02-27T19:11:59.431Z"
   },
   {
    "duration": 14,
    "start_time": "2022-02-27T19:13:54.812Z"
   },
   {
    "duration": 17,
    "start_time": "2022-02-27T19:14:12.014Z"
   },
   {
    "duration": 19,
    "start_time": "2022-02-27T19:14:29.683Z"
   },
   {
    "duration": 23,
    "start_time": "2022-02-27T19:14:57.435Z"
   },
   {
    "duration": 15,
    "start_time": "2022-02-27T19:15:09.499Z"
   },
   {
    "duration": 8,
    "start_time": "2022-02-27T19:21:55.472Z"
   },
   {
    "duration": 14,
    "start_time": "2022-02-27T19:29:49.716Z"
   },
   {
    "duration": 7995,
    "start_time": "2022-02-27T19:29:49.732Z"
   },
   {
    "duration": 322,
    "start_time": "2022-02-28T13:16:08.049Z"
   },
   {
    "duration": 607,
    "start_time": "2022-02-28T13:18:10.956Z"
   },
   {
    "duration": 56,
    "start_time": "2022-02-28T13:18:11.565Z"
   },
   {
    "duration": 19,
    "start_time": "2022-02-28T13:18:11.622Z"
   },
   {
    "duration": 11,
    "start_time": "2022-02-28T13:18:11.643Z"
   },
   {
    "duration": 14,
    "start_time": "2022-02-28T13:18:11.656Z"
   },
   {
    "duration": 33,
    "start_time": "2022-02-28T13:18:11.671Z"
   },
   {
    "duration": 12,
    "start_time": "2022-02-28T13:18:11.706Z"
   },
   {
    "duration": 3,
    "start_time": "2022-02-28T13:18:11.720Z"
   },
   {
    "duration": 12,
    "start_time": "2022-02-28T13:18:11.725Z"
   },
   {
    "duration": 9,
    "start_time": "2022-02-28T13:18:11.738Z"
   },
   {
    "duration": 6,
    "start_time": "2022-02-28T13:18:11.748Z"
   },
   {
    "duration": 48,
    "start_time": "2022-02-28T13:18:11.756Z"
   },
   {
    "duration": 5,
    "start_time": "2022-02-28T13:18:11.806Z"
   },
   {
    "duration": 6,
    "start_time": "2022-02-28T13:18:11.813Z"
   },
   {
    "duration": 5,
    "start_time": "2022-02-28T13:18:11.820Z"
   },
   {
    "duration": 6,
    "start_time": "2022-02-28T13:18:11.826Z"
   },
   {
    "duration": 13,
    "start_time": "2022-02-28T13:18:11.834Z"
   },
   {
    "duration": 54,
    "start_time": "2022-02-28T13:18:11.849Z"
   },
   {
    "duration": 10,
    "start_time": "2022-02-28T13:18:11.905Z"
   },
   {
    "duration": 23,
    "start_time": "2022-02-28T13:18:11.917Z"
   },
   {
    "duration": 12551,
    "start_time": "2022-02-28T13:18:11.942Z"
   },
   {
    "duration": 11,
    "start_time": "2022-02-28T13:18:24.495Z"
   },
   {
    "duration": 380,
    "start_time": "2022-02-28T13:18:24.509Z"
   },
   {
    "duration": -41,
    "start_time": "2022-02-28T13:18:24.932Z"
   },
   {
    "duration": 296,
    "start_time": "2022-02-28T13:19:03.256Z"
   },
   {
    "duration": 8841,
    "start_time": "2022-02-28T13:20:16.186Z"
   },
   {
    "duration": 6,
    "start_time": "2022-02-28T13:20:35.370Z"
   },
   {
    "duration": 106,
    "start_time": "2022-02-28T13:21:17.179Z"
   },
   {
    "duration": 96,
    "start_time": "2022-02-28T13:23:46.132Z"
   },
   {
    "duration": 14,
    "start_time": "2022-02-28T13:30:08.918Z"
   },
   {
    "duration": 5,
    "start_time": "2022-02-28T13:30:51.743Z"
   },
   {
    "duration": 8,
    "start_time": "2022-02-28T13:31:16.759Z"
   },
   {
    "duration": 7,
    "start_time": "2022-02-28T13:35:08.496Z"
   },
   {
    "duration": 7,
    "start_time": "2022-02-28T13:35:10.312Z"
   },
   {
    "duration": 6,
    "start_time": "2022-02-28T13:37:33.305Z"
   },
   {
    "duration": 6,
    "start_time": "2022-02-28T14:02:07.996Z"
   },
   {
    "duration": 7,
    "start_time": "2022-02-28T14:02:10.164Z"
   },
   {
    "duration": 10,
    "start_time": "2022-02-28T14:03:07.204Z"
   },
   {
    "duration": 7,
    "start_time": "2022-02-28T14:03:11.764Z"
   },
   {
    "duration": 6,
    "start_time": "2022-02-28T14:03:15.076Z"
   },
   {
    "duration": 11,
    "start_time": "2022-02-28T14:03:18.140Z"
   },
   {
    "duration": 6,
    "start_time": "2022-02-28T14:03:19.884Z"
   },
   {
    "duration": 8,
    "start_time": "2022-02-28T14:05:14.111Z"
   },
   {
    "duration": 5,
    "start_time": "2022-02-28T14:05:15.197Z"
   },
   {
    "duration": 2,
    "start_time": "2022-02-28T14:05:42.071Z"
   },
   {
    "duration": 50,
    "start_time": "2022-02-28T14:05:42.078Z"
   },
   {
    "duration": 10,
    "start_time": "2022-02-28T14:05:42.130Z"
   },
   {
    "duration": 9,
    "start_time": "2022-02-28T14:05:42.142Z"
   },
   {
    "duration": 11,
    "start_time": "2022-02-28T14:05:42.152Z"
   },
   {
    "duration": 37,
    "start_time": "2022-02-28T14:05:42.165Z"
   },
   {
    "duration": 12,
    "start_time": "2022-02-28T14:05:42.204Z"
   },
   {
    "duration": 3,
    "start_time": "2022-02-28T14:05:42.217Z"
   },
   {
    "duration": 8,
    "start_time": "2022-02-28T14:05:42.222Z"
   },
   {
    "duration": 9,
    "start_time": "2022-02-28T14:05:42.233Z"
   },
   {
    "duration": 5,
    "start_time": "2022-02-28T14:05:42.243Z"
   },
   {
    "duration": 10,
    "start_time": "2022-02-28T14:05:42.249Z"
   },
   {
    "duration": 7,
    "start_time": "2022-02-28T14:05:42.260Z"
   },
   {
    "duration": 5,
    "start_time": "2022-02-28T14:05:42.301Z"
   },
   {
    "duration": 5,
    "start_time": "2022-02-28T14:05:42.307Z"
   },
   {
    "duration": 9,
    "start_time": "2022-02-28T14:05:42.314Z"
   },
   {
    "duration": 17,
    "start_time": "2022-02-28T14:05:42.324Z"
   },
   {
    "duration": 22,
    "start_time": "2022-02-28T14:05:42.343Z"
   },
   {
    "duration": 6,
    "start_time": "2022-02-28T14:05:42.366Z"
   },
   {
    "duration": 16,
    "start_time": "2022-02-28T14:05:42.374Z"
   },
   {
    "duration": 15,
    "start_time": "2022-02-28T14:05:42.391Z"
   },
   {
    "duration": 6,
    "start_time": "2022-02-28T14:05:42.408Z"
   },
   {
    "duration": 6,
    "start_time": "2022-02-28T14:05:42.415Z"
   },
   {
    "duration": 11,
    "start_time": "2022-02-28T14:05:42.422Z"
   },
   {
    "duration": 5,
    "start_time": "2022-02-28T14:05:42.434Z"
   },
   {
    "duration": 6,
    "start_time": "2022-02-28T14:05:42.441Z"
   },
   {
    "duration": 422,
    "start_time": "2022-02-28T14:08:22.189Z"
   },
   {
    "duration": 373,
    "start_time": "2022-02-28T14:08:37.206Z"
   },
   {
    "duration": 612,
    "start_time": "2022-02-28T16:39:11.434Z"
   },
   {
    "duration": 52,
    "start_time": "2022-02-28T16:39:12.048Z"
   },
   {
    "duration": 19,
    "start_time": "2022-02-28T16:39:12.102Z"
   },
   {
    "duration": 9,
    "start_time": "2022-02-28T16:39:12.123Z"
   },
   {
    "duration": 27,
    "start_time": "2022-02-28T16:39:12.133Z"
   },
   {
    "duration": 14,
    "start_time": "2022-02-28T16:39:12.162Z"
   },
   {
    "duration": 14,
    "start_time": "2022-02-28T16:39:12.178Z"
   },
   {
    "duration": 4,
    "start_time": "2022-02-28T16:39:12.194Z"
   },
   {
    "duration": 14,
    "start_time": "2022-02-28T16:39:12.200Z"
   },
   {
    "duration": 44,
    "start_time": "2022-02-28T16:39:12.216Z"
   },
   {
    "duration": 5,
    "start_time": "2022-02-28T16:39:12.262Z"
   },
   {
    "duration": 12,
    "start_time": "2022-02-28T16:39:12.269Z"
   },
   {
    "duration": 5,
    "start_time": "2022-02-28T16:39:12.282Z"
   },
   {
    "duration": 5,
    "start_time": "2022-02-28T16:39:12.289Z"
   },
   {
    "duration": 4,
    "start_time": "2022-02-28T16:39:12.296Z"
   },
   {
    "duration": 5,
    "start_time": "2022-02-28T16:39:12.301Z"
   },
   {
    "duration": 8,
    "start_time": "2022-02-28T16:39:12.307Z"
   },
   {
    "duration": 60,
    "start_time": "2022-02-28T16:39:12.317Z"
   },
   {
    "duration": 7,
    "start_time": "2022-02-28T16:39:12.378Z"
   },
   {
    "duration": 16,
    "start_time": "2022-02-28T16:39:12.387Z"
   },
   {
    "duration": 2137,
    "start_time": "2022-02-28T16:39:12.405Z"
   },
   {
    "duration": 16,
    "start_time": "2022-02-28T16:39:14.543Z"
   },
   {
    "duration": 7,
    "start_time": "2022-02-28T16:39:14.561Z"
   },
   {
    "duration": 11,
    "start_time": "2022-02-28T16:39:14.570Z"
   },
   {
    "duration": 7,
    "start_time": "2022-02-28T16:39:14.583Z"
   },
   {
    "duration": 7,
    "start_time": "2022-02-28T16:39:14.592Z"
   },
   {
    "duration": 252,
    "start_time": "2022-02-28T16:40:28.278Z"
   },
   {
    "duration": 5,
    "start_time": "2022-02-28T16:40:46.254Z"
   },
   {
    "duration": 17,
    "start_time": "2022-02-28T16:46:36.635Z"
   },
   {
    "duration": 5,
    "start_time": "2022-02-28T16:49:26.805Z"
   },
   {
    "duration": 4,
    "start_time": "2022-02-28T16:49:55.191Z"
   },
   {
    "duration": 4,
    "start_time": "2022-02-28T16:49:58.371Z"
   },
   {
    "duration": 14,
    "start_time": "2022-02-28T18:17:45.302Z"
   },
   {
    "duration": 13,
    "start_time": "2022-02-28T18:17:51.587Z"
   },
   {
    "duration": 4,
    "start_time": "2022-02-28T18:18:15.535Z"
   },
   {
    "duration": 4,
    "start_time": "2022-02-28T18:18:36.037Z"
   },
   {
    "duration": 3,
    "start_time": "2022-02-28T18:18:37.182Z"
   },
   {
    "duration": 12,
    "start_time": "2022-02-28T18:18:57.017Z"
   },
   {
    "duration": 16,
    "start_time": "2022-02-28T18:22:38.672Z"
   },
   {
    "duration": 32,
    "start_time": "2022-02-28T18:23:46.898Z"
   },
   {
    "duration": 16,
    "start_time": "2022-02-28T18:24:32.563Z"
   },
   {
    "duration": 15,
    "start_time": "2022-02-28T18:24:33.642Z"
   },
   {
    "duration": 29,
    "start_time": "2022-02-28T18:24:54.758Z"
   },
   {
    "duration": 15,
    "start_time": "2022-02-28T18:25:10.199Z"
   },
   {
    "duration": 17,
    "start_time": "2022-02-28T18:25:26.238Z"
   },
   {
    "duration": 16,
    "start_time": "2022-02-28T18:25:28.187Z"
   },
   {
    "duration": 16,
    "start_time": "2022-02-28T18:25:40.227Z"
   },
   {
    "duration": 14,
    "start_time": "2022-02-28T18:25:40.909Z"
   },
   {
    "duration": 195,
    "start_time": "2022-02-28T18:27:39.795Z"
   },
   {
    "duration": 4,
    "start_time": "2022-02-28T18:27:57.283Z"
   },
   {
    "duration": 6,
    "start_time": "2022-02-28T18:31:10.728Z"
   },
   {
    "duration": 19,
    "start_time": "2022-02-28T18:32:08.239Z"
   },
   {
    "duration": 4,
    "start_time": "2022-03-01T15:31:30.498Z"
   },
   {
    "duration": 90,
    "start_time": "2022-03-01T15:31:30.504Z"
   },
   {
    "duration": 22,
    "start_time": "2022-03-01T15:31:30.598Z"
   },
   {
    "duration": 19,
    "start_time": "2022-03-01T15:31:30.622Z"
   },
   {
    "duration": 48,
    "start_time": "2022-03-01T15:31:30.644Z"
   },
   {
    "duration": 22,
    "start_time": "2022-03-01T15:31:30.695Z"
   },
   {
    "duration": 24,
    "start_time": "2022-03-01T15:31:30.719Z"
   },
   {
    "duration": 5,
    "start_time": "2022-03-01T15:31:30.774Z"
   },
   {
    "duration": 39,
    "start_time": "2022-03-01T15:31:30.783Z"
   },
   {
    "duration": 39,
    "start_time": "2022-03-01T15:31:30.827Z"
   },
   {
    "duration": 14,
    "start_time": "2022-03-01T15:31:30.869Z"
   },
   {
    "duration": 24,
    "start_time": "2022-03-01T15:31:30.886Z"
   },
   {
    "duration": 11,
    "start_time": "2022-03-01T15:31:30.913Z"
   },
   {
    "duration": 14,
    "start_time": "2022-03-01T15:31:30.926Z"
   },
   {
    "duration": 31,
    "start_time": "2022-03-01T15:31:30.943Z"
   },
   {
    "duration": 16,
    "start_time": "2022-03-01T15:31:30.978Z"
   },
   {
    "duration": 24,
    "start_time": "2022-03-01T15:31:30.997Z"
   },
   {
    "duration": 38,
    "start_time": "2022-03-01T15:31:31.023Z"
   },
   {
    "duration": 14,
    "start_time": "2022-03-01T15:31:31.063Z"
   },
   {
    "duration": 34,
    "start_time": "2022-03-01T15:31:31.079Z"
   },
   {
    "duration": 3479,
    "start_time": "2022-03-01T15:31:31.116Z"
   },
   {
    "duration": 10,
    "start_time": "2022-03-01T15:31:34.597Z"
   },
   {
    "duration": 11,
    "start_time": "2022-03-01T15:31:34.610Z"
   },
   {
    "duration": 16,
    "start_time": "2022-03-01T15:31:34.623Z"
   },
   {
    "duration": 38,
    "start_time": "2022-03-01T15:31:34.641Z"
   },
   {
    "duration": 6,
    "start_time": "2022-03-01T15:31:34.681Z"
   },
   {
    "duration": 6,
    "start_time": "2022-03-01T15:31:34.691Z"
   },
   {
    "duration": 9,
    "start_time": "2022-03-01T15:31:34.699Z"
   },
   {
    "duration": 6,
    "start_time": "2022-03-01T15:31:34.710Z"
   },
   {
    "duration": 58,
    "start_time": "2022-03-01T15:31:34.718Z"
   },
   {
    "duration": 23,
    "start_time": "2022-03-01T15:31:34.778Z"
   },
   {
    "duration": 24,
    "start_time": "2022-03-01T15:31:34.804Z"
   },
   {
    "duration": 6,
    "start_time": "2022-03-01T15:31:34.831Z"
   },
   {
    "duration": 16,
    "start_time": "2022-03-01T15:31:34.874Z"
   },
   {
    "duration": 9,
    "start_time": "2022-03-01T15:31:34.893Z"
   },
   {
    "duration": 31,
    "start_time": "2022-03-01T15:31:34.904Z"
   },
   {
    "duration": 42,
    "start_time": "2022-03-01T15:31:34.939Z"
   },
   {
    "duration": 485,
    "start_time": "2022-03-01T15:31:34.983Z"
   },
   {
    "duration": 110,
    "start_time": "2022-03-01T15:31:35.360Z"
   },
   {
    "duration": 106,
    "start_time": "2022-03-01T15:31:35.365Z"
   },
   {
    "duration": 104,
    "start_time": "2022-03-01T15:31:35.369Z"
   },
   {
    "duration": 86,
    "start_time": "2022-03-01T15:31:35.388Z"
   },
   {
    "duration": 4,
    "start_time": "2022-03-01T15:42:04.845Z"
   },
   {
    "duration": 23,
    "start_time": "2022-03-01T15:42:05.494Z"
   },
   {
    "duration": 23,
    "start_time": "2022-03-01T15:42:06.521Z"
   },
   {
    "duration": 13,
    "start_time": "2022-03-01T15:42:07.337Z"
   },
   {
    "duration": 37,
    "start_time": "2022-03-01T15:42:08.022Z"
   },
   {
    "duration": 25,
    "start_time": "2022-03-01T15:42:08.739Z"
   },
   {
    "duration": 600,
    "start_time": "2022-03-01T18:50:17.146Z"
   },
   {
    "duration": 58,
    "start_time": "2022-03-01T18:50:17.747Z"
   },
   {
    "duration": 18,
    "start_time": "2022-03-01T18:50:17.807Z"
   },
   {
    "duration": 8,
    "start_time": "2022-03-01T18:50:17.827Z"
   },
   {
    "duration": 13,
    "start_time": "2022-03-01T18:50:17.837Z"
   },
   {
    "duration": 36,
    "start_time": "2022-03-01T18:50:17.852Z"
   },
   {
    "duration": 13,
    "start_time": "2022-03-01T18:50:17.890Z"
   },
   {
    "duration": 3,
    "start_time": "2022-03-01T18:50:17.905Z"
   },
   {
    "duration": 12,
    "start_time": "2022-03-01T18:50:17.911Z"
   },
   {
    "duration": 10,
    "start_time": "2022-03-01T18:50:17.925Z"
   },
   {
    "duration": 43,
    "start_time": "2022-03-01T18:50:17.936Z"
   },
   {
    "duration": 8,
    "start_time": "2022-03-01T18:50:17.980Z"
   },
   {
    "duration": 5,
    "start_time": "2022-03-01T18:50:17.989Z"
   },
   {
    "duration": 4,
    "start_time": "2022-03-01T18:50:17.996Z"
   },
   {
    "duration": 5,
    "start_time": "2022-03-01T18:50:18.002Z"
   },
   {
    "duration": 6,
    "start_time": "2022-03-01T18:50:18.008Z"
   },
   {
    "duration": 8,
    "start_time": "2022-03-01T18:50:18.016Z"
   },
   {
    "duration": 52,
    "start_time": "2022-03-01T18:50:18.025Z"
   },
   {
    "duration": 6,
    "start_time": "2022-03-01T18:50:18.079Z"
   },
   {
    "duration": 16,
    "start_time": "2022-03-01T18:50:18.086Z"
   },
   {
    "duration": 2051,
    "start_time": "2022-03-01T18:50:18.103Z"
   },
   {
    "duration": 7,
    "start_time": "2022-03-01T18:50:20.155Z"
   },
   {
    "duration": 15,
    "start_time": "2022-03-01T18:50:20.163Z"
   },
   {
    "duration": 12,
    "start_time": "2022-03-01T18:50:20.179Z"
   },
   {
    "duration": 7,
    "start_time": "2022-03-01T18:50:20.193Z"
   },
   {
    "duration": 6,
    "start_time": "2022-03-01T18:50:20.202Z"
   },
   {
    "duration": 5,
    "start_time": "2022-03-01T18:50:20.211Z"
   },
   {
    "duration": 5,
    "start_time": "2022-03-01T18:50:20.218Z"
   },
   {
    "duration": 5,
    "start_time": "2022-03-01T18:50:20.224Z"
   },
   {
    "duration": 13,
    "start_time": "2022-03-01T18:50:20.231Z"
   },
   {
    "duration": 44,
    "start_time": "2022-03-01T18:50:20.246Z"
   },
   {
    "duration": 19,
    "start_time": "2022-03-01T18:50:20.292Z"
   },
   {
    "duration": 5,
    "start_time": "2022-03-01T18:50:20.313Z"
   },
   {
    "duration": 14,
    "start_time": "2022-03-01T18:50:20.319Z"
   },
   {
    "duration": 9,
    "start_time": "2022-03-01T18:50:20.335Z"
   },
   {
    "duration": 21,
    "start_time": "2022-03-01T18:50:20.377Z"
   },
   {
    "duration": 3,
    "start_time": "2022-03-01T18:50:20.399Z"
   },
   {
    "duration": 17,
    "start_time": "2022-03-01T18:50:20.404Z"
   },
   {
    "duration": 15,
    "start_time": "2022-03-01T18:50:20.423Z"
   },
   {
    "duration": 41,
    "start_time": "2022-03-01T18:50:20.440Z"
   },
   {
    "duration": 24,
    "start_time": "2022-03-01T18:50:20.482Z"
   },
   {
    "duration": 17,
    "start_time": "2022-03-01T18:50:20.508Z"
   },
   {
    "duration": 4,
    "start_time": "2022-03-01T18:50:20.527Z"
   },
   {
    "duration": 7,
    "start_time": "2022-03-01T18:50:20.532Z"
   },
   {
    "duration": 40,
    "start_time": "2022-03-01T18:50:20.541Z"
   },
   {
    "duration": 10,
    "start_time": "2022-03-01T18:50:20.582Z"
   },
   {
    "duration": 14,
    "start_time": "2022-03-01T19:01:59.712Z"
   },
   {
    "duration": 5,
    "start_time": "2022-03-01T19:20:00.883Z"
   },
   {
    "duration": 2,
    "start_time": "2022-03-01T19:28:15.934Z"
   },
   {
    "duration": 63,
    "start_time": "2022-03-01T19:28:15.938Z"
   },
   {
    "duration": 14,
    "start_time": "2022-03-01T19:28:16.003Z"
   },
   {
    "duration": 13,
    "start_time": "2022-03-01T19:28:16.019Z"
   },
   {
    "duration": 16,
    "start_time": "2022-03-01T19:28:16.034Z"
   },
   {
    "duration": 15,
    "start_time": "2022-03-01T19:28:16.078Z"
   },
   {
    "duration": 15,
    "start_time": "2022-03-01T19:28:16.095Z"
   },
   {
    "duration": 4,
    "start_time": "2022-03-01T19:28:16.111Z"
   },
   {
    "duration": 12,
    "start_time": "2022-03-01T19:28:16.118Z"
   },
   {
    "duration": 47,
    "start_time": "2022-03-01T19:28:16.131Z"
   },
   {
    "duration": 8,
    "start_time": "2022-03-01T19:28:16.180Z"
   },
   {
    "duration": 10,
    "start_time": "2022-03-01T19:28:16.189Z"
   },
   {
    "duration": 6,
    "start_time": "2022-03-01T19:28:16.201Z"
   },
   {
    "duration": 6,
    "start_time": "2022-03-01T19:28:16.209Z"
   },
   {
    "duration": 5,
    "start_time": "2022-03-01T19:28:16.217Z"
   },
   {
    "duration": 53,
    "start_time": "2022-03-01T19:28:16.224Z"
   },
   {
    "duration": 9,
    "start_time": "2022-03-01T19:28:16.280Z"
   },
   {
    "duration": 20,
    "start_time": "2022-03-01T19:28:16.291Z"
   },
   {
    "duration": 8,
    "start_time": "2022-03-01T19:28:16.314Z"
   },
   {
    "duration": 16,
    "start_time": "2022-03-01T19:28:16.324Z"
   },
   {
    "duration": 2110,
    "start_time": "2022-03-01T19:28:16.342Z"
   },
   {
    "duration": 7,
    "start_time": "2022-03-01T19:28:18.453Z"
   },
   {
    "duration": 16,
    "start_time": "2022-03-01T19:28:18.462Z"
   },
   {
    "duration": 11,
    "start_time": "2022-03-01T19:28:18.479Z"
   },
   {
    "duration": 7,
    "start_time": "2022-03-01T19:28:18.492Z"
   },
   {
    "duration": 5,
    "start_time": "2022-03-01T19:28:18.501Z"
   },
   {
    "duration": 3,
    "start_time": "2022-03-01T19:28:18.510Z"
   },
   {
    "duration": 4,
    "start_time": "2022-03-01T19:28:18.515Z"
   },
   {
    "duration": 5,
    "start_time": "2022-03-01T19:28:18.521Z"
   },
   {
    "duration": 52,
    "start_time": "2022-03-01T19:28:18.528Z"
   },
   {
    "duration": 15,
    "start_time": "2022-03-01T19:28:18.581Z"
   },
   {
    "duration": 17,
    "start_time": "2022-03-01T19:28:18.597Z"
   },
   {
    "duration": 5,
    "start_time": "2022-03-01T19:28:18.616Z"
   },
   {
    "duration": 12,
    "start_time": "2022-03-01T19:28:18.623Z"
   },
   {
    "duration": 7,
    "start_time": "2022-03-01T19:28:18.637Z"
   },
   {
    "duration": 22,
    "start_time": "2022-03-01T19:28:18.678Z"
   },
   {
    "duration": 4,
    "start_time": "2022-03-01T19:28:18.702Z"
   },
   {
    "duration": 16,
    "start_time": "2022-03-01T19:28:18.708Z"
   },
   {
    "duration": 16,
    "start_time": "2022-03-01T19:28:18.726Z"
   },
   {
    "duration": 42,
    "start_time": "2022-03-01T19:28:18.744Z"
   },
   {
    "duration": 25,
    "start_time": "2022-03-01T19:28:18.788Z"
   },
   {
    "duration": 19,
    "start_time": "2022-03-01T19:28:18.815Z"
   },
   {
    "duration": 5,
    "start_time": "2022-03-01T19:28:18.836Z"
   },
   {
    "duration": 5,
    "start_time": "2022-03-01T19:28:18.876Z"
   },
   {
    "duration": 16,
    "start_time": "2022-03-01T19:28:18.883Z"
   },
   {
    "duration": 10,
    "start_time": "2022-03-01T19:28:18.901Z"
   },
   {
    "duration": 12,
    "start_time": "2022-03-01T19:28:18.913Z"
   },
   {
    "duration": 5,
    "start_time": "2022-03-01T19:28:18.927Z"
   },
   {
    "duration": 47,
    "start_time": "2022-03-01T19:28:18.933Z"
   },
   {
    "duration": 7,
    "start_time": "2022-03-01T19:48:14.614Z"
   },
   {
    "duration": 7,
    "start_time": "2022-03-01T19:48:31.988Z"
   },
   {
    "duration": 8,
    "start_time": "2022-03-01T19:48:57.112Z"
   },
   {
    "duration": 6,
    "start_time": "2022-03-01T19:50:27.288Z"
   },
   {
    "duration": 9,
    "start_time": "2022-03-01T19:51:24.223Z"
   },
   {
    "duration": 5,
    "start_time": "2022-03-01T19:51:57.319Z"
   },
   {
    "duration": 6,
    "start_time": "2022-03-01T19:52:03.724Z"
   },
   {
    "duration": 5,
    "start_time": "2022-03-01T19:52:40.044Z"
   },
   {
    "duration": 319,
    "start_time": "2022-03-01T19:53:02.221Z"
   },
   {
    "duration": 9,
    "start_time": "2022-03-01T19:55:50.955Z"
   },
   {
    "duration": 7,
    "start_time": "2022-03-01T19:56:05.262Z"
   },
   {
    "duration": 8,
    "start_time": "2022-03-01T20:12:55.003Z"
   },
   {
    "duration": 292,
    "start_time": "2022-03-04T17:12:37.451Z"
   },
   {
    "duration": 717,
    "start_time": "2022-03-04T17:13:24.656Z"
   },
   {
    "duration": 74,
    "start_time": "2022-03-04T17:13:25.376Z"
   },
   {
    "duration": 29,
    "start_time": "2022-03-04T17:13:25.453Z"
   },
   {
    "duration": 12,
    "start_time": "2022-03-04T17:13:25.484Z"
   },
   {
    "duration": 21,
    "start_time": "2022-03-04T17:13:25.498Z"
   },
   {
    "duration": 23,
    "start_time": "2022-03-04T17:13:25.551Z"
   },
   {
    "duration": 21,
    "start_time": "2022-03-04T17:13:25.577Z"
   },
   {
    "duration": 5,
    "start_time": "2022-03-04T17:13:25.603Z"
   },
   {
    "duration": 56,
    "start_time": "2022-03-04T17:13:25.612Z"
   },
   {
    "duration": 15,
    "start_time": "2022-03-04T17:13:25.670Z"
   },
   {
    "duration": 7,
    "start_time": "2022-03-04T17:13:25.688Z"
   },
   {
    "duration": 18,
    "start_time": "2022-03-04T17:13:25.697Z"
   },
   {
    "duration": 8,
    "start_time": "2022-03-04T17:13:25.752Z"
   },
   {
    "duration": 11,
    "start_time": "2022-03-04T17:13:25.762Z"
   },
   {
    "duration": 12,
    "start_time": "2022-03-04T17:13:25.775Z"
   },
   {
    "duration": 7,
    "start_time": "2022-03-04T17:13:25.789Z"
   },
   {
    "duration": 21,
    "start_time": "2022-03-04T17:13:25.798Z"
   },
   {
    "duration": 50,
    "start_time": "2022-03-04T17:13:25.821Z"
   },
   {
    "duration": 11,
    "start_time": "2022-03-04T17:13:25.874Z"
   },
   {
    "duration": 32,
    "start_time": "2022-03-04T17:13:25.888Z"
   },
   {
    "duration": 3476,
    "start_time": "2022-03-04T17:13:25.923Z"
   },
   {
    "duration": 10,
    "start_time": "2022-03-04T17:13:29.402Z"
   },
   {
    "duration": 7,
    "start_time": "2022-03-04T17:13:29.418Z"
   },
   {
    "duration": 36,
    "start_time": "2022-03-04T17:13:29.428Z"
   },
   {
    "duration": 10,
    "start_time": "2022-03-04T17:13:29.467Z"
   },
   {
    "duration": 8,
    "start_time": "2022-03-04T17:13:29.479Z"
   },
   {
    "duration": 6,
    "start_time": "2022-03-04T17:13:29.489Z"
   },
   {
    "duration": 54,
    "start_time": "2022-03-04T17:13:29.497Z"
   },
   {
    "duration": 5,
    "start_time": "2022-03-04T17:13:29.553Z"
   },
   {
    "duration": 17,
    "start_time": "2022-03-04T17:13:29.560Z"
   },
   {
    "duration": 19,
    "start_time": "2022-03-04T17:13:29.580Z"
   },
   {
    "duration": 55,
    "start_time": "2022-03-04T17:13:29.601Z"
   },
   {
    "duration": 6,
    "start_time": "2022-03-04T17:13:29.658Z"
   },
   {
    "duration": 18,
    "start_time": "2022-03-04T17:13:29.666Z"
   },
   {
    "duration": 8,
    "start_time": "2022-03-04T17:13:29.686Z"
   },
   {
    "duration": 56,
    "start_time": "2022-03-04T17:13:29.696Z"
   },
   {
    "duration": 4,
    "start_time": "2022-03-04T17:13:29.755Z"
   },
   {
    "duration": 24,
    "start_time": "2022-03-04T17:13:29.761Z"
   },
   {
    "duration": 21,
    "start_time": "2022-03-04T17:13:29.787Z"
   },
   {
    "duration": 47,
    "start_time": "2022-03-04T17:13:29.810Z"
   },
   {
    "duration": 37,
    "start_time": "2022-03-04T17:13:29.859Z"
   },
   {
    "duration": 22,
    "start_time": "2022-03-04T17:13:29.898Z"
   },
   {
    "duration": 29,
    "start_time": "2022-03-04T17:13:29.922Z"
   },
   {
    "duration": 5,
    "start_time": "2022-03-04T17:13:29.953Z"
   },
   {
    "duration": 20,
    "start_time": "2022-03-04T17:13:29.961Z"
   },
   {
    "duration": 13,
    "start_time": "2022-03-04T17:13:29.984Z"
   },
   {
    "duration": 57,
    "start_time": "2022-03-04T17:13:29.999Z"
   },
   {
    "duration": 4,
    "start_time": "2022-03-04T17:13:30.059Z"
   },
   {
    "duration": 30,
    "start_time": "2022-03-04T17:13:30.066Z"
   },
   {
    "duration": 5,
    "start_time": "2022-03-04T17:13:30.098Z"
   },
   {
    "duration": 50,
    "start_time": "2022-03-04T17:13:30.105Z"
   },
   {
    "duration": 319,
    "start_time": "2022-03-04T17:16:30.009Z"
   },
   {
    "duration": 243,
    "start_time": "2022-03-04T17:16:54.079Z"
   },
   {
    "duration": 229,
    "start_time": "2022-03-04T17:17:39.076Z"
   },
   {
    "duration": 246,
    "start_time": "2022-03-04T17:19:32.152Z"
   },
   {
    "duration": 242,
    "start_time": "2022-03-04T17:19:56.253Z"
   },
   {
    "duration": 239,
    "start_time": "2022-03-04T17:21:28.624Z"
   },
   {
    "duration": 247,
    "start_time": "2022-03-04T17:21:55.127Z"
   },
   {
    "duration": 12,
    "start_time": "2022-03-04T17:25:10.747Z"
   },
   {
    "duration": 231,
    "start_time": "2022-03-04T17:46:17.057Z"
   },
   {
    "duration": 3,
    "start_time": "2022-03-04T17:47:30.994Z"
   },
   {
    "duration": 80,
    "start_time": "2022-03-04T17:47:31.001Z"
   },
   {
    "duration": 20,
    "start_time": "2022-03-04T17:47:31.084Z"
   },
   {
    "duration": 46,
    "start_time": "2022-03-04T17:47:31.107Z"
   },
   {
    "duration": 21,
    "start_time": "2022-03-04T17:47:31.155Z"
   },
   {
    "duration": 22,
    "start_time": "2022-03-04T17:47:31.179Z"
   },
   {
    "duration": 56,
    "start_time": "2022-03-04T17:47:31.204Z"
   },
   {
    "duration": 6,
    "start_time": "2022-03-04T17:47:31.262Z"
   },
   {
    "duration": 17,
    "start_time": "2022-03-04T17:47:31.272Z"
   },
   {
    "duration": 23,
    "start_time": "2022-03-04T17:47:31.292Z"
   },
   {
    "duration": 38,
    "start_time": "2022-03-04T17:47:31.318Z"
   },
   {
    "duration": 12,
    "start_time": "2022-03-04T17:47:31.359Z"
   },
   {
    "duration": 8,
    "start_time": "2022-03-04T17:47:31.373Z"
   },
   {
    "duration": 12,
    "start_time": "2022-03-04T17:47:31.383Z"
   },
   {
    "duration": 14,
    "start_time": "2022-03-04T17:47:31.397Z"
   },
   {
    "duration": 40,
    "start_time": "2022-03-04T17:47:31.413Z"
   },
   {
    "duration": 12,
    "start_time": "2022-03-04T17:47:31.455Z"
   },
   {
    "duration": 34,
    "start_time": "2022-03-04T17:47:31.469Z"
   },
   {
    "duration": 11,
    "start_time": "2022-03-04T17:47:31.505Z"
   },
   {
    "duration": 20,
    "start_time": "2022-03-04T17:47:31.551Z"
   },
   {
    "duration": 3491,
    "start_time": "2022-03-04T17:47:31.574Z"
   },
   {
    "duration": 10,
    "start_time": "2022-03-04T17:47:35.067Z"
   },
   {
    "duration": 10,
    "start_time": "2022-03-04T17:47:35.079Z"
   },
   {
    "duration": 14,
    "start_time": "2022-03-04T17:47:35.091Z"
   },
   {
    "duration": 45,
    "start_time": "2022-03-04T17:47:35.107Z"
   },
   {
    "duration": 6,
    "start_time": "2022-03-04T17:47:35.154Z"
   },
   {
    "duration": 5,
    "start_time": "2022-03-04T17:47:35.166Z"
   },
   {
    "duration": 5,
    "start_time": "2022-03-04T17:47:35.174Z"
   },
   {
    "duration": 5,
    "start_time": "2022-03-04T17:47:35.181Z"
   },
   {
    "duration": 72,
    "start_time": "2022-03-04T17:47:35.188Z"
   },
   {
    "duration": 20,
    "start_time": "2022-03-04T17:47:35.263Z"
   },
   {
    "duration": 23,
    "start_time": "2022-03-04T17:47:35.285Z"
   },
   {
    "duration": 42,
    "start_time": "2022-03-04T17:47:35.310Z"
   },
   {
    "duration": 16,
    "start_time": "2022-03-04T17:47:35.354Z"
   },
   {
    "duration": 11,
    "start_time": "2022-03-04T17:47:35.373Z"
   },
   {
    "duration": 28,
    "start_time": "2022-03-04T17:47:35.386Z"
   },
   {
    "duration": 4,
    "start_time": "2022-03-04T17:47:35.416Z"
   },
   {
    "duration": 23,
    "start_time": "2022-03-04T17:47:35.450Z"
   },
   {
    "duration": 23,
    "start_time": "2022-03-04T17:47:35.476Z"
   },
   {
    "duration": 14,
    "start_time": "2022-03-04T17:47:35.502Z"
   },
   {
    "duration": 38,
    "start_time": "2022-03-04T17:47:35.551Z"
   },
   {
    "duration": 62,
    "start_time": "2022-03-04T17:47:35.591Z"
   },
   {
    "duration": 6,
    "start_time": "2022-03-04T17:47:35.656Z"
   },
   {
    "duration": 7,
    "start_time": "2022-03-04T17:47:35.665Z"
   },
   {
    "duration": 29,
    "start_time": "2022-03-04T17:47:35.675Z"
   },
   {
    "duration": 47,
    "start_time": "2022-03-04T17:47:35.707Z"
   },
   {
    "duration": 20,
    "start_time": "2022-03-04T17:47:35.756Z"
   },
   {
    "duration": 4,
    "start_time": "2022-03-04T17:47:35.779Z"
   },
   {
    "duration": 31,
    "start_time": "2022-03-04T17:47:35.786Z"
   },
   {
    "duration": 13,
    "start_time": "2022-03-04T17:47:35.851Z"
   },
   {
    "duration": 10,
    "start_time": "2022-03-04T17:47:35.867Z"
   },
   {
    "duration": 256,
    "start_time": "2022-03-04T17:47:35.879Z"
   },
   {
    "duration": 38,
    "start_time": "2022-03-04T17:48:54.787Z"
   },
   {
    "duration": 33,
    "start_time": "2022-03-04T17:51:28.895Z"
   },
   {
    "duration": 241,
    "start_time": "2022-03-04T17:51:51.914Z"
   },
   {
    "duration": 24,
    "start_time": "2022-03-04T17:52:41.794Z"
   },
   {
    "duration": 15,
    "start_time": "2022-03-04T17:55:37.089Z"
   },
   {
    "duration": 12,
    "start_time": "2022-03-04T18:01:31.492Z"
   },
   {
    "duration": 11,
    "start_time": "2022-03-04T18:10:21.546Z"
   },
   {
    "duration": 4,
    "start_time": "2022-03-04T18:12:48.032Z"
   },
   {
    "duration": 80,
    "start_time": "2022-03-04T18:12:48.039Z"
   },
   {
    "duration": 51,
    "start_time": "2022-03-04T18:12:48.122Z"
   },
   {
    "duration": 17,
    "start_time": "2022-03-04T18:12:48.177Z"
   },
   {
    "duration": 66,
    "start_time": "2022-03-04T18:12:48.197Z"
   },
   {
    "duration": 21,
    "start_time": "2022-03-04T18:12:48.265Z"
   },
   {
    "duration": 21,
    "start_time": "2022-03-04T18:12:48.288Z"
   },
   {
    "duration": 41,
    "start_time": "2022-03-04T18:12:48.312Z"
   },
   {
    "duration": 21,
    "start_time": "2022-03-04T18:12:48.360Z"
   },
   {
    "duration": 14,
    "start_time": "2022-03-04T18:12:48.383Z"
   },
   {
    "duration": 8,
    "start_time": "2022-03-04T18:12:48.400Z"
   },
   {
    "duration": 50,
    "start_time": "2022-03-04T18:12:48.411Z"
   },
   {
    "duration": 7,
    "start_time": "2022-03-04T18:12:48.463Z"
   },
   {
    "duration": 6,
    "start_time": "2022-03-04T18:12:48.473Z"
   },
   {
    "duration": 7,
    "start_time": "2022-03-04T18:12:48.481Z"
   },
   {
    "duration": 6,
    "start_time": "2022-03-04T18:12:48.490Z"
   },
   {
    "duration": 58,
    "start_time": "2022-03-04T18:12:48.499Z"
   },
   {
    "duration": 28,
    "start_time": "2022-03-04T18:12:48.560Z"
   },
   {
    "duration": 11,
    "start_time": "2022-03-04T18:12:48.591Z"
   },
   {
    "duration": 50,
    "start_time": "2022-03-04T18:12:48.604Z"
   },
   {
    "duration": 3535,
    "start_time": "2022-03-04T18:12:48.657Z"
   },
   {
    "duration": 14,
    "start_time": "2022-03-04T18:12:52.195Z"
   },
   {
    "duration": 39,
    "start_time": "2022-03-04T18:12:52.212Z"
   },
   {
    "duration": 21,
    "start_time": "2022-03-04T18:12:52.254Z"
   },
   {
    "duration": 10,
    "start_time": "2022-03-04T18:12:52.277Z"
   },
   {
    "duration": 8,
    "start_time": "2022-03-04T18:12:52.290Z"
   },
   {
    "duration": 48,
    "start_time": "2022-03-04T18:12:52.304Z"
   },
   {
    "duration": 5,
    "start_time": "2022-03-04T18:12:52.355Z"
   },
   {
    "duration": 11,
    "start_time": "2022-03-04T18:12:52.362Z"
   },
   {
    "duration": 22,
    "start_time": "2022-03-04T18:12:52.376Z"
   },
   {
    "duration": 21,
    "start_time": "2022-03-04T18:12:52.401Z"
   },
   {
    "duration": 49,
    "start_time": "2022-03-04T18:12:52.425Z"
   },
   {
    "duration": 7,
    "start_time": "2022-03-04T18:12:52.477Z"
   },
   {
    "duration": 16,
    "start_time": "2022-03-04T18:12:52.486Z"
   },
   {
    "duration": 8,
    "start_time": "2022-03-04T18:12:52.505Z"
   },
   {
    "duration": 28,
    "start_time": "2022-03-04T18:12:52.552Z"
   },
   {
    "duration": 4,
    "start_time": "2022-03-04T18:12:52.583Z"
   },
   {
    "duration": 31,
    "start_time": "2022-03-04T18:12:52.589Z"
   },
   {
    "duration": 47,
    "start_time": "2022-03-04T18:12:52.622Z"
   },
   {
    "duration": 15,
    "start_time": "2022-03-04T18:12:52.672Z"
   },
   {
    "duration": 66,
    "start_time": "2022-03-04T18:12:52.690Z"
   },
   {
    "duration": 25,
    "start_time": "2022-03-04T18:12:52.758Z"
   },
   {
    "duration": 6,
    "start_time": "2022-03-04T18:12:52.785Z"
   },
   {
    "duration": 9,
    "start_time": "2022-03-04T18:12:52.793Z"
   },
   {
    "duration": 48,
    "start_time": "2022-03-04T18:12:52.804Z"
   },
   {
    "duration": 16,
    "start_time": "2022-03-04T18:12:52.854Z"
   },
   {
    "duration": 21,
    "start_time": "2022-03-04T18:12:52.873Z"
   },
   {
    "duration": 6,
    "start_time": "2022-03-04T18:12:52.897Z"
   },
   {
    "duration": 80,
    "start_time": "2022-03-04T18:12:52.905Z"
   },
   {
    "duration": 16,
    "start_time": "2022-03-04T18:12:52.988Z"
   },
   {
    "duration": 13,
    "start_time": "2022-03-04T18:12:53.007Z"
   },
   {
    "duration": 15,
    "start_time": "2022-03-04T18:12:53.051Z"
   },
   {
    "duration": 19,
    "start_time": "2022-03-04T18:20:33.353Z"
   },
   {
    "duration": 13,
    "start_time": "2022-03-04T18:22:10.763Z"
   },
   {
    "duration": 14,
    "start_time": "2022-03-04T18:23:26.814Z"
   },
   {
    "duration": 6,
    "start_time": "2022-03-04T18:23:28.963Z"
   },
   {
    "duration": 13,
    "start_time": "2022-03-04T18:24:02.451Z"
   },
   {
    "duration": 14,
    "start_time": "2022-03-04T18:32:33.841Z"
   },
   {
    "duration": 7,
    "start_time": "2022-03-04T18:32:36.100Z"
   },
   {
    "duration": 43,
    "start_time": "2022-03-04T18:41:10.616Z"
   },
   {
    "duration": 41,
    "start_time": "2022-03-04T18:41:47.913Z"
   },
   {
    "duration": 44,
    "start_time": "2022-03-04T18:41:50.203Z"
   },
   {
    "duration": 15,
    "start_time": "2022-03-04T19:02:18.479Z"
   },
   {
    "duration": 4,
    "start_time": "2022-03-04T19:02:29.038Z"
   },
   {
    "duration": 69,
    "start_time": "2022-03-04T19:02:29.045Z"
   },
   {
    "duration": 45,
    "start_time": "2022-03-04T19:02:29.117Z"
   },
   {
    "duration": 16,
    "start_time": "2022-03-04T19:02:29.164Z"
   },
   {
    "duration": 21,
    "start_time": "2022-03-04T19:02:29.183Z"
   },
   {
    "duration": 57,
    "start_time": "2022-03-04T19:02:29.207Z"
   },
   {
    "duration": 21,
    "start_time": "2022-03-04T19:02:29.267Z"
   },
   {
    "duration": 6,
    "start_time": "2022-03-04T19:02:29.290Z"
   },
   {
    "duration": 57,
    "start_time": "2022-03-04T19:02:29.300Z"
   },
   {
    "duration": 16,
    "start_time": "2022-03-04T19:02:29.360Z"
   },
   {
    "duration": 9,
    "start_time": "2022-03-04T19:02:29.379Z"
   },
   {
    "duration": 12,
    "start_time": "2022-03-04T19:02:29.391Z"
   },
   {
    "duration": 47,
    "start_time": "2022-03-04T19:02:29.405Z"
   },
   {
    "duration": 12,
    "start_time": "2022-03-04T19:02:29.454Z"
   },
   {
    "duration": 6,
    "start_time": "2022-03-04T19:02:29.469Z"
   },
   {
    "duration": 5,
    "start_time": "2022-03-04T19:02:29.477Z"
   },
   {
    "duration": 12,
    "start_time": "2022-03-04T19:02:29.484Z"
   },
   {
    "duration": 69,
    "start_time": "2022-03-04T19:02:29.498Z"
   },
   {
    "duration": 10,
    "start_time": "2022-03-04T19:02:29.569Z"
   },
   {
    "duration": 24,
    "start_time": "2022-03-04T19:02:29.582Z"
   },
   {
    "duration": 3547,
    "start_time": "2022-03-04T19:02:29.609Z"
   },
   {
    "duration": 9,
    "start_time": "2022-03-04T19:02:33.159Z"
   },
   {
    "duration": 12,
    "start_time": "2022-03-04T19:02:33.170Z"
   },
   {
    "duration": 18,
    "start_time": "2022-03-04T19:02:33.185Z"
   },
   {
    "duration": 46,
    "start_time": "2022-03-04T19:02:33.205Z"
   },
   {
    "duration": 7,
    "start_time": "2022-03-04T19:02:33.254Z"
   },
   {
    "duration": 15,
    "start_time": "2022-03-04T19:02:33.267Z"
   },
   {
    "duration": 10,
    "start_time": "2022-03-04T19:02:33.287Z"
   },
   {
    "duration": 6,
    "start_time": "2022-03-04T19:02:33.299Z"
   },
   {
    "duration": 47,
    "start_time": "2022-03-04T19:02:33.307Z"
   },
   {
    "duration": 30,
    "start_time": "2022-03-04T19:02:33.357Z"
   },
   {
    "duration": 25,
    "start_time": "2022-03-04T19:02:33.390Z"
   },
   {
    "duration": 36,
    "start_time": "2022-03-04T19:02:33.417Z"
   },
   {
    "duration": 18,
    "start_time": "2022-03-04T19:02:33.456Z"
   },
   {
    "duration": 11,
    "start_time": "2022-03-04T19:02:33.477Z"
   },
   {
    "duration": 61,
    "start_time": "2022-03-04T19:02:33.491Z"
   },
   {
    "duration": 5,
    "start_time": "2022-03-04T19:02:33.555Z"
   },
   {
    "duration": 32,
    "start_time": "2022-03-04T19:02:33.562Z"
   },
   {
    "duration": 24,
    "start_time": "2022-03-04T19:02:33.597Z"
   },
   {
    "duration": 46,
    "start_time": "2022-03-04T19:02:33.624Z"
   },
   {
    "duration": 40,
    "start_time": "2022-03-04T19:02:33.672Z"
   },
   {
    "duration": 52,
    "start_time": "2022-03-04T19:02:33.714Z"
   },
   {
    "duration": 9,
    "start_time": "2022-03-04T19:02:33.769Z"
   },
   {
    "duration": 9,
    "start_time": "2022-03-04T19:02:33.780Z"
   },
   {
    "duration": 20,
    "start_time": "2022-03-04T19:02:33.792Z"
   },
   {
    "duration": 41,
    "start_time": "2022-03-04T19:02:33.815Z"
   },
   {
    "duration": 19,
    "start_time": "2022-03-04T19:02:33.859Z"
   },
   {
    "duration": 6,
    "start_time": "2022-03-04T19:02:33.880Z"
   },
   {
    "duration": 30,
    "start_time": "2022-03-04T19:02:33.888Z"
   },
   {
    "duration": 14,
    "start_time": "2022-03-04T19:02:33.952Z"
   },
   {
    "duration": 10,
    "start_time": "2022-03-04T19:02:33.969Z"
   },
   {
    "duration": 15,
    "start_time": "2022-03-04T19:02:33.982Z"
   },
   {
    "duration": 54,
    "start_time": "2022-03-04T19:02:33.999Z"
   },
   {
    "duration": 7,
    "start_time": "2022-03-04T19:02:34.055Z"
   },
   {
    "duration": 34,
    "start_time": "2022-03-04T19:02:34.065Z"
   },
   {
    "duration": 67,
    "start_time": "2022-03-04T19:02:34.101Z"
   },
   {
    "duration": 14,
    "start_time": "2022-03-04T19:02:34.171Z"
   },
   {
    "duration": 6,
    "start_time": "2022-03-04T19:02:34.187Z"
   },
   {
    "duration": 640,
    "start_time": "2022-03-12T20:26:48.857Z"
   },
   {
    "duration": 79,
    "start_time": "2022-03-12T20:26:49.499Z"
   },
   {
    "duration": 26,
    "start_time": "2022-03-12T20:26:49.581Z"
   },
   {
    "duration": 34,
    "start_time": "2022-03-12T20:26:49.609Z"
   },
   {
    "duration": 28,
    "start_time": "2022-03-12T20:26:49.645Z"
   },
   {
    "duration": 20,
    "start_time": "2022-03-12T20:26:49.675Z"
   },
   {
    "duration": 36,
    "start_time": "2022-03-12T20:26:49.697Z"
   },
   {
    "duration": 5,
    "start_time": "2022-03-12T20:26:49.741Z"
   },
   {
    "duration": 19,
    "start_time": "2022-03-12T20:26:49.750Z"
   },
   {
    "duration": 11,
    "start_time": "2022-03-12T20:26:49.771Z"
   },
   {
    "duration": 7,
    "start_time": "2022-03-12T20:26:49.784Z"
   },
   {
    "duration": 12,
    "start_time": "2022-03-12T20:26:49.793Z"
   },
   {
    "duration": 36,
    "start_time": "2022-03-12T20:26:49.807Z"
   },
   {
    "duration": 16,
    "start_time": "2022-03-12T20:26:49.845Z"
   },
   {
    "duration": 6,
    "start_time": "2022-03-12T20:26:49.863Z"
   },
   {
    "duration": 6,
    "start_time": "2022-03-12T20:26:49.870Z"
   },
   {
    "duration": 8,
    "start_time": "2022-03-12T20:26:49.878Z"
   },
   {
    "duration": 51,
    "start_time": "2022-03-12T20:26:49.888Z"
   },
   {
    "duration": 16,
    "start_time": "2022-03-12T20:26:49.941Z"
   },
   {
    "duration": 20,
    "start_time": "2022-03-12T20:26:49.958Z"
   },
   {
    "duration": 3468,
    "start_time": "2022-03-12T20:26:49.980Z"
   },
   {
    "duration": 8,
    "start_time": "2022-03-12T20:26:53.450Z"
   },
   {
    "duration": 6,
    "start_time": "2022-03-12T20:26:53.462Z"
   },
   {
    "duration": 10,
    "start_time": "2022-03-12T20:26:53.471Z"
   },
   {
    "duration": 6,
    "start_time": "2022-03-12T20:26:53.483Z"
   },
   {
    "duration": 47,
    "start_time": "2022-03-12T20:26:53.491Z"
   },
   {
    "duration": 8,
    "start_time": "2022-03-12T20:26:53.540Z"
   },
   {
    "duration": 4,
    "start_time": "2022-03-12T20:26:53.550Z"
   },
   {
    "duration": 6,
    "start_time": "2022-03-12T20:26:53.555Z"
   },
   {
    "duration": 13,
    "start_time": "2022-03-12T20:26:53.563Z"
   },
   {
    "duration": 14,
    "start_time": "2022-03-12T20:26:53.578Z"
   },
   {
    "duration": 53,
    "start_time": "2022-03-12T20:26:53.594Z"
   },
   {
    "duration": 6,
    "start_time": "2022-03-12T20:26:53.649Z"
   },
   {
    "duration": 11,
    "start_time": "2022-03-12T20:26:53.656Z"
   },
   {
    "duration": 8,
    "start_time": "2022-03-12T20:26:53.669Z"
   },
   {
    "duration": 21,
    "start_time": "2022-03-12T20:26:53.679Z"
   },
   {
    "duration": 4,
    "start_time": "2022-03-12T20:26:53.702Z"
   },
   {
    "duration": 45,
    "start_time": "2022-03-12T20:26:53.707Z"
   },
   {
    "duration": 16,
    "start_time": "2022-03-12T20:26:53.754Z"
   },
   {
    "duration": 15,
    "start_time": "2022-03-12T20:26:53.771Z"
   },
   {
    "duration": 55,
    "start_time": "2022-03-12T20:26:53.788Z"
   },
   {
    "duration": 20,
    "start_time": "2022-03-12T20:26:53.845Z"
   },
   {
    "duration": 5,
    "start_time": "2022-03-12T20:26:53.866Z"
   },
   {
    "duration": 9,
    "start_time": "2022-03-12T20:26:53.872Z"
   },
   {
    "duration": 18,
    "start_time": "2022-03-12T20:26:53.883Z"
   },
   {
    "duration": 9,
    "start_time": "2022-03-12T20:26:53.902Z"
   },
   {
    "duration": 39,
    "start_time": "2022-03-12T20:26:53.912Z"
   },
   {
    "duration": 4,
    "start_time": "2022-03-12T20:26:53.954Z"
   },
   {
    "duration": 26,
    "start_time": "2022-03-12T20:26:53.960Z"
   },
   {
    "duration": 10,
    "start_time": "2022-03-12T20:26:53.989Z"
   },
   {
    "duration": 40,
    "start_time": "2022-03-12T20:26:54.001Z"
   },
   {
    "duration": 12,
    "start_time": "2022-03-12T20:26:54.043Z"
   },
   {
    "duration": 10,
    "start_time": "2022-03-12T20:26:54.057Z"
   },
   {
    "duration": 7,
    "start_time": "2022-03-12T20:26:54.069Z"
   },
   {
    "duration": 27,
    "start_time": "2022-03-12T20:26:54.078Z"
   },
   {
    "duration": 49,
    "start_time": "2022-03-12T20:26:54.107Z"
   },
   {
    "duration": 10,
    "start_time": "2022-03-12T20:26:54.158Z"
   },
   {
    "duration": 4,
    "start_time": "2022-03-12T20:26:54.169Z"
   },
   {
    "duration": 4,
    "start_time": "2022-03-12T20:30:14.716Z"
   },
   {
    "duration": 566,
    "start_time": "2022-03-12T22:51:43.401Z"
   },
   {
    "duration": 54,
    "start_time": "2022-03-12T22:51:43.969Z"
   },
   {
    "duration": 16,
    "start_time": "2022-03-12T22:51:44.024Z"
   },
   {
    "duration": 17,
    "start_time": "2022-03-12T22:51:44.041Z"
   },
   {
    "duration": 16,
    "start_time": "2022-03-12T22:51:44.059Z"
   },
   {
    "duration": 15,
    "start_time": "2022-03-12T22:51:44.077Z"
   },
   {
    "duration": 19,
    "start_time": "2022-03-12T22:51:44.093Z"
   },
   {
    "duration": 4,
    "start_time": "2022-03-12T22:51:44.114Z"
   },
   {
    "duration": 11,
    "start_time": "2022-03-12T22:51:44.120Z"
   },
   {
    "duration": 8,
    "start_time": "2022-03-12T22:51:44.133Z"
   },
   {
    "duration": 4,
    "start_time": "2022-03-12T22:51:44.143Z"
   },
   {
    "duration": 9,
    "start_time": "2022-03-12T22:51:44.148Z"
   },
   {
    "duration": 4,
    "start_time": "2022-03-12T22:51:44.158Z"
   },
   {
    "duration": 6,
    "start_time": "2022-03-12T22:51:44.163Z"
   },
   {
    "duration": 36,
    "start_time": "2022-03-12T22:51:44.170Z"
   },
   {
    "duration": 3,
    "start_time": "2022-03-12T22:51:44.208Z"
   },
   {
    "duration": 7,
    "start_time": "2022-03-12T22:51:44.212Z"
   },
   {
    "duration": 17,
    "start_time": "2022-03-12T22:51:44.221Z"
   },
   {
    "duration": 6,
    "start_time": "2022-03-12T22:51:44.239Z"
   },
   {
    "duration": 13,
    "start_time": "2022-03-12T22:51:44.246Z"
   },
   {
    "duration": 1137,
    "start_time": "2022-03-12T22:51:44.260Z"
   },
   {
    "duration": 8,
    "start_time": "2022-03-12T22:51:45.398Z"
   },
   {
    "duration": 6,
    "start_time": "2022-03-12T22:51:45.407Z"
   },
   {
    "duration": 8,
    "start_time": "2022-03-12T22:51:45.415Z"
   },
   {
    "duration": 4,
    "start_time": "2022-03-12T22:51:45.424Z"
   },
   {
    "duration": 5,
    "start_time": "2022-03-12T22:51:45.429Z"
   },
   {
    "duration": 5,
    "start_time": "2022-03-12T22:51:45.437Z"
   },
   {
    "duration": 3,
    "start_time": "2022-03-12T22:51:45.444Z"
   },
   {
    "duration": 3,
    "start_time": "2022-03-12T22:51:45.449Z"
   },
   {
    "duration": 11,
    "start_time": "2022-03-12T22:51:45.454Z"
   },
   {
    "duration": 51,
    "start_time": "2022-03-12T22:51:45.466Z"
   },
   {
    "duration": 14,
    "start_time": "2022-03-12T22:51:45.519Z"
   },
   {
    "duration": 4,
    "start_time": "2022-03-12T22:51:45.535Z"
   },
   {
    "duration": 13,
    "start_time": "2022-03-12T22:51:45.541Z"
   },
   {
    "duration": 7,
    "start_time": "2022-03-12T22:51:45.555Z"
   },
   {
    "duration": 17,
    "start_time": "2022-03-12T22:51:45.563Z"
   },
   {
    "duration": 3,
    "start_time": "2022-03-12T22:51:45.605Z"
   },
   {
    "duration": 15,
    "start_time": "2022-03-12T22:51:45.610Z"
   },
   {
    "duration": 14,
    "start_time": "2022-03-12T22:51:45.627Z"
   },
   {
    "duration": 8,
    "start_time": "2022-03-12T22:51:45.642Z"
   },
   {
    "duration": 22,
    "start_time": "2022-03-12T22:51:45.651Z"
   },
   {
    "duration": 45,
    "start_time": "2022-03-12T22:51:45.675Z"
   },
   {
    "duration": 4,
    "start_time": "2022-03-12T22:51:45.721Z"
   },
   {
    "duration": 6,
    "start_time": "2022-03-12T22:51:45.727Z"
   },
   {
    "duration": 19,
    "start_time": "2022-03-12T22:51:45.734Z"
   },
   {
    "duration": 8,
    "start_time": "2022-03-12T22:51:45.755Z"
   },
   {
    "duration": 10,
    "start_time": "2022-03-12T22:51:45.764Z"
   },
   {
    "duration": 30,
    "start_time": "2022-03-12T22:51:45.776Z"
   },
   {
    "duration": 18,
    "start_time": "2022-03-12T22:51:45.807Z"
   },
   {
    "duration": 10,
    "start_time": "2022-03-12T22:51:45.826Z"
   },
   {
    "duration": 7,
    "start_time": "2022-03-12T22:51:45.837Z"
   },
   {
    "duration": 8,
    "start_time": "2022-03-12T22:51:45.845Z"
   },
   {
    "duration": 11,
    "start_time": "2022-03-12T22:51:45.854Z"
   },
   {
    "duration": 4,
    "start_time": "2022-03-12T22:51:45.866Z"
   },
   {
    "duration": 42,
    "start_time": "2022-03-12T22:51:45.872Z"
   },
   {
    "duration": 17,
    "start_time": "2022-03-12T22:51:45.915Z"
   },
   {
    "duration": 8,
    "start_time": "2022-03-12T22:51:45.934Z"
   },
   {
    "duration": 4,
    "start_time": "2022-03-12T22:51:45.943Z"
   },
   {
    "duration": 578,
    "start_time": "2022-03-13T21:11:39.018Z"
   },
   {
    "duration": 58,
    "start_time": "2022-03-13T21:11:39.598Z"
   },
   {
    "duration": 17,
    "start_time": "2022-03-13T21:11:39.658Z"
   },
   {
    "duration": 10,
    "start_time": "2022-03-13T21:11:39.677Z"
   },
   {
    "duration": 14,
    "start_time": "2022-03-13T21:11:39.688Z"
   },
   {
    "duration": 38,
    "start_time": "2022-03-13T21:11:39.703Z"
   },
   {
    "duration": 13,
    "start_time": "2022-03-13T21:11:39.743Z"
   },
   {
    "duration": 4,
    "start_time": "2022-03-13T21:11:39.757Z"
   },
   {
    "duration": 12,
    "start_time": "2022-03-13T21:11:39.763Z"
   },
   {
    "duration": 9,
    "start_time": "2022-03-13T21:11:39.777Z"
   },
   {
    "duration": 4,
    "start_time": "2022-03-13T21:11:39.788Z"
   },
   {
    "duration": 44,
    "start_time": "2022-03-13T21:11:39.794Z"
   },
   {
    "duration": 5,
    "start_time": "2022-03-13T21:11:39.839Z"
   },
   {
    "duration": 5,
    "start_time": "2022-03-13T21:11:39.846Z"
   },
   {
    "duration": 4,
    "start_time": "2022-03-13T21:11:39.853Z"
   },
   {
    "duration": 5,
    "start_time": "2022-03-13T21:11:39.858Z"
   },
   {
    "duration": 6,
    "start_time": "2022-03-13T21:11:39.865Z"
   },
   {
    "duration": 17,
    "start_time": "2022-03-13T21:11:39.873Z"
   },
   {
    "duration": 43,
    "start_time": "2022-03-13T21:11:39.891Z"
   },
   {
    "duration": 17,
    "start_time": "2022-03-13T21:11:39.936Z"
   },
   {
    "duration": 9840,
    "start_time": "2022-03-13T21:11:39.955Z"
   },
   {
    "duration": 6,
    "start_time": "2022-03-13T21:11:49.796Z"
   },
   {
    "duration": 5,
    "start_time": "2022-03-13T21:11:49.804Z"
   },
   {
    "duration": 32,
    "start_time": "2022-03-13T21:11:49.811Z"
   },
   {
    "duration": 7,
    "start_time": "2022-03-13T21:11:49.844Z"
   },
   {
    "duration": 6,
    "start_time": "2022-03-13T21:11:49.853Z"
   },
   {
    "duration": 4,
    "start_time": "2022-03-13T21:11:49.863Z"
   },
   {
    "duration": 4,
    "start_time": "2022-03-13T21:11:49.870Z"
   },
   {
    "duration": 7,
    "start_time": "2022-03-13T21:11:49.876Z"
   },
   {
    "duration": 14,
    "start_time": "2022-03-13T21:11:49.884Z"
   },
   {
    "duration": 46,
    "start_time": "2022-03-13T21:11:49.899Z"
   },
   {
    "duration": 24,
    "start_time": "2022-03-13T21:11:49.947Z"
   },
   {
    "duration": 5,
    "start_time": "2022-03-13T21:11:49.973Z"
   },
   {
    "duration": 17,
    "start_time": "2022-03-13T21:11:49.980Z"
   },
   {
    "duration": 36,
    "start_time": "2022-03-13T21:11:49.999Z"
   },
   {
    "duration": 33,
    "start_time": "2022-03-13T21:11:50.037Z"
   },
   {
    "duration": 5,
    "start_time": "2022-03-13T21:11:50.072Z"
   },
   {
    "duration": 18,
    "start_time": "2022-03-13T21:11:50.078Z"
   },
   {
    "duration": 39,
    "start_time": "2022-03-13T21:11:50.098Z"
   },
   {
    "duration": 10,
    "start_time": "2022-03-13T21:11:50.139Z"
   },
   {
    "duration": 25,
    "start_time": "2022-03-13T21:11:50.150Z"
   },
   {
    "duration": 17,
    "start_time": "2022-03-13T21:11:50.176Z"
   },
   {
    "duration": 38,
    "start_time": "2022-03-13T21:11:50.195Z"
   },
   {
    "duration": 5,
    "start_time": "2022-03-13T21:11:50.235Z"
   },
   {
    "duration": 20,
    "start_time": "2022-03-13T21:11:50.242Z"
   },
   {
    "duration": 9,
    "start_time": "2022-03-13T21:11:50.264Z"
   },
   {
    "duration": 17,
    "start_time": "2022-03-13T21:11:50.275Z"
   },
   {
    "duration": 6,
    "start_time": "2022-03-13T21:11:50.294Z"
   },
   {
    "duration": 37,
    "start_time": "2022-03-13T21:11:50.302Z"
   },
   {
    "duration": 11,
    "start_time": "2022-03-13T21:11:50.341Z"
   },
   {
    "duration": 8,
    "start_time": "2022-03-13T21:11:50.354Z"
   },
   {
    "duration": 10,
    "start_time": "2022-03-13T21:11:50.364Z"
   },
   {
    "duration": 13,
    "start_time": "2022-03-13T21:11:50.376Z"
   },
   {
    "duration": 4,
    "start_time": "2022-03-13T21:11:50.391Z"
   },
   {
    "duration": 28,
    "start_time": "2022-03-13T21:11:50.433Z"
   },
   {
    "duration": 22,
    "start_time": "2022-03-13T21:11:50.463Z"
   },
   {
    "duration": 9,
    "start_time": "2022-03-13T21:11:50.486Z"
   },
   {
    "duration": 4,
    "start_time": "2022-03-13T21:11:50.497Z"
   },
   {
    "duration": 2,
    "start_time": "2022-03-13T21:15:52.071Z"
   },
   {
    "duration": 67,
    "start_time": "2022-03-13T21:15:52.075Z"
   },
   {
    "duration": 14,
    "start_time": "2022-03-13T21:15:52.145Z"
   },
   {
    "duration": 12,
    "start_time": "2022-03-13T21:15:52.161Z"
   },
   {
    "duration": 12,
    "start_time": "2022-03-13T21:15:52.175Z"
   },
   {
    "duration": 50,
    "start_time": "2022-03-13T21:15:52.189Z"
   },
   {
    "duration": 13,
    "start_time": "2022-03-13T21:15:52.241Z"
   },
   {
    "duration": 4,
    "start_time": "2022-03-13T21:15:52.255Z"
   },
   {
    "duration": 12,
    "start_time": "2022-03-13T21:15:52.262Z"
   },
   {
    "duration": 10,
    "start_time": "2022-03-13T21:15:52.276Z"
   },
   {
    "duration": 45,
    "start_time": "2022-03-13T21:15:52.288Z"
   },
   {
    "duration": 8,
    "start_time": "2022-03-13T21:15:52.335Z"
   },
   {
    "duration": 5,
    "start_time": "2022-03-13T21:15:52.345Z"
   },
   {
    "duration": 6,
    "start_time": "2022-03-13T21:15:52.351Z"
   },
   {
    "duration": 5,
    "start_time": "2022-03-13T21:15:52.359Z"
   },
   {
    "duration": 4,
    "start_time": "2022-03-13T21:15:52.366Z"
   },
   {
    "duration": 8,
    "start_time": "2022-03-13T21:15:52.371Z"
   },
   {
    "duration": 58,
    "start_time": "2022-03-13T21:15:52.380Z"
   },
   {
    "duration": 6,
    "start_time": "2022-03-13T21:15:52.440Z"
   },
   {
    "duration": 17,
    "start_time": "2022-03-13T21:15:52.448Z"
   },
   {
    "duration": 3275,
    "start_time": "2022-03-13T21:15:52.466Z"
   },
   {
    "duration": 89,
    "start_time": "2022-03-13T21:15:55.655Z"
   },
   {
    "duration": 76,
    "start_time": "2022-03-13T21:15:55.670Z"
   },
   {
    "duration": 60,
    "start_time": "2022-03-13T21:15:55.687Z"
   },
   {
    "duration": 46,
    "start_time": "2022-03-13T21:15:55.703Z"
   },
   {
    "duration": 37,
    "start_time": "2022-03-13T21:15:55.713Z"
   },
   {
    "duration": 33,
    "start_time": "2022-03-13T21:15:55.718Z"
   },
   {
    "duration": 26,
    "start_time": "2022-03-13T21:15:55.727Z"
   },
   {
    "duration": 24,
    "start_time": "2022-03-13T21:15:55.730Z"
   },
   {
    "duration": 21,
    "start_time": "2022-03-13T21:15:55.734Z"
   },
   {
    "duration": 12,
    "start_time": "2022-03-13T21:15:55.745Z"
   },
   {
    "duration": 10,
    "start_time": "2022-03-13T21:15:55.748Z"
   },
   {
    "duration": 1,
    "start_time": "2022-03-13T21:15:55.758Z"
   },
   {
    "duration": 1,
    "start_time": "2022-03-13T21:15:55.760Z"
   },
   {
    "duration": -2,
    "start_time": "2022-03-13T21:15:55.764Z"
   },
   {
    "duration": -2,
    "start_time": "2022-03-13T21:15:55.766Z"
   },
   {
    "duration": -11,
    "start_time": "2022-03-13T21:15:55.776Z"
   },
   {
    "duration": -12,
    "start_time": "2022-03-13T21:15:55.778Z"
   },
   {
    "duration": -14,
    "start_time": "2022-03-13T21:15:55.782Z"
   },
   {
    "duration": -16,
    "start_time": "2022-03-13T21:15:55.785Z"
   },
   {
    "duration": -24,
    "start_time": "2022-03-13T21:15:55.794Z"
   },
   {
    "duration": -25,
    "start_time": "2022-03-13T21:15:55.797Z"
   },
   {
    "duration": -26,
    "start_time": "2022-03-13T21:15:55.799Z"
   },
   {
    "duration": -27,
    "start_time": "2022-03-13T21:15:55.802Z"
   },
   {
    "duration": -35,
    "start_time": "2022-03-13T21:15:55.811Z"
   },
   {
    "duration": -36,
    "start_time": "2022-03-13T21:15:55.814Z"
   },
   {
    "duration": -38,
    "start_time": "2022-03-13T21:15:55.817Z"
   },
   {
    "duration": -40,
    "start_time": "2022-03-13T21:15:55.821Z"
   },
   {
    "duration": 5,
    "start_time": "2022-03-13T21:15:55.829Z"
   },
   {
    "duration": 3,
    "start_time": "2022-03-13T21:15:55.832Z"
   },
   {
    "duration": 1,
    "start_time": "2022-03-13T21:15:55.835Z"
   },
   {
    "duration": -6,
    "start_time": "2022-03-13T21:15:55.844Z"
   },
   {
    "duration": -8,
    "start_time": "2022-03-13T21:15:55.847Z"
   },
   {
    "duration": -9,
    "start_time": "2022-03-13T21:15:55.850Z"
   },
   {
    "duration": -19,
    "start_time": "2022-03-13T21:15:55.861Z"
   },
   {
    "duration": -20,
    "start_time": "2022-03-13T21:15:55.863Z"
   },
   {
    "duration": -23,
    "start_time": "2022-03-13T21:15:55.867Z"
   },
   {
    "duration": -25,
    "start_time": "2022-03-13T21:15:55.870Z"
   },
   {
    "duration": 160,
    "start_time": "2022-03-13T21:17:18.382Z"
   },
   {
    "duration": 3523,
    "start_time": "2022-03-13T21:17:21.637Z"
   },
   {
    "duration": 40,
    "start_time": "2022-03-13T21:18:10.845Z"
   },
   {
    "duration": 9,
    "start_time": "2022-03-13T21:24:15.761Z"
   },
   {
    "duration": 38,
    "start_time": "2022-03-13T21:25:37.633Z"
   },
   {
    "duration": 7,
    "start_time": "2022-03-13T21:25:39.730Z"
   },
   {
    "duration": 791,
    "start_time": "2022-03-14T14:00:43.243Z"
   },
   {
    "duration": 59,
    "start_time": "2022-03-14T14:00:44.036Z"
   },
   {
    "duration": 19,
    "start_time": "2022-03-14T14:00:44.097Z"
   },
   {
    "duration": 10,
    "start_time": "2022-03-14T14:00:44.118Z"
   },
   {
    "duration": 15,
    "start_time": "2022-03-14T14:00:44.129Z"
   },
   {
    "duration": 12,
    "start_time": "2022-03-14T14:00:44.146Z"
   },
   {
    "duration": 17,
    "start_time": "2022-03-14T14:00:44.159Z"
   },
   {
    "duration": 24,
    "start_time": "2022-03-14T14:00:44.178Z"
   },
   {
    "duration": 21,
    "start_time": "2022-03-14T14:00:44.204Z"
   },
   {
    "duration": 10,
    "start_time": "2022-03-14T14:00:44.227Z"
   },
   {
    "duration": 4,
    "start_time": "2022-03-14T14:00:44.239Z"
   },
   {
    "duration": 13,
    "start_time": "2022-03-14T14:00:44.245Z"
   },
   {
    "duration": 6,
    "start_time": "2022-03-14T14:00:44.259Z"
   },
   {
    "duration": 11,
    "start_time": "2022-03-14T14:00:44.267Z"
   },
   {
    "duration": 26,
    "start_time": "2022-03-14T14:00:44.280Z"
   },
   {
    "duration": 5,
    "start_time": "2022-03-14T14:00:44.307Z"
   },
   {
    "duration": 13,
    "start_time": "2022-03-14T14:00:44.314Z"
   },
   {
    "duration": 21,
    "start_time": "2022-03-14T14:00:44.329Z"
   },
   {
    "duration": 8,
    "start_time": "2022-03-14T14:00:44.352Z"
   },
   {
    "duration": 24,
    "start_time": "2022-03-14T14:00:44.361Z"
   },
   {
    "duration": 441,
    "start_time": "2022-03-14T14:00:44.387Z"
   },
   {
    "duration": -31,
    "start_time": "2022-03-14T14:00:44.863Z"
   },
   {
    "duration": -33,
    "start_time": "2022-03-14T14:00:44.866Z"
   },
   {
    "duration": -33,
    "start_time": "2022-03-14T14:00:44.868Z"
   },
   {
    "duration": -35,
    "start_time": "2022-03-14T14:00:44.871Z"
   },
   {
    "duration": -36,
    "start_time": "2022-03-14T14:00:44.873Z"
   },
   {
    "duration": -37,
    "start_time": "2022-03-14T14:00:44.876Z"
   },
   {
    "duration": -38,
    "start_time": "2022-03-14T14:00:44.878Z"
   },
   {
    "duration": -40,
    "start_time": "2022-03-14T14:00:44.881Z"
   },
   {
    "duration": -40,
    "start_time": "2022-03-14T14:00:44.883Z"
   },
   {
    "duration": -40,
    "start_time": "2022-03-14T14:00:44.885Z"
   },
   {
    "duration": -42,
    "start_time": "2022-03-14T14:00:44.888Z"
   },
   {
    "duration": -44,
    "start_time": "2022-03-14T14:00:44.891Z"
   },
   {
    "duration": -44,
    "start_time": "2022-03-14T14:00:44.893Z"
   },
   {
    "duration": -46,
    "start_time": "2022-03-14T14:00:44.895Z"
   },
   {
    "duration": -52,
    "start_time": "2022-03-14T14:00:44.902Z"
   },
   {
    "duration": -55,
    "start_time": "2022-03-14T14:00:44.906Z"
   },
   {
    "duration": -57,
    "start_time": "2022-03-14T14:00:44.908Z"
   },
   {
    "duration": -59,
    "start_time": "2022-03-14T14:00:44.911Z"
   },
   {
    "duration": -60,
    "start_time": "2022-03-14T14:00:44.913Z"
   },
   {
    "duration": -63,
    "start_time": "2022-03-14T14:00:44.916Z"
   },
   {
    "duration": -65,
    "start_time": "2022-03-14T14:00:44.919Z"
   },
   {
    "duration": -68,
    "start_time": "2022-03-14T14:00:44.922Z"
   },
   {
    "duration": -69,
    "start_time": "2022-03-14T14:00:44.924Z"
   },
   {
    "duration": -71,
    "start_time": "2022-03-14T14:00:44.927Z"
   },
   {
    "duration": -72,
    "start_time": "2022-03-14T14:00:44.929Z"
   },
   {
    "duration": -74,
    "start_time": "2022-03-14T14:00:44.932Z"
   },
   {
    "duration": -75,
    "start_time": "2022-03-14T14:00:44.934Z"
   },
   {
    "duration": -77,
    "start_time": "2022-03-14T14:00:44.937Z"
   },
   {
    "duration": -83,
    "start_time": "2022-03-14T14:00:44.943Z"
   },
   {
    "duration": -85,
    "start_time": "2022-03-14T14:00:44.946Z"
   },
   {
    "duration": -87,
    "start_time": "2022-03-14T14:00:44.949Z"
   },
   {
    "duration": -88,
    "start_time": "2022-03-14T14:00:44.951Z"
   },
   {
    "duration": -91,
    "start_time": "2022-03-14T14:00:44.954Z"
   },
   {
    "duration": -92,
    "start_time": "2022-03-14T14:00:44.956Z"
   },
   {
    "duration": -93,
    "start_time": "2022-03-14T14:00:44.958Z"
   },
   {
    "duration": -95,
    "start_time": "2022-03-14T14:00:44.961Z"
   },
   {
    "duration": -96,
    "start_time": "2022-03-14T14:00:44.963Z"
   },
   {
    "duration": 3906,
    "start_time": "2022-03-14T14:06:14.101Z"
   },
   {
    "duration": 9,
    "start_time": "2022-03-14T14:06:22.012Z"
   },
   {
    "duration": 11,
    "start_time": "2022-03-14T14:06:37.238Z"
   },
   {
    "duration": 7,
    "start_time": "2022-03-14T14:06:39.237Z"
   },
   {
    "duration": 10,
    "start_time": "2022-03-14T14:08:57.519Z"
   },
   {
    "duration": 6,
    "start_time": "2022-03-14T14:09:09.070Z"
   },
   {
    "duration": 6,
    "start_time": "2022-03-14T14:09:13.079Z"
   },
   {
    "duration": 793,
    "start_time": "2022-03-14T17:03:35.040Z"
   },
   {
    "duration": 78,
    "start_time": "2022-03-14T17:03:35.836Z"
   },
   {
    "duration": 37,
    "start_time": "2022-03-14T17:03:35.918Z"
   },
   {
    "duration": 14,
    "start_time": "2022-03-14T17:03:35.958Z"
   },
   {
    "duration": 23,
    "start_time": "2022-03-14T17:03:35.975Z"
   },
   {
    "duration": 61,
    "start_time": "2022-03-14T17:03:36.001Z"
   },
   {
    "duration": 20,
    "start_time": "2022-03-14T17:03:36.065Z"
   },
   {
    "duration": 5,
    "start_time": "2022-03-14T17:03:36.089Z"
   },
   {
    "duration": 51,
    "start_time": "2022-03-14T17:03:36.097Z"
   },
   {
    "duration": 15,
    "start_time": "2022-03-14T17:03:36.151Z"
   },
   {
    "duration": 7,
    "start_time": "2022-03-14T17:03:36.168Z"
   },
   {
    "duration": 10,
    "start_time": "2022-03-14T17:03:36.178Z"
   },
   {
    "duration": 7,
    "start_time": "2022-03-14T17:03:36.190Z"
   },
   {
    "duration": 50,
    "start_time": "2022-03-14T17:03:36.199Z"
   },
   {
    "duration": 6,
    "start_time": "2022-03-14T17:03:36.251Z"
   },
   {
    "duration": 6,
    "start_time": "2022-03-14T17:03:36.260Z"
   },
   {
    "duration": 11,
    "start_time": "2022-03-14T17:03:36.269Z"
   },
   {
    "duration": 75,
    "start_time": "2022-03-14T17:03:36.283Z"
   },
   {
    "duration": 10,
    "start_time": "2022-03-14T17:03:36.360Z"
   },
   {
    "duration": 21,
    "start_time": "2022-03-14T17:03:36.372Z"
   },
   {
    "duration": 3488,
    "start_time": "2022-03-14T17:03:36.395Z"
   },
   {
    "duration": 9,
    "start_time": "2022-03-14T17:03:39.886Z"
   },
   {
    "duration": 8,
    "start_time": "2022-03-14T17:03:39.945Z"
   },
   {
    "duration": 14,
    "start_time": "2022-03-14T17:03:39.956Z"
   },
   {
    "duration": 8,
    "start_time": "2022-03-14T17:03:39.972Z"
   },
   {
    "duration": 61,
    "start_time": "2022-03-14T17:03:39.982Z"
   },
   {
    "duration": 5,
    "start_time": "2022-03-14T17:03:40.046Z"
   },
   {
    "duration": 6,
    "start_time": "2022-03-14T17:03:40.053Z"
   },
   {
    "duration": 6,
    "start_time": "2022-03-14T17:03:40.061Z"
   },
   {
    "duration": 17,
    "start_time": "2022-03-14T17:03:40.069Z"
   },
   {
    "duration": 69,
    "start_time": "2022-03-14T17:03:40.088Z"
   },
   {
    "duration": 24,
    "start_time": "2022-03-14T17:03:40.159Z"
   },
   {
    "duration": 58,
    "start_time": "2022-03-14T17:03:40.186Z"
   },
   {
    "duration": 16,
    "start_time": "2022-03-14T17:03:40.247Z"
   },
   {
    "duration": 10,
    "start_time": "2022-03-14T17:03:40.266Z"
   },
   {
    "duration": 6,
    "start_time": "2022-03-14T17:03:40.279Z"
   },
   {
    "duration": 28,
    "start_time": "2022-03-14T17:03:40.343Z"
   },
   {
    "duration": 4,
    "start_time": "2022-03-14T17:03:40.373Z"
   },
   {
    "duration": 72,
    "start_time": "2022-03-14T17:03:40.379Z"
   },
   {
    "duration": 25,
    "start_time": "2022-03-14T17:03:40.454Z"
   },
   {
    "duration": 67,
    "start_time": "2022-03-14T17:03:40.481Z"
   },
   {
    "duration": 92,
    "start_time": "2022-03-14T17:03:40.550Z"
   },
   {
    "duration": 24,
    "start_time": "2022-03-14T17:03:40.644Z"
   },
   {
    "duration": 5,
    "start_time": "2022-03-14T17:03:40.671Z"
   },
   {
    "duration": 11,
    "start_time": "2022-03-14T17:03:40.678Z"
   },
   {
    "duration": 17,
    "start_time": "2022-03-14T17:03:40.744Z"
   },
   {
    "duration": 13,
    "start_time": "2022-03-14T17:03:40.764Z"
   },
   {
    "duration": 71,
    "start_time": "2022-03-14T17:03:40.780Z"
   },
   {
    "duration": 8,
    "start_time": "2022-03-14T17:03:40.853Z"
   },
   {
    "duration": 82,
    "start_time": "2022-03-14T17:03:40.863Z"
   },
   {
    "duration": 16,
    "start_time": "2022-03-14T17:03:40.947Z"
   },
   {
    "duration": 11,
    "start_time": "2022-03-14T17:03:40.965Z"
   },
   {
    "duration": 65,
    "start_time": "2022-03-14T17:03:40.978Z"
   },
   {
    "duration": 13,
    "start_time": "2022-03-14T17:03:41.045Z"
   },
   {
    "duration": 6,
    "start_time": "2022-03-14T17:03:41.061Z"
   },
   {
    "duration": 83,
    "start_time": "2022-03-14T17:03:41.069Z"
   },
   {
    "duration": 30,
    "start_time": "2022-03-14T17:03:41.155Z"
   },
   {
    "duration": 15,
    "start_time": "2022-03-14T17:03:41.242Z"
   },
   {
    "duration": 6,
    "start_time": "2022-03-14T17:03:41.259Z"
   },
   {
    "duration": 4,
    "start_time": "2022-03-14T17:04:41.545Z"
   },
   {
    "duration": 109,
    "start_time": "2022-03-14T17:04:41.552Z"
   },
   {
    "duration": 21,
    "start_time": "2022-03-14T17:04:41.666Z"
   },
   {
    "duration": 67,
    "start_time": "2022-03-14T17:04:41.690Z"
   },
   {
    "duration": 21,
    "start_time": "2022-03-14T17:04:41.759Z"
   },
   {
    "duration": 20,
    "start_time": "2022-03-14T17:04:41.783Z"
   },
   {
    "duration": 52,
    "start_time": "2022-03-14T17:04:41.805Z"
   },
   {
    "duration": 5,
    "start_time": "2022-03-14T17:04:41.859Z"
   },
   {
    "duration": 17,
    "start_time": "2022-03-14T17:04:41.868Z"
   },
   {
    "duration": 17,
    "start_time": "2022-03-14T17:04:41.887Z"
   },
   {
    "duration": 44,
    "start_time": "2022-03-14T17:04:41.907Z"
   },
   {
    "duration": 433,
    "start_time": "2022-03-14T17:04:41.954Z"
   },
   {
    "duration": -163,
    "start_time": "2022-03-14T17:04:42.554Z"
   },
   {
    "duration": -172,
    "start_time": "2022-03-14T17:04:42.564Z"
   },
   {
    "duration": -176,
    "start_time": "2022-03-14T17:04:42.570Z"
   },
   {
    "duration": -187,
    "start_time": "2022-03-14T17:04:42.583Z"
   },
   {
    "duration": -190,
    "start_time": "2022-03-14T17:04:42.587Z"
   },
   {
    "duration": -193,
    "start_time": "2022-03-14T17:04:42.592Z"
   },
   {
    "duration": -195,
    "start_time": "2022-03-14T17:04:42.596Z"
   },
   {
    "duration": -198,
    "start_time": "2022-03-14T17:04:42.600Z"
   },
   {
    "duration": -198,
    "start_time": "2022-03-14T17:04:42.602Z"
   },
   {
    "duration": -201,
    "start_time": "2022-03-14T17:04:42.606Z"
   },
   {
    "duration": -202,
    "start_time": "2022-03-14T17:04:42.609Z"
   },
   {
    "duration": -205,
    "start_time": "2022-03-14T17:04:42.613Z"
   },
   {
    "duration": -206,
    "start_time": "2022-03-14T17:04:42.616Z"
   },
   {
    "duration": -209,
    "start_time": "2022-03-14T17:04:42.620Z"
   },
   {
    "duration": -211,
    "start_time": "2022-03-14T17:04:42.624Z"
   },
   {
    "duration": -214,
    "start_time": "2022-03-14T17:04:42.628Z"
   },
   {
    "duration": -216,
    "start_time": "2022-03-14T17:04:42.632Z"
   },
   {
    "duration": -219,
    "start_time": "2022-03-14T17:04:42.636Z"
   },
   {
    "duration": -220,
    "start_time": "2022-03-14T17:04:42.638Z"
   },
   {
    "duration": -220,
    "start_time": "2022-03-14T17:04:42.641Z"
   },
   {
    "duration": -221,
    "start_time": "2022-03-14T17:04:42.644Z"
   },
   {
    "duration": -224,
    "start_time": "2022-03-14T17:04:42.648Z"
   },
   {
    "duration": -224,
    "start_time": "2022-03-14T17:04:42.650Z"
   },
   {
    "duration": -210,
    "start_time": "2022-03-14T17:04:42.653Z"
   },
   {
    "duration": -212,
    "start_time": "2022-03-14T17:04:42.656Z"
   },
   {
    "duration": -213,
    "start_time": "2022-03-14T17:04:42.659Z"
   },
   {
    "duration": -215,
    "start_time": "2022-03-14T17:04:42.663Z"
   },
   {
    "duration": -217,
    "start_time": "2022-03-14T17:04:42.666Z"
   },
   {
    "duration": -218,
    "start_time": "2022-03-14T17:04:42.669Z"
   },
   {
    "duration": -223,
    "start_time": "2022-03-14T17:04:42.675Z"
   },
   {
    "duration": -224,
    "start_time": "2022-03-14T17:04:42.678Z"
   },
   {
    "duration": -226,
    "start_time": "2022-03-14T17:04:42.681Z"
   },
   {
    "duration": -233,
    "start_time": "2022-03-14T17:04:42.690Z"
   },
   {
    "duration": -236,
    "start_time": "2022-03-14T17:04:42.694Z"
   },
   {
    "duration": -237,
    "start_time": "2022-03-14T17:04:42.697Z"
   },
   {
    "duration": -238,
    "start_time": "2022-03-14T17:04:42.700Z"
   },
   {
    "duration": -240,
    "start_time": "2022-03-14T17:04:42.703Z"
   },
   {
    "duration": -240,
    "start_time": "2022-03-14T17:04:42.705Z"
   },
   {
    "duration": -242,
    "start_time": "2022-03-14T17:04:42.708Z"
   },
   {
    "duration": -243,
    "start_time": "2022-03-14T17:04:42.711Z"
   },
   {
    "duration": -245,
    "start_time": "2022-03-14T17:04:42.714Z"
   },
   {
    "duration": -247,
    "start_time": "2022-03-14T17:04:42.718Z"
   },
   {
    "duration": -249,
    "start_time": "2022-03-14T17:04:42.721Z"
   },
   {
    "duration": -252,
    "start_time": "2022-03-14T17:04:42.725Z"
   },
   {
    "duration": -252,
    "start_time": "2022-03-14T17:04:42.727Z"
   },
   {
    "duration": -254,
    "start_time": "2022-03-14T17:04:42.731Z"
   },
   {
    "duration": -256,
    "start_time": "2022-03-14T17:04:42.734Z"
   },
   {
    "duration": 354,
    "start_time": "2022-03-14T17:06:33.185Z"
   },
   {
    "duration": 325,
    "start_time": "2022-03-14T17:07:58.852Z"
   },
   {
    "duration": 12,
    "start_time": "2022-03-14T17:09:52.879Z"
   },
   {
    "duration": 5,
    "start_time": "2022-03-14T17:09:54.791Z"
   },
   {
    "duration": 12,
    "start_time": "2022-03-14T17:10:06.777Z"
   },
   {
    "duration": 8,
    "start_time": "2022-03-14T17:10:10.387Z"
   },
   {
    "duration": 4,
    "start_time": "2022-03-14T17:10:17.119Z"
   },
   {
    "duration": 79,
    "start_time": "2022-03-14T17:10:17.127Z"
   },
   {
    "duration": 57,
    "start_time": "2022-03-14T17:10:17.210Z"
   },
   {
    "duration": 13,
    "start_time": "2022-03-14T17:10:17.270Z"
   },
   {
    "duration": 64,
    "start_time": "2022-03-14T17:10:17.285Z"
   },
   {
    "duration": 24,
    "start_time": "2022-03-14T17:10:17.352Z"
   },
   {
    "duration": 23,
    "start_time": "2022-03-14T17:10:17.379Z"
   },
   {
    "duration": 41,
    "start_time": "2022-03-14T17:10:17.405Z"
   },
   {
    "duration": 18,
    "start_time": "2022-03-14T17:10:17.450Z"
   },
   {
    "duration": 15,
    "start_time": "2022-03-14T17:10:17.472Z"
   },
   {
    "duration": 7,
    "start_time": "2022-03-14T17:10:17.489Z"
   },
   {
    "duration": 56,
    "start_time": "2022-03-14T17:10:17.498Z"
   },
   {
    "duration": 10,
    "start_time": "2022-03-14T17:10:17.556Z"
   },
   {
    "duration": 10,
    "start_time": "2022-03-14T17:10:17.568Z"
   },
   {
    "duration": 6,
    "start_time": "2022-03-14T17:10:17.580Z"
   },
   {
    "duration": 5,
    "start_time": "2022-03-14T17:10:17.588Z"
   },
   {
    "duration": 50,
    "start_time": "2022-03-14T17:10:17.596Z"
   },
   {
    "duration": 28,
    "start_time": "2022-03-14T17:10:17.649Z"
   },
   {
    "duration": 10,
    "start_time": "2022-03-14T17:10:17.679Z"
   },
   {
    "duration": 61,
    "start_time": "2022-03-14T17:10:17.691Z"
   },
   {
    "duration": 2239,
    "start_time": "2022-03-14T17:10:17.755Z"
   },
   {
    "duration": 10,
    "start_time": "2022-03-14T17:10:19.997Z"
   },
   {
    "duration": 11,
    "start_time": "2022-03-14T17:10:20.009Z"
   },
   {
    "duration": 33,
    "start_time": "2022-03-14T17:10:20.023Z"
   },
   {
    "duration": 14,
    "start_time": "2022-03-14T17:10:20.059Z"
   },
   {
    "duration": 10,
    "start_time": "2022-03-14T17:10:20.076Z"
   },
   {
    "duration": 10,
    "start_time": "2022-03-14T17:10:20.095Z"
   },
   {
    "duration": 43,
    "start_time": "2022-03-14T17:10:20.108Z"
   },
   {
    "duration": 6,
    "start_time": "2022-03-14T17:10:20.153Z"
   },
   {
    "duration": 20,
    "start_time": "2022-03-14T17:10:20.161Z"
   },
   {
    "duration": 21,
    "start_time": "2022-03-14T17:10:20.183Z"
   },
   {
    "duration": 54,
    "start_time": "2022-03-14T17:10:20.207Z"
   },
   {
    "duration": 8,
    "start_time": "2022-03-14T17:10:20.264Z"
   },
   {
    "duration": 18,
    "start_time": "2022-03-14T17:10:20.275Z"
   },
   {
    "duration": 9,
    "start_time": "2022-03-14T17:10:20.296Z"
   },
   {
    "duration": 42,
    "start_time": "2022-03-14T17:10:20.307Z"
   },
   {
    "duration": 38,
    "start_time": "2022-03-14T17:10:20.352Z"
   },
   {
    "duration": 3,
    "start_time": "2022-03-14T17:10:20.393Z"
   },
   {
    "duration": 58,
    "start_time": "2022-03-14T17:10:20.399Z"
   },
   {
    "duration": 23,
    "start_time": "2022-03-14T17:10:20.460Z"
   },
   {
    "duration": 12,
    "start_time": "2022-03-14T17:10:20.486Z"
   },
   {
    "duration": 69,
    "start_time": "2022-03-14T17:10:20.500Z"
   },
   {
    "duration": 38,
    "start_time": "2022-03-14T17:10:20.572Z"
   },
   {
    "duration": 34,
    "start_time": "2022-03-14T17:10:20.613Z"
   },
   {
    "duration": 10,
    "start_time": "2022-03-14T17:10:20.650Z"
   },
   {
    "duration": 23,
    "start_time": "2022-03-14T17:10:20.663Z"
   },
   {
    "duration": 14,
    "start_time": "2022-03-14T17:10:20.688Z"
   },
   {
    "duration": 47,
    "start_time": "2022-03-14T17:10:20.705Z"
   },
   {
    "duration": 9,
    "start_time": "2022-03-14T17:10:20.755Z"
   },
   {
    "duration": 53,
    "start_time": "2022-03-14T17:10:20.767Z"
   },
   {
    "duration": 30,
    "start_time": "2022-03-14T17:10:20.823Z"
   },
   {
    "duration": 11,
    "start_time": "2022-03-14T17:10:20.855Z"
   },
   {
    "duration": 16,
    "start_time": "2022-03-14T17:10:20.868Z"
   },
   {
    "duration": 55,
    "start_time": "2022-03-14T17:10:20.887Z"
   },
   {
    "duration": 7,
    "start_time": "2022-03-14T17:10:20.944Z"
   },
   {
    "duration": 30,
    "start_time": "2022-03-14T17:10:20.954Z"
   },
   {
    "duration": 76,
    "start_time": "2022-03-14T17:10:20.987Z"
   },
   {
    "duration": 18,
    "start_time": "2022-03-14T17:10:21.066Z"
   },
   {
    "duration": 5,
    "start_time": "2022-03-14T17:10:21.087Z"
   },
   {
    "duration": 5,
    "start_time": "2022-03-14T17:55:45.829Z"
   },
   {
    "duration": 28,
    "start_time": "2022-03-14T17:55:47.063Z"
   },
   {
    "duration": 3,
    "start_time": "2022-03-14T17:56:38.604Z"
   },
   {
    "duration": 78,
    "start_time": "2022-03-14T17:56:38.613Z"
   },
   {
    "duration": 58,
    "start_time": "2022-03-14T17:56:38.695Z"
   },
   {
    "duration": 18,
    "start_time": "2022-03-14T17:56:38.757Z"
   },
   {
    "duration": 23,
    "start_time": "2022-03-14T17:56:38.778Z"
   },
   {
    "duration": 58,
    "start_time": "2022-03-14T17:56:38.804Z"
   },
   {
    "duration": 30,
    "start_time": "2022-03-14T17:56:38.865Z"
   },
   {
    "duration": 7,
    "start_time": "2022-03-14T17:56:38.897Z"
   },
   {
    "duration": 54,
    "start_time": "2022-03-14T17:56:38.909Z"
   },
   {
    "duration": 17,
    "start_time": "2022-03-14T17:56:38.968Z"
   },
   {
    "duration": 15,
    "start_time": "2022-03-14T17:56:38.988Z"
   },
   {
    "duration": 63,
    "start_time": "2022-03-14T17:56:39.005Z"
   },
   {
    "duration": 21,
    "start_time": "2022-03-14T17:56:39.071Z"
   },
   {
    "duration": 15,
    "start_time": "2022-03-14T17:56:39.096Z"
   },
   {
    "duration": 19,
    "start_time": "2022-03-14T17:56:39.115Z"
   },
   {
    "duration": 8,
    "start_time": "2022-03-14T17:56:39.137Z"
   },
   {
    "duration": 16,
    "start_time": "2022-03-14T17:56:39.148Z"
   },
   {
    "duration": 38,
    "start_time": "2022-03-14T17:56:39.166Z"
   },
   {
    "duration": 12,
    "start_time": "2022-03-14T17:56:39.207Z"
   },
   {
    "duration": 29,
    "start_time": "2022-03-14T17:56:39.244Z"
   },
   {
    "duration": 2160,
    "start_time": "2022-03-14T17:56:39.276Z"
   },
   {
    "duration": 13,
    "start_time": "2022-03-14T17:56:41.438Z"
   },
   {
    "duration": 8,
    "start_time": "2022-03-14T17:56:41.454Z"
   },
   {
    "duration": 14,
    "start_time": "2022-03-14T17:56:41.467Z"
   },
   {
    "duration": 8,
    "start_time": "2022-03-14T17:56:41.484Z"
   },
   {
    "duration": 50,
    "start_time": "2022-03-14T17:56:41.494Z"
   },
   {
    "duration": 11,
    "start_time": "2022-03-14T17:56:41.547Z"
   },
   {
    "duration": 8,
    "start_time": "2022-03-14T17:56:41.561Z"
   },
   {
    "duration": 11,
    "start_time": "2022-03-14T17:56:41.572Z"
   },
   {
    "duration": 23,
    "start_time": "2022-03-14T17:56:41.586Z"
   },
   {
    "duration": 55,
    "start_time": "2022-03-14T17:56:41.612Z"
   },
   {
    "duration": 32,
    "start_time": "2022-03-14T17:56:41.670Z"
   },
   {
    "duration": 8,
    "start_time": "2022-03-14T17:56:41.705Z"
   },
   {
    "duration": 41,
    "start_time": "2022-03-14T17:56:41.716Z"
   },
   {
    "duration": 22,
    "start_time": "2022-03-14T17:56:41.759Z"
   },
   {
    "duration": 8,
    "start_time": "2022-03-14T17:56:41.784Z"
   },
   {
    "duration": 64,
    "start_time": "2022-03-14T17:56:41.795Z"
   },
   {
    "duration": 5,
    "start_time": "2022-03-14T17:56:41.862Z"
   },
   {
    "duration": 9,
    "start_time": "2022-03-14T17:56:41.869Z"
   },
   {
    "duration": 22,
    "start_time": "2022-03-14T17:56:41.881Z"
   },
   {
    "duration": 38,
    "start_time": "2022-03-14T17:56:41.906Z"
   },
   {
    "duration": 21,
    "start_time": "2022-03-14T17:56:41.946Z"
   },
   {
    "duration": 7,
    "start_time": "2022-03-14T17:56:41.970Z"
   },
   {
    "duration": 65,
    "start_time": "2022-03-14T17:56:41.979Z"
   },
   {
    "duration": 4,
    "start_time": "2022-03-14T17:56:42.047Z"
   },
   {
    "duration": 29,
    "start_time": "2022-03-14T17:56:42.054Z"
   },
   {
    "duration": 13,
    "start_time": "2022-03-14T17:56:42.085Z"
   },
   {
    "duration": 51,
    "start_time": "2022-03-14T17:56:42.100Z"
   },
   {
    "duration": 14,
    "start_time": "2022-03-14T17:56:42.153Z"
   },
   {
    "duration": 12,
    "start_time": "2022-03-14T17:56:42.170Z"
   },
   {
    "duration": 5,
    "start_time": "2022-03-14T17:56:42.185Z"
   },
   {
    "duration": 101,
    "start_time": "2022-03-14T17:56:42.193Z"
   },
   {
    "duration": 68,
    "start_time": "2022-03-14T17:56:42.296Z"
   },
   {
    "duration": 16,
    "start_time": "2022-03-14T17:56:42.366Z"
   },
   {
    "duration": 6,
    "start_time": "2022-03-14T17:56:42.384Z"
   },
   {
    "duration": 4,
    "start_time": "2022-03-14T17:58:10.741Z"
   },
   {
    "duration": 99,
    "start_time": "2022-03-14T17:58:10.747Z"
   },
   {
    "duration": 19,
    "start_time": "2022-03-14T17:58:10.849Z"
   },
   {
    "duration": 15,
    "start_time": "2022-03-14T17:58:10.870Z"
   },
   {
    "duration": 74,
    "start_time": "2022-03-14T17:58:10.887Z"
   },
   {
    "duration": 21,
    "start_time": "2022-03-14T17:58:10.964Z"
   },
   {
    "duration": 20,
    "start_time": "2022-03-14T17:58:10.989Z"
   },
   {
    "duration": 33,
    "start_time": "2022-03-14T17:58:11.011Z"
   },
   {
    "duration": 18,
    "start_time": "2022-03-14T17:58:11.047Z"
   },
   {
    "duration": 14,
    "start_time": "2022-03-14T17:58:11.067Z"
   },
   {
    "duration": 6,
    "start_time": "2022-03-14T17:58:11.084Z"
   },
   {
    "duration": 11,
    "start_time": "2022-03-14T17:58:11.144Z"
   },
   {
    "duration": 7,
    "start_time": "2022-03-14T17:58:11.158Z"
   },
   {
    "duration": 7,
    "start_time": "2022-03-14T17:58:11.168Z"
   },
   {
    "duration": 7,
    "start_time": "2022-03-14T17:58:11.177Z"
   },
   {
    "duration": 7,
    "start_time": "2022-03-14T17:58:11.187Z"
   },
   {
    "duration": 55,
    "start_time": "2022-03-14T17:58:11.196Z"
   },
   {
    "duration": 29,
    "start_time": "2022-03-14T17:58:11.253Z"
   },
   {
    "duration": 15,
    "start_time": "2022-03-14T17:58:11.289Z"
   },
   {
    "duration": 58,
    "start_time": "2022-03-14T17:58:11.308Z"
   },
   {
    "duration": 2150,
    "start_time": "2022-03-14T17:58:11.368Z"
   },
   {
    "duration": 9,
    "start_time": "2022-03-14T17:58:13.521Z"
   },
   {
    "duration": 8,
    "start_time": "2022-03-14T17:58:13.543Z"
   },
   {
    "duration": 15,
    "start_time": "2022-03-14T17:58:13.553Z"
   },
   {
    "duration": 11,
    "start_time": "2022-03-14T17:58:13.570Z"
   },
   {
    "duration": 5,
    "start_time": "2022-03-14T17:58:13.583Z"
   },
   {
    "duration": 54,
    "start_time": "2022-03-14T17:58:13.590Z"
   },
   {
    "duration": 4,
    "start_time": "2022-03-14T17:58:13.647Z"
   },
   {
    "duration": 10,
    "start_time": "2022-03-14T17:58:13.654Z"
   },
   {
    "duration": 22,
    "start_time": "2022-03-14T17:58:13.667Z"
   },
   {
    "duration": 52,
    "start_time": "2022-03-14T17:58:13.691Z"
   },
   {
    "duration": 23,
    "start_time": "2022-03-14T17:58:13.746Z"
   },
   {
    "duration": 6,
    "start_time": "2022-03-14T17:58:13.772Z"
   },
   {
    "duration": 15,
    "start_time": "2022-03-14T17:58:13.781Z"
   },
   {
    "duration": 11,
    "start_time": "2022-03-14T17:58:13.798Z"
   },
   {
    "duration": 6,
    "start_time": "2022-03-14T17:58:13.842Z"
   },
   {
    "duration": 28,
    "start_time": "2022-03-14T17:58:13.851Z"
   },
   {
    "duration": 6,
    "start_time": "2022-03-14T17:58:13.881Z"
   },
   {
    "duration": 6,
    "start_time": "2022-03-14T17:58:13.889Z"
   },
   {
    "duration": 56,
    "start_time": "2022-03-14T17:58:13.898Z"
   },
   {
    "duration": 14,
    "start_time": "2022-03-14T17:58:13.956Z"
   },
   {
    "duration": 19,
    "start_time": "2022-03-14T17:58:13.972Z"
   },
   {
    "duration": 5,
    "start_time": "2022-03-14T17:58:13.993Z"
   },
   {
    "duration": 75,
    "start_time": "2022-03-14T17:58:14.001Z"
   },
   {
    "duration": 5,
    "start_time": "2022-03-14T17:58:14.079Z"
   },
   {
    "duration": 71,
    "start_time": "2022-03-14T17:58:14.087Z"
   },
   {
    "duration": 14,
    "start_time": "2022-03-14T17:58:14.160Z"
   },
   {
    "duration": 9,
    "start_time": "2022-03-14T17:58:14.177Z"
   },
   {
    "duration": 13,
    "start_time": "2022-03-14T17:58:14.188Z"
   },
   {
    "duration": 51,
    "start_time": "2022-03-14T17:58:14.203Z"
   },
   {
    "duration": 6,
    "start_time": "2022-03-14T17:58:14.256Z"
   },
   {
    "duration": 32,
    "start_time": "2022-03-14T17:58:14.265Z"
   },
   {
    "duration": 68,
    "start_time": "2022-03-14T17:58:14.300Z"
   },
   {
    "duration": 16,
    "start_time": "2022-03-14T17:58:14.371Z"
   },
   {
    "duration": 6,
    "start_time": "2022-03-14T17:58:14.394Z"
   },
   {
    "duration": 98,
    "start_time": "2022-03-14T18:13:25.080Z"
   },
   {
    "duration": 110,
    "start_time": "2022-03-14T18:18:22.998Z"
   },
   {
    "duration": 4,
    "start_time": "2022-03-14T18:18:30.665Z"
   },
   {
    "duration": 93,
    "start_time": "2022-03-14T18:18:30.672Z"
   },
   {
    "duration": 19,
    "start_time": "2022-03-14T18:18:30.768Z"
   },
   {
    "duration": 53,
    "start_time": "2022-03-14T18:18:30.792Z"
   },
   {
    "duration": 25,
    "start_time": "2022-03-14T18:18:30.847Z"
   },
   {
    "duration": 71,
    "start_time": "2022-03-14T18:18:30.875Z"
   },
   {
    "duration": 33,
    "start_time": "2022-03-14T18:18:30.949Z"
   },
   {
    "duration": 7,
    "start_time": "2022-03-14T18:18:30.986Z"
   },
   {
    "duration": 53,
    "start_time": "2022-03-14T18:18:30.999Z"
   },
   {
    "duration": 16,
    "start_time": "2022-03-14T18:18:31.056Z"
   },
   {
    "duration": 8,
    "start_time": "2022-03-14T18:18:31.075Z"
   },
   {
    "duration": 18,
    "start_time": "2022-03-14T18:18:31.085Z"
   },
   {
    "duration": 41,
    "start_time": "2022-03-14T18:18:31.105Z"
   },
   {
    "duration": 9,
    "start_time": "2022-03-14T18:18:31.149Z"
   },
   {
    "duration": 8,
    "start_time": "2022-03-14T18:18:31.175Z"
   },
   {
    "duration": 9,
    "start_time": "2022-03-14T18:18:31.185Z"
   },
   {
    "duration": 16,
    "start_time": "2022-03-14T18:18:31.197Z"
   },
   {
    "duration": 44,
    "start_time": "2022-03-14T18:18:31.245Z"
   },
   {
    "duration": 12,
    "start_time": "2022-03-14T18:18:31.292Z"
   },
   {
    "duration": 54,
    "start_time": "2022-03-14T18:18:31.307Z"
   },
   {
    "duration": 2395,
    "start_time": "2022-03-14T18:18:31.364Z"
   },
   {
    "duration": 10,
    "start_time": "2022-03-14T18:18:33.762Z"
   },
   {
    "duration": 14,
    "start_time": "2022-03-14T18:18:33.774Z"
   },
   {
    "duration": 52,
    "start_time": "2022-03-14T18:18:33.791Z"
   },
   {
    "duration": 9,
    "start_time": "2022-03-14T18:18:33.845Z"
   },
   {
    "duration": 7,
    "start_time": "2022-03-14T18:18:33.856Z"
   },
   {
    "duration": 8,
    "start_time": "2022-03-14T18:18:33.868Z"
   },
   {
    "duration": 5,
    "start_time": "2022-03-14T18:18:33.879Z"
   },
   {
    "duration": 74,
    "start_time": "2022-03-14T18:18:33.886Z"
   },
   {
    "duration": 18,
    "start_time": "2022-03-14T18:18:33.963Z"
   },
   {
    "duration": 29,
    "start_time": "2022-03-14T18:18:33.984Z"
   },
   {
    "duration": 51,
    "start_time": "2022-03-14T18:18:34.016Z"
   },
   {
    "duration": 8,
    "start_time": "2022-03-14T18:18:34.069Z"
   },
   {
    "duration": 24,
    "start_time": "2022-03-14T18:18:34.081Z"
   },
   {
    "duration": 39,
    "start_time": "2022-03-14T18:18:34.108Z"
   },
   {
    "duration": 9,
    "start_time": "2022-03-14T18:18:34.150Z"
   },
   {
    "duration": 8,
    "start_time": "2022-03-14T18:18:34.162Z"
   },
   {
    "duration": 9,
    "start_time": "2022-03-14T18:18:34.172Z"
   },
   {
    "duration": 17,
    "start_time": "2022-03-14T18:18:34.184Z"
   },
   {
    "duration": 20,
    "start_time": "2022-03-14T18:18:34.244Z"
   },
   {
    "duration": 28,
    "start_time": "2022-03-14T18:18:34.267Z"
   },
   {
    "duration": 7,
    "start_time": "2022-03-14T18:18:34.298Z"
   },
   {
    "duration": 60,
    "start_time": "2022-03-14T18:18:34.307Z"
   },
   {
    "duration": 5,
    "start_time": "2022-03-14T18:18:34.371Z"
   },
   {
    "duration": 72,
    "start_time": "2022-03-14T18:18:34.379Z"
   },
   {
    "duration": 14,
    "start_time": "2022-03-14T18:18:34.454Z"
   },
   {
    "duration": 15,
    "start_time": "2022-03-14T18:18:34.471Z"
   },
   {
    "duration": 13,
    "start_time": "2022-03-14T18:18:34.490Z"
   },
   {
    "duration": 20,
    "start_time": "2022-03-14T18:18:34.544Z"
   },
   {
    "duration": 101,
    "start_time": "2022-03-14T18:18:34.566Z"
   },
   {
    "duration": 126,
    "start_time": "2022-03-14T18:18:34.544Z"
   },
   {
    "duration": 106,
    "start_time": "2022-03-14T18:18:34.566Z"
   },
   {
    "duration": 104,
    "start_time": "2022-03-14T18:18:34.570Z"
   },
   {
    "duration": 104,
    "start_time": "2022-03-14T18:18:34.573Z"
   },
   {
    "duration": 103,
    "start_time": "2022-03-14T18:18:34.576Z"
   },
   {
    "duration": 40,
    "start_time": "2022-03-14T18:18:51.408Z"
   },
   {
    "duration": 107,
    "start_time": "2022-03-14T18:30:10.591Z"
   },
   {
    "duration": 33,
    "start_time": "2022-03-14T18:30:28.777Z"
   },
   {
    "duration": 20,
    "start_time": "2022-03-14T18:30:37.375Z"
   },
   {
    "duration": 13,
    "start_time": "2022-03-14T18:32:33.947Z"
   },
   {
    "duration": 12,
    "start_time": "2022-03-14T18:32:39.494Z"
   },
   {
    "duration": 34,
    "start_time": "2022-03-14T18:33:02.973Z"
   },
   {
    "duration": 16,
    "start_time": "2022-03-14T18:33:03.668Z"
   },
   {
    "duration": 12,
    "start_time": "2022-03-14T18:33:31.859Z"
   },
   {
    "duration": 18,
    "start_time": "2022-03-14T18:33:57.921Z"
   },
   {
    "duration": 39,
    "start_time": "2022-03-14T18:34:53.961Z"
   },
   {
    "duration": 33,
    "start_time": "2022-03-14T18:36:32.234Z"
   },
   {
    "duration": 32,
    "start_time": "2022-03-14T18:36:33.407Z"
   },
   {
    "duration": 38,
    "start_time": "2022-03-14T18:37:36.847Z"
   },
   {
    "duration": 4,
    "start_time": "2022-03-14T18:41:56.401Z"
   },
   {
    "duration": 77,
    "start_time": "2022-03-14T18:41:56.408Z"
   },
   {
    "duration": 20,
    "start_time": "2022-03-14T18:41:56.488Z"
   },
   {
    "duration": 19,
    "start_time": "2022-03-14T18:41:56.544Z"
   },
   {
    "duration": 24,
    "start_time": "2022-03-14T18:41:56.566Z"
   },
   {
    "duration": 68,
    "start_time": "2022-03-14T18:41:56.593Z"
   },
   {
    "duration": 33,
    "start_time": "2022-03-14T18:41:56.666Z"
   },
   {
    "duration": 7,
    "start_time": "2022-03-14T18:41:56.703Z"
   },
   {
    "duration": 49,
    "start_time": "2022-03-14T18:41:56.713Z"
   },
   {
    "duration": 21,
    "start_time": "2022-03-14T18:41:56.765Z"
   },
   {
    "duration": 11,
    "start_time": "2022-03-14T18:41:56.789Z"
   },
   {
    "duration": 50,
    "start_time": "2022-03-14T18:41:56.803Z"
   },
   {
    "duration": 9,
    "start_time": "2022-03-14T18:41:56.856Z"
   },
   {
    "duration": 8,
    "start_time": "2022-03-14T18:41:56.867Z"
   },
   {
    "duration": 5,
    "start_time": "2022-03-14T18:41:56.877Z"
   },
   {
    "duration": 8,
    "start_time": "2022-03-14T18:41:56.884Z"
   },
   {
    "duration": 57,
    "start_time": "2022-03-14T18:41:56.894Z"
   },
   {
    "duration": 29,
    "start_time": "2022-03-14T18:41:56.953Z"
   },
   {
    "duration": 13,
    "start_time": "2022-03-14T18:41:56.988Z"
   },
   {
    "duration": 56,
    "start_time": "2022-03-14T18:41:57.004Z"
   },
   {
    "duration": 2188,
    "start_time": "2022-03-14T18:41:57.063Z"
   },
   {
    "duration": 13,
    "start_time": "2022-03-14T18:41:59.253Z"
   },
   {
    "duration": 11,
    "start_time": "2022-03-14T18:41:59.269Z"
   },
   {
    "duration": 14,
    "start_time": "2022-03-14T18:41:59.283Z"
   },
   {
    "duration": 49,
    "start_time": "2022-03-14T18:41:59.299Z"
   },
   {
    "duration": 8,
    "start_time": "2022-03-14T18:41:59.351Z"
   },
   {
    "duration": 5,
    "start_time": "2022-03-14T18:41:59.362Z"
   },
   {
    "duration": 8,
    "start_time": "2022-03-14T18:41:59.370Z"
   },
   {
    "duration": 6,
    "start_time": "2022-03-14T18:41:59.380Z"
   },
   {
    "duration": 58,
    "start_time": "2022-03-14T18:41:59.389Z"
   },
   {
    "duration": 22,
    "start_time": "2022-03-14T18:41:59.449Z"
   },
   {
    "duration": 33,
    "start_time": "2022-03-14T18:41:59.474Z"
   },
   {
    "duration": 40,
    "start_time": "2022-03-14T18:41:59.510Z"
   },
   {
    "duration": 17,
    "start_time": "2022-03-14T18:41:59.553Z"
   },
   {
    "duration": 13,
    "start_time": "2022-03-14T18:41:59.573Z"
   },
   {
    "duration": 8,
    "start_time": "2022-03-14T18:41:59.588Z"
   },
   {
    "duration": 47,
    "start_time": "2022-03-14T18:41:59.598Z"
   },
   {
    "duration": 9,
    "start_time": "2022-03-14T18:41:59.648Z"
   },
   {
    "duration": 19,
    "start_time": "2022-03-14T18:41:59.660Z"
   },
   {
    "duration": 14,
    "start_time": "2022-03-14T18:41:59.682Z"
   },
   {
    "duration": 46,
    "start_time": "2022-03-14T18:41:59.698Z"
   },
   {
    "duration": 5,
    "start_time": "2022-03-14T18:41:59.747Z"
   },
   {
    "duration": 49,
    "start_time": "2022-03-14T18:41:59.755Z"
   },
   {
    "duration": 5,
    "start_time": "2022-03-14T18:41:59.807Z"
   },
   {
    "duration": 66,
    "start_time": "2022-03-14T18:41:59.815Z"
   },
   {
    "duration": 80,
    "start_time": "2022-03-14T18:41:59.884Z"
   },
   {
    "duration": 34,
    "start_time": "2022-03-14T18:41:59.966Z"
   },
   {
    "duration": 19,
    "start_time": "2022-03-14T18:42:00.002Z"
   },
   {
    "duration": 44,
    "start_time": "2022-03-14T18:42:00.045Z"
   },
   {
    "duration": 66,
    "start_time": "2022-03-14T18:42:00.092Z"
   },
   {
    "duration": 34,
    "start_time": "2022-03-14T18:42:00.161Z"
   },
   {
    "duration": 72,
    "start_time": "2022-03-14T18:42:00.198Z"
   }
  ],
  "kernelspec": {
   "display_name": "Python 3 (ipykernel)",
   "language": "python",
   "name": "python3"
  },
  "language_info": {
   "codemirror_mode": {
    "name": "ipython",
    "version": 3
   },
   "file_extension": ".py",
   "mimetype": "text/x-python",
   "name": "python",
   "nbconvert_exporter": "python",
   "pygments_lexer": "ipython3",
   "version": "3.9.5"
  },
  "toc": {
   "base_numbering": 1,
   "nav_menu": {},
   "number_sections": false,
   "sideBar": true,
   "skip_h1_title": false,
   "title_cell": "Table of Contents",
   "title_sidebar": "Contents",
   "toc_cell": false,
   "toc_position": {
    "height": "calc(100% - 180px)",
    "left": "10px",
    "top": "150px",
    "width": "298.409px"
   },
   "toc_section_display": true,
   "toc_window_display": true
  }
 },
 "nbformat": 4,
 "nbformat_minor": 5
}
